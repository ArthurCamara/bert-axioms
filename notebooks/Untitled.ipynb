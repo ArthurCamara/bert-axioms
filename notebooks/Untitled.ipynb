{
 "cells": [
  {
   "cell_type": "code",
   "execution_count": 84,
   "metadata": {
    "ExecuteTime": {
     "end_time": "2019-10-29T10:49:19.223539Z",
     "start_time": "2019-10-29T10:49:19.212013Z"
    }
   },
   "outputs": [],
   "source": [
    "import os\n",
    "import pickle\n",
    "from collections import Counter\n",
    "from tqdm.auto import "
   ]
  },
  {
   "cell_type": "code",
   "execution_count": 7,
   "metadata": {
    "ExecuteTime": {
     "end_time": "2019-10-29T10:34:17.609766Z",
     "start_time": "2019-10-29T10:34:17.604784Z"
    }
   },
   "outputs": [],
   "source": [
    "axioms = [\"TFC2\"]\n",
    "data_home = \"/ssd2/arthur/bert-axioms/\"\n",
    "cut = \"cut\"\n",
    "docs_path = os.path.join(data_home, \"docs/msmarco-docs.tokenized.cut.tsv\")\n",
    "offset_path = docs_path + \".offset\"\n",
    "offset_dict = pickle.load(open(offset_path, 'rb'))"
   ]
  },
  {
   "cell_type": "code",
   "execution_count": 90,
   "metadata": {
    "ExecuteTime": {
     "end_time": "2019-10-29T10:52:30.856130Z",
     "start_time": "2019-10-29T10:52:30.582424Z"
    }
   },
   "outputs": [],
   "source": [
    "top_100_path = os.path.join(data_home, \"runs/QL_test-{}.run\".format(cut))\n",
    "all_docs_p = os.path.join(data_home, \"tmp\", \"all_docs.pkl\")\n",
    "docs_lens_p = os.path.join(data_home, \"tmp\", \"docs_lens.pkl\")\n",
    "tuples_p = os.path.join(data_home, \"tmp\", \"tuples.pkl\")\n",
    "all_docs = pickle.load(open(all_docs_p, 'rb'))\n",
    "docs_lens = pickle.load(open(docs_lens_p, 'rb'))\n",
    "tuples = pickle.load(open(tuples_p, 'rb'))\n",
    "scores = {}\n",
    "for line in open(top_100_path):\n",
    "    topic_id, _, doc_id, _, score, _ = line.split(\" \")\n",
    "    scores[\"{}-{}\".format(topic_id, doc_id)] = float(score)\n"
   ]
  },
  {
   "cell_type": "code",
   "execution_count": 75,
   "metadata": {
    "ExecuteTime": {
     "end_time": "2019-10-29T10:47:18.260742Z",
     "start_time": "2019-10-29T10:47:18.241780Z"
    }
   },
   "outputs": [
    {
     "name": "stdout",
     "output_type": "stream",
     "text": [
      "padding topics with 22 empty topics\n",
      "Each process will read 33 topics\n"
     ]
    }
   ],
   "source": [
    "queries_file = os.path.join(data_home, \"queries/test.tokenized.tsv\")\n",
    "diagnostics_path = os.path.join(data_home, \"diagnostics\")\n",
    "all_lines = [(x.split(\"\\t\")[0], x.split(\"\\t\")[1].strip().split(\" \")) for x in open(queries_file).readlines()]\n",
    "n_cpus = 48\n",
    "# add padding if needed\n",
    "if len(all_lines) % n_cpus != 0:\n",
    "    print(\"padding topics with %i empty topics\" % (len(all_lines) % n_cpus))\n",
    "while len(all_lines) % n_cpus != 0:\n",
    "    all_lines.append((None, None))\n",
    "chunk_size = len(all_lines)//n_cpus\n",
    "print(\"Each process will read %i topics\" % chunk_size)\n",
    "chunks = [all_lines[i*chunk_size: (i+1)*chunk_size] for i in range(n_cpus)]"
   ]
  },
  {
   "cell_type": "code",
   "execution_count": 94,
   "metadata": {
    "ExecuteTime": {
     "end_time": "2019-10-29T11:43:42.515891Z",
     "start_time": "2019-10-29T11:43:42.510406Z"
    }
   },
   "outputs": [
    {
     "data": {
      "text/plain": [
       "100"
      ]
     },
     "execution_count": 94,
     "metadata": {},
     "output_type": "execute_result"
    }
   ],
   "source": [
    "len(tuples['201376'])"
   ]
  },
  {
   "cell_type": "code",
   "execution_count": 101,
   "metadata": {
    "ExecuteTime": {
     "end_time": "2019-10-29T12:25:16.114393Z",
     "start_time": "2019-10-29T12:25:16.107969Z"
    }
   },
   "outputs": [
    {
     "data": {
      "text/plain": [
       "['201376',\n",
       " '54544',\n",
       " '178627',\n",
       " '257309',\n",
       " '1101276',\n",
       " '342285',\n",
       " '372586',\n",
       " '206117',\n",
       " '141472',\n",
       " '352818',\n",
       " '14151',\n",
       " '323998',\n",
       " '289812',\n",
       " '333486',\n",
       " '73257',\n",
       " '1090170',\n",
       " '127876',\n",
       " '259417',\n",
       " '1101271',\n",
       " '335710',\n",
       " '1090086',\n",
       " '1090077',\n",
       " '1090072',\n",
       " '1090054',\n",
       " '1089964',\n",
       " '1101236',\n",
       " '1089810',\n",
       " '1089776',\n",
       " '1089763',\n",
       " '1089691',\n",
       " '1089688',\n",
       " '1089674',\n",
       " '1089576']"
      ]
     },
     "execution_count": 101,
     "metadata": {},
     "output_type": "execute_result"
    }
   ],
   "source": [
    "[x[0] for x in chunk]"
   ]
  },
  {
   "cell_type": "code",
   "execution_count": 99,
   "metadata": {
    "ExecuteTime": {
     "end_time": "2019-10-29T11:44:25.188222Z",
     "start_time": "2019-10-29T11:44:25.182723Z"
    }
   },
   "outputs": [
    {
     "data": {
      "text/plain": [
       "[('201376', ['here', 'there', 'be', 'dragons', 'comic'])]"
      ]
     },
     "execution_count": 99,
     "metadata": {},
     "output_type": "execute_result"
    }
   ],
   "source": [
    "chunk[:1]"
   ]
  },
  {
   "cell_type": "code",
   "execution_count": 91,
   "metadata": {
    "ExecuteTime": {
     "end_time": "2019-10-29T11:00:25.366251Z",
     "start_time": "2019-10-29T10:52:37.577195Z"
    }
   },
   "outputs": [
    {
     "data": {
      "application/vnd.jupyter.widget-view+json": {
       "model_id": "afefe85fa6b94098a159c9e391ea57cf",
       "version_major": 2,
       "version_minor": 0
      },
      "text/plain": [
       "HBox(children=(IntProgress(value=0, max=33), HTML(value='')))"
      ]
     },
     "metadata": {},
     "output_type": "display_data"
    },
    {
     "name": "stdout",
     "output_type": "stream",
     "text": [
      "\n"
     ]
    }
   ],
   "source": [
    "args  = {\"delta\": 10}\n",
    "def TFC2(chunk, all_docs, tuples, docs_lens, args, qrels):\n",
    "    instances = []\n",
    "    qrels = scores\n",
    "    for sample in tqdm(chunk[:2]):\n",
    "        topic_id, query_terms = sample\n",
    "        query_terms = set(query_terms)\n",
    "        fullfils = 0\n",
    "        for di_id in tuples[topic_id]:\n",
    "            di_text = [w for w in all_docs[di_id] if w in query_terms]\n",
    "            if len(di_text) == 0:\n",
    "                continue\n",
    "            di_terms_counter = Counter(di_text)\n",
    "            sum_di_terms = sum(di_terms_counter.values())\n",
    "            for dj_id in tuples[topic_id]:\n",
    "                if dj_id == di_id:\n",
    "                    continue\n",
    "                if abs(docs_lens[di_id] - docs_lens[dj_id]) > args[\"delta\"]:\n",
    "                    continue\n",
    "                dj_text = [w for w in all_docs[dj_id] if w in query_terms]\n",
    "                if len(dj_text) == 0:\n",
    "                    continue\n",
    "                dj_terms_counter = Counter(dj_text)\n",
    "                sum_dj_terms = sum(dj_terms_counter.values())\n",
    "                for dk_id in tuples[topic_id]:\n",
    "                    if dk_id == di_id or dk_id == dj_id:\n",
    "                        continue\n",
    "                    if (abs(docs_lens[dk_id] - docs_lens[dj_id]) > args[\"delta\"]\n",
    "                       or abs(docs_lens[dk_id] - docs_lens[di_id]) > args[\"delta\"]):  # noqa: W503\n",
    "                        continue\n",
    "                    dk_text = [w for w in all_docs[dk_id] if w in query_terms]\n",
    "                    if len(dk_text) == 0:\n",
    "                        continue\n",
    "                    dk_terms_counter = Counter(dk_text)\n",
    "                    sum_dk_terms = sum(dk_terms_counter.values())\n",
    "                    if not (sum_dk_terms > sum_dj_terms and sum_dj_terms > sum_di_terms and sum_di_terms > 0):\n",
    "                        continue\n",
    "                    flag = False\n",
    "                    for w in query_terms:\n",
    "                        if (dj_terms_counter[w] - di_terms_counter[w]) != (dk_terms_counter[w] - dj_terms_counter[w]):\n",
    "                            flag = True\n",
    "                            break\n",
    "                    if flag:\n",
    "                        continue\n",
    "                    instances.append((topic_id, di_id, dj_id, dk_id))\n",
    "                    di_score = qrels[\"{}-{}\".format(topic_id, di_id)]\n",
    "                    dj_score = qrels[\"{}-{}\".format(topic_id, dj_id)]\n",
    "                    dk_score = qrels[\"{}-{}\".format(topic_id, dk_id)]\n",
    "                    if dj_score - di_score > dk_score - dj_score:\n",
    "                        fullfils += 1\n",
    "    return instances"
   ]
  },
  {
   "cell_type": "code",
   "execution_count": 106,
   "metadata": {
    "ExecuteTime": {
     "end_time": "2019-10-29T12:56:07.650922Z",
     "start_time": "2019-10-29T12:56:07.645358Z"
    }
   },
   "outputs": [
    {
     "data": {
      "text/plain": [
       "('201376', ['here', 'there', 'be', 'dragons', 'comic'])"
      ]
     },
     "execution_count": 106,
     "metadata": {},
     "output_type": "execute_result"
    }
   ],
   "source": []
  },
  {
   "cell_type": "code",
   "execution_count": 122,
   "metadata": {
    "ExecuteTime": {
     "end_time": "2019-10-29T13:00:04.008845Z",
     "start_time": "2019-10-29T13:00:03.872703Z"
    }
   },
   "outputs": [
    {
     "data": {
      "application/vnd.jupyter.widget-view+json": {
       "model_id": "bcabe803179e456caad953ea479a3eb1",
       "version_major": 2,
       "version_minor": 0
      },
      "text/plain": [
       "HBox(children=(IntProgress(value=0, max=48), HTML(value='')))"
      ]
     },
     "metadata": {},
     "output_type": "display_data"
    },
    {
     "name": "stdout",
     "output_type": "stream",
     "text": [
      "\n"
     ]
    }
   ],
   "source": [
    "all_docs_per_chunk = []\n",
    "for chunk in tqdm(chunks):\n",
    "    chunk_dict = {}\n",
    "    for topic, _ in chunk:\n",
    "        if topic is None: \n",
    "            continue\n",
    "        for doc in tuples[topic]:\n",
    "            chunk_dict[doc] = all_docs[doc]\n",
    "    all_docs_per_chunk.append(chunk_dict)\n",
    "    "
   ]
  },
  {
   "cell_type": "code",
   "execution_count": 124,
   "metadata": {
    "ExecuteTime": {
     "end_time": "2019-10-29T13:00:11.218852Z",
     "start_time": "2019-10-29T13:00:11.213361Z"
    }
   },
   "outputs": [
    {
     "data": {
      "text/plain": [
       "True"
      ]
     },
     "execution_count": 124,
     "metadata": {},
     "output_type": "execute_result"
    }
   ],
   "source": [
    "len(all_docs_per_chunk) == len(chunks)\n"
   ]
  }
 ],
 "metadata": {
  "kernelspec": {
   "display_name": "Python 3",
   "language": "python",
   "name": "python3"
  },
  "language_info": {
   "codemirror_mode": {
    "name": "ipython",
    "version": 3
   },
   "file_extension": ".py",
   "mimetype": "text/x-python",
   "name": "python",
   "nbconvert_exporter": "python",
   "pygments_lexer": "ipython3",
   "version": "3.7.3"
  }
 },
 "nbformat": 4,
 "nbformat_minor": 2
}
