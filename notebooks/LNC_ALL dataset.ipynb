{
 "cells": [
  {
   "cell_type": "code",
   "execution_count": 9,
   "metadata": {
    "ExecuteTime": {
     "end_time": "2019-09-11T14:25:49.197478Z",
     "start_time": "2019-09-11T14:25:49.193627Z"
    }
   },
   "outputs": [],
   "source": [
    "import os\n",
    "datasets = ['train','fulldev']\n",
    "data_home = \"/ssd2/arthur/TREC2019/data/\""
   ]
  },
  {
   "cell_type": "code",
   "execution_count": null,
   "metadata": {
    "ExecuteTime": {
     "end_time": "2019-09-11T14:13:25.973131Z",
     "start_time": "2019-09-11T14:13:25.968155Z"
    }
   },
   "outputs": [],
   "source": [
    "triples_file_10neg"
   ]
  },
  {
   "cell_type": "code",
   "execution_count": null,
   "metadata": {
    "ExecuteTime": {
     "end_time": "2019-09-11T14:45:15.569455Z",
     "start_time": "2019-09-11T14:45:15.554877Z"
    }
   },
   "outputs": [],
   "source": [
    "#change DOC_ID of the duplicated item to something else more \n",
    "for dataset in datasets:\n",
    "    triples_file_10neg = os.path.join(data_home, \"triples-tokenized\", \"{}-triples.10neg\".format(dataset))\n",
    "    LNC2_triples_file = os.path.join(data_home, \"triples-tokenized\", \"LNC2_{}-triples.10neg\".format(dataset))\n",
    "    assert os.path.isfile(triples_file_10neg)\n",
    "    with open(triples_file_10neg) as inf, open(LNC2_triples_file, 'w') as outf:\n",
    "        for line in inf:\n",
    "            ids, text, label = line.split(\"\\t\")\n",
    "            print(ids)\n",
    "            text = eval(text)\n",
    "            if len(text) < 512:\n",
    "                sep_token_index = text.index(\"[SEP]\")\n",
    "                doc = text[sep_token_index+1:-1]\n",
    "                query = text[1:sep_token_index]\n",
    "                doc_len = len(doc)\n",
    "                n_tokens_to_be_added = 512 - doc"
   ]
  },
  {
   "cell_type": "code",
   "execution_count": 71,
   "metadata": {
    "ExecuteTime": {
     "end_time": "2019-09-11T15:02:45.583095Z",
     "start_time": "2019-09-11T15:02:45.577835Z"
    }
   },
   "outputs": [
    {
     "data": {
      "text/plain": [
       "289"
      ]
     },
     "execution_count": 71,
     "metadata": {},
     "output_type": "execute_result"
    }
   ],
   "source": [
    "len(text)"
   ]
  },
  {
   "cell_type": "code",
   "execution_count": 75,
   "metadata": {
    "ExecuteTime": {
     "end_time": "2019-09-11T15:03:08.451616Z",
     "start_time": "2019-09-11T15:03:08.445994Z"
    }
   },
   "outputs": [
    {
     "data": {
      "text/plain": [
       "1000"
      ]
     },
     "execution_count": 75,
     "metadata": {},
     "output_type": "execute_result"
    }
   ],
   "source": [
    "len(new_text)"
   ]
  },
  {
   "cell_type": "code",
   "execution_count": 109,
   "metadata": {
    "ExecuteTime": {
     "end_time": "2019-09-11T15:17:32.754926Z",
     "start_time": "2019-09-11T15:17:32.749480Z"
    }
   },
   "outputs": [
    {
     "data": {
      "text/plain": [
       "['indiana', 'state', 'color']"
      ]
     },
     "execution_count": 109,
     "metadata": {},
     "output_type": "execute_result"
    }
   ],
   "source": [
    "query"
   ]
  },
  {
   "cell_type": "code",
   "execution_count": 107,
   "metadata": {
    "ExecuteTime": {
     "end_time": "2019-09-11T15:17:20.964142Z",
     "start_time": "2019-09-11T15:17:20.959056Z"
    }
   },
   "outputs": [
    {
     "data": {
      "text/plain": [
       "505"
      ]
     },
     "execution_count": 107,
     "metadata": {},
     "output_type": "execute_result"
    }
   ],
   "source": [
    "len(doc)"
   ]
  },
  {
   "cell_type": "code",
   "execution_count": 106,
   "metadata": {
    "ExecuteTime": {
     "end_time": "2019-09-11T15:17:04.336474Z",
     "start_time": "2019-09-11T15:17:04.330527Z"
    }
   },
   "outputs": [
    {
     "data": {
      "text/plain": [
       "511"
      ]
     },
     "execution_count": 106,
     "metadata": {},
     "output_type": "execute_result"
    }
   ],
   "source": [
    "len(doc + query + ['sep'] + ['sep'] + ['cls'] )"
   ]
  },
  {
   "cell_type": "code",
   "execution_count": 104,
   "metadata": {
    "ExecuteTime": {
     "end_time": "2019-09-11T15:16:08.741096Z",
     "start_time": "2019-09-11T15:16:08.734375Z"
    }
   },
   "outputs": [],
   "source": [
    "len(text)\n",
    "sep_token_index = text.index(\"[SEP]\")\n",
    "doc = text[sep_token_index+1:-1]\n",
    "query = text[1:sep_token_index]\n",
    "doc_len = len(doc)\n",
    "n_tokens_to_be_added = 512-doc_len-query_len-3\n",
    "n_tokens_to_be_added, len(doc[:n_tokens_to_be_added])\n",
    "doc = doc + doc[:n_tokens_to_be_added]"
   ]
  },
  {
   "cell_type": "code",
   "execution_count": 114,
   "metadata": {
    "ExecuteTime": {
     "end_time": "2019-09-12T13:53:20.205924Z",
     "start_time": "2019-09-12T13:28:09.476507Z"
    }
   },
   "outputs": [
    {
     "data": {
      "application/vnd.jupyter.widget-view+json": {
       "model_id": "6fd0516759ae4425a87a0634271776ab",
       "version_major": 2,
       "version_minor": 0
      },
      "text/plain": [
       "HBox(children=(IntProgress(value=0, max=2935878), HTML(value='')))"
      ]
     },
     "metadata": {},
     "output_type": "display_data"
    },
    {
     "data": {
      "application/vnd.jupyter.widget-view+json": {
       "model_id": "e23096f2d1874fb481d70ee6990dbf62",
       "version_major": 2,
       "version_minor": 0
      },
      "text/plain": [
       "HBox(children=(IntProgress(value=0, max=2935878), HTML(value='')))"
      ]
     },
     "metadata": {},
     "output_type": "display_data"
    }
   ],
   "source": [
    "#change DOC_ID of the duplicated item to something else more \n",
    "from tqdm.auto import tqdm\n",
    "for dataset in datasets:\n",
    "    triples_file_10neg = os.path.join(data_home, \"triples-tokenized\", \"{}-triples.10neg\".format(dataset))\n",
    "    LNC2_triples_file = os.path.join(data_home, \"triples-tokenized\", \"LNC2_{}-triples.10neg\".format(dataset))\n",
    "    assert os.path.isfile(triples_file_10neg)\n",
    "    with open(triples_file_10neg, encoding=\"utf-8\") as inf, open(LNC2_triples_file, 'w', encoding=\"utf-8\") as outf:\n",
    "        for line in tqdm(inf, total=2935878):\n",
    "            ids, text, label = line.split(\"\\t\")\n",
    "            outf.write(line)\n",
    "            text = eval(text)\n",
    "            if len(text) < 512:\n",
    "                sep_token_index = text.index(\"[SEP]\")\n",
    "                doc = text[sep_token_index+1:-1]\n",
    "                query = text[1:sep_token_index]\n",
    "                query_len = len(query)\n",
    "                doc_len = len(doc)\n",
    "                n_tokens_to_be_added = 512 - doc_len - query_len - 3\n",
    "                while len(doc) < n_tokens_to_be_added:\n",
    "                    doc = doc + doc\n",
    "                    n_tokens_to_be_added = 512 - len(doc) - query_len - 3\n",
    "                doc = doc + doc[:n_tokens_to_be_added]\n",
    "                new_text = [\"[CLS]\"] + query + [\"[SEP]\"] + doc + [\"[SEP]\"]\n",
    "                assert len(new_text) == 512\n",
    "                text = new_text\n",
    "                ids = ids +\"-LNC2\"\n",
    "                outf.write(\"{}\\t{}\\t{}\\n\".format(ids, text, label))"
   ]
  },
  {
   "cell_type": "code",
   "execution_count": 67,
   "metadata": {
    "ExecuteTime": {
     "end_time": "2019-09-11T15:01:07.089931Z",
     "start_time": "2019-09-11T15:01:07.080307Z"
    }
   },
   "outputs": [
    {
     "name": "stdout",
     "output_type": "stream",
     "text": [
      "282\n",
      "564\n",
      "1000\n"
     ]
    }
   ],
   "source": [
    "sep_token_index = text.index(\"[SEP]\")\n",
    "doc = text[sep_token_index+1:-1]\n",
    "query = text[1:sep_token_index]\n",
    "query_len = len(query)\n",
    "doc_len = len(doc)\n",
    "n_tokens_to_be_added = 1000 - doc_len - query_len - 3\n",
    "while len(doc) < n_tokens_to_be_added:\n",
    "    doc = doc + doc\n",
    "    n_tokens_to_be_added = 1000 - len(doc) - query_len - 3\n",
    "    print(len(doc))\n",
    "doc = doc + doc[:n_tokens_to_be_added]\n",
    "new_text = [\"[CLS]\"] + query + [\"[SEP]\"] + doc + [\"[SEP]\"]\n",
    "print(len(new_text))"
   ]
  },
  {
   "cell_type": "code",
   "execution_count": 59,
   "metadata": {
    "ExecuteTime": {
     "end_time": "2019-09-11T14:58:14.114263Z",
     "start_time": "2019-09-11T14:58:14.109069Z"
    }
   },
   "outputs": [
    {
     "data": {
      "text/plain": [
       "300"
      ]
     },
     "execution_count": 59,
     "metadata": {},
     "output_type": "execute_result"
    }
   ],
   "source": [
    "len(new_text)"
   ]
  }
 ],
 "metadata": {
  "kernelspec": {
   "display_name": "Python 3",
   "language": "python",
   "name": "python3"
  },
  "language_info": {
   "codemirror_mode": {
    "name": "ipython",
    "version": 3
   },
   "file_extension": ".py",
   "mimetype": "text/x-python",
   "name": "python",
   "nbconvert_exporter": "python",
   "pygments_lexer": "ipython3",
   "version": "3.7.3"
  }
 },
 "nbformat": 4,
 "nbformat_minor": 2
}
