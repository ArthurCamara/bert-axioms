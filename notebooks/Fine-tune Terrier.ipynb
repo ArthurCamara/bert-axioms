{
 "cells": [
  {
   "cell_type": "code",
   "execution_count": 3,
   "metadata": {
    "ExecuteTime": {
     "end_time": "2019-07-22T22:49:46.023199Z",
     "start_time": "2019-07-22T22:49:46.006658Z"
    }
   },
   "outputs": [
    {
     "data": {
      "text/plain": [
       "(500, 500)"
      ]
     },
     "execution_count": 3,
     "metadata": {},
     "output_type": "execute_result"
    }
   ],
   "source": [
    "n_docs"
   ]
  },
  {
   "cell_type": "code",
   "execution_count": 7,
   "metadata": {
    "ExecuteTime": {
     "end_time": "2019-07-22T22:53:36.149185Z",
     "start_time": "2019-07-22T22:53:36.142309Z"
    }
   },
   "outputs": [],
   "source": [
    "import psutil\n",
    "import os\n",
    "reserved_memory = (1024**3)//2\n",
    "available_memory = psutil.virtual_memory()[0]\n",
    "usable_memory = (available_memory - reserved_memory)//1024**2\n",
    "\n",
    "my_env = os.environ.copy()\n",
    "my_env[\"TERRIER_HEAP_MEM\"] = f\"{usable_memory}M\""
   ]
  },
  {
   "cell_type": "code",
   "execution_count": 4,
   "metadata": {
    "ExecuteTime": {
     "end_time": "2019-07-22T22:50:09.218420Z",
     "start_time": "2019-07-22T22:50:09.205078Z"
    }
   },
   "outputs": [
    {
     "name": "stderr",
     "output_type": "stream",
     "text": [
      "\r",
      "0it [00:00, ?it/s]"
     ]
    },
    {
     "name": "stdout",
     "output_type": "stream",
     "text": [
      "5 5\n"
     ]
    },
    {
     "name": "stderr",
     "output_type": "stream",
     "text": [
      "\n"
     ]
    }
   ],
   "source": [
    "import subprocess\n",
    "from tqdm import tqdm\n",
    "import itertools\n",
    "\n",
    "terrier_path = \"/ssd2/arthur/terrier-core\"\n",
    "index_path = \"/ssd2/arthur/TREC2019/data/index/terrier/msmarco_docs\"\n",
    "data_path = \"/ssd2/arthur/TREC2019/data\"\n",
    "cmd = \"\"\"{0}/bin/terrier batchretrieve\n",
    "        tb-I {1}\n",
    "        -o {0}/var/results/run.msmarco_docs.bm25_qe_{2}docs_{3}terms.res\n",
    "        -t {2}/dev.topics -w BM25 -q\n",
    "        -Dtrec.querying.dump.settings=false -Dtrec.output.format.length=1000 -c c:0.87\n",
    "        -Dexpansion.terms={3} -Dexpansion.documents={2}\"\"\"\n",
    "n_docs_range = [5, 10, 15, 20, 50, 100, 150, 200, 250, 300, 350, 500]\n",
    "n_terms_range = [5, 10, 15, 20, 50, 100, 150, 200, 250, 300, 350, 500]\n",
    "\n",
    "for n_docs, n_terms in tqdm(itertools.product(n_docs_range, n_terms_range)):\n",
    "    cmd_to_run = cmd.format(terrier_path, index_path, data_path, n_docs, n_terms)\n",
    "    subprocess.run(cmd_to_run.split())\n",
    "    print(cmd_to_run, env=my_env)"
   ]
  },
  {
   "cell_type": "code",
   "execution_count": 8,
   "metadata": {
    "ExecuteTime": {
     "end_time": "2019-07-22T22:56:31.964991Z",
     "start_time": "2019-07-22T22:56:31.959081Z"
    }
   },
   "outputs": [
    {
     "data": {
      "text/plain": [
       "'/ssd2/arthur/terrier-core/bin/terrier batchretrieve\\n        -I /ssd2/arthur/TREC2019/data/index/terrier/msmarco_docs\\n        -o /ssd2/arthur/terrier-core/var/results/run.msmarco_docs.bm25_qe_/ssd2/arthur/TREC2019/datadocs_(500, 500)terms.res\\n        -t /ssd2/arthur/TREC2019/data/dev.topics -w BM25 -q\\n        -Dtrec.querying.dump.settings=false -Dtrec.output.format.length=1000 -c c:0.87\\n        -Dexpansion.terms=(500, 500) -Dexpansion.documents=/ssd2/arthur/TREC2019/data'"
      ]
     },
     "execution_count": 8,
     "metadata": {},
     "output_type": "execute_result"
    }
   ],
   "source": [
    "cmd_to_run"
   ]
  },
  {
   "cell_type": "code",
   "execution_count": null,
   "metadata": {},
   "outputs": [],
   "source": [
    "cmd = \"/ssd2/arthur/terrier-core/bin/terrier batchevaluate -f -q {}\".format(os.path.join(data_dir, \"msmarco-docdev-qrels.tsv\"))\n",
    "output = subprocess.run(cmd.split(), capture_output=True)\n",
    "print(output.stdout.decode(\"utf-8\").split(\"\\n\"))\n"
   ]
  },
  {
   "cell_type": "code",
   "execution_count": 14,
   "metadata": {
    "ExecuteTime": {
     "end_time": "2019-07-24T13:36:23.481159Z",
     "start_time": "2019-07-24T13:36:23.454107Z"
    }
   },
   "outputs": [
    {
     "name": "stdout",
     "output_type": "stream",
     "text": [
      "srun --partition=general --qos=short --time=4:00:00 --cpus-per-task=2 --mem-per-cpu=4096 --mail-type=END java -cp $ANSERINI io.anserini.search.SearchCollection -topicreader Tsv -index $INDEX -topics $TOPICS -output $OUTPUT/bm25+rm3_10_5.run -bm25 -rm3 -rm3.fbDocs=10 -rm3.fbTerms=5 &\n",
      "srun --partition=general --qos=short --time=4:00:00 --cpus-per-task=2 --mem-per-cpu=4096 --mail-type=END java -cp $ANSERINI io.anserini.search.SearchCollection -topicreader Tsv -index $INDEX -topics $TOPICS -output $OUTPUT/bm25+rm3_10_10.run -bm25 -rm3 -rm3.fbDocs=10 -rm3.fbTerms=10 &\n",
      "srun --partition=general --qos=short --time=4:00:00 --cpus-per-task=2 --mem-per-cpu=4096 --mail-type=END java -cp $ANSERINI io.anserini.search.SearchCollection -topicreader Tsv -index $INDEX -topics $TOPICS -output $OUTPUT/bm25+rm3_10_15.run -bm25 -rm3 -rm3.fbDocs=10 -rm3.fbTerms=15 &\n",
      "srun --partition=general --qos=short --time=4:00:00 --cpus-per-task=2 --mem-per-cpu=4096 --mail-type=END java -cp $ANSERINI io.anserini.search.SearchCollection -topicreader Tsv -index $INDEX -topics $TOPICS -output $OUTPUT/bm25+rm3_10_20.run -bm25 -rm3 -rm3.fbDocs=10 -rm3.fbTerms=20 &\n",
      "srun --partition=general --qos=short --time=4:00:00 --cpus-per-task=2 --mem-per-cpu=4096 --mail-type=END java -cp $ANSERINI io.anserini.search.SearchCollection -topicreader Tsv -index $INDEX -topics $TOPICS -output $OUTPUT/bm25+rm3_10_50.run -bm25 -rm3 -rm3.fbDocs=10 -rm3.fbTerms=50 &\n",
      "srun --partition=general --qos=short --time=4:00:00 --cpus-per-task=2 --mem-per-cpu=4096 --mail-type=END java -cp $ANSERINI io.anserini.search.SearchCollection -topicreader Tsv -index $INDEX -topics $TOPICS -output $OUTPUT/bm25+rm3_10_100.run -bm25 -rm3 -rm3.fbDocs=10 -rm3.fbTerms=100 &\n",
      "srun --partition=general --qos=short --time=4:00:00 --cpus-per-task=2 --mem-per-cpu=4096 --mail-type=END java -cp $ANSERINI io.anserini.search.SearchCollection -topicreader Tsv -index $INDEX -topics $TOPICS -output $OUTPUT/bm25+rm3_10_150.run -bm25 -rm3 -rm3.fbDocs=10 -rm3.fbTerms=150 &\n",
      "srun --partition=general --qos=short --time=4:00:00 --cpus-per-task=2 --mem-per-cpu=4096 --mail-type=END java -cp $ANSERINI io.anserini.search.SearchCollection -topicreader Tsv -index $INDEX -topics $TOPICS -output $OUTPUT/bm25+rm3_10_200.run -bm25 -rm3 -rm3.fbDocs=10 -rm3.fbTerms=200 &\n",
      "srun --partition=general --qos=short --time=4:00:00 --cpus-per-task=2 --mem-per-cpu=4096 --mail-type=END java -cp $ANSERINI io.anserini.search.SearchCollection -topicreader Tsv -index $INDEX -topics $TOPICS -output $OUTPUT/bm25+rm3_10_250.run -bm25 -rm3 -rm3.fbDocs=10 -rm3.fbTerms=250 &\n",
      "srun --partition=general --qos=short --time=4:00:00 --cpus-per-task=2 --mem-per-cpu=4096 --mail-type=END java -cp $ANSERINI io.anserini.search.SearchCollection -topicreader Tsv -index $INDEX -topics $TOPICS -output $OUTPUT/bm25+rm3_10_300.run -bm25 -rm3 -rm3.fbDocs=10 -rm3.fbTerms=300 &\n",
      "srun --partition=general --qos=short --time=4:00:00 --cpus-per-task=2 --mem-per-cpu=4096 --mail-type=END java -cp $ANSERINI io.anserini.search.SearchCollection -topicreader Tsv -index $INDEX -topics $TOPICS -output $OUTPUT/bm25+rm3_10_350.run -bm25 -rm3 -rm3.fbDocs=10 -rm3.fbTerms=350 &\n",
      "srun --partition=general --qos=short --time=4:00:00 --cpus-per-task=2 --mem-per-cpu=4096 --mail-type=END java -cp $ANSERINI io.anserini.search.SearchCollection -topicreader Tsv -index $INDEX -topics $TOPICS -output $OUTPUT/bm25+rm3_10_500.run -bm25 -rm3 -rm3.fbDocs=10 -rm3.fbTerms=500 &\n",
      "srun --partition=general --qos=short --time=4:00:00 --cpus-per-task=2 --mem-per-cpu=4096 --mail-type=END java -cp $ANSERINI io.anserini.search.SearchCollection -topicreader Tsv -index $INDEX -topics $TOPICS -output $OUTPUT/bm25+rm3_15_5.run -bm25 -rm3 -rm3.fbDocs=15 -rm3.fbTerms=5 &\n",
      "srun --partition=general --qos=short --time=4:00:00 --cpus-per-task=2 --mem-per-cpu=4096 --mail-type=END java -cp $ANSERINI io.anserini.search.SearchCollection -topicreader Tsv -index $INDEX -topics $TOPICS -output $OUTPUT/bm25+rm3_15_10.run -bm25 -rm3 -rm3.fbDocs=15 -rm3.fbTerms=10 &\n",
      "srun --partition=general --qos=short --time=4:00:00 --cpus-per-task=2 --mem-per-cpu=4096 --mail-type=END java -cp $ANSERINI io.anserini.search.SearchCollection -topicreader Tsv -index $INDEX -topics $TOPICS -output $OUTPUT/bm25+rm3_15_15.run -bm25 -rm3 -rm3.fbDocs=15 -rm3.fbTerms=15 &\n",
      "srun --partition=general --qos=short --time=4:00:00 --cpus-per-task=2 --mem-per-cpu=4096 --mail-type=END java -cp $ANSERINI io.anserini.search.SearchCollection -topicreader Tsv -index $INDEX -topics $TOPICS -output $OUTPUT/bm25+rm3_15_20.run -bm25 -rm3 -rm3.fbDocs=15 -rm3.fbTerms=20 &\n",
      "srun --partition=general --qos=short --time=4:00:00 --cpus-per-task=2 --mem-per-cpu=4096 --mail-type=END java -cp $ANSERINI io.anserini.search.SearchCollection -topicreader Tsv -index $INDEX -topics $TOPICS -output $OUTPUT/bm25+rm3_15_50.run -bm25 -rm3 -rm3.fbDocs=15 -rm3.fbTerms=50 &\n",
      "srun --partition=general --qos=short --time=4:00:00 --cpus-per-task=2 --mem-per-cpu=4096 --mail-type=END java -cp $ANSERINI io.anserini.search.SearchCollection -topicreader Tsv -index $INDEX -topics $TOPICS -output $OUTPUT/bm25+rm3_15_100.run -bm25 -rm3 -rm3.fbDocs=15 -rm3.fbTerms=100 &\n",
      "srun --partition=general --qos=short --time=4:00:00 --cpus-per-task=2 --mem-per-cpu=4096 --mail-type=END java -cp $ANSERINI io.anserini.search.SearchCollection -topicreader Tsv -index $INDEX -topics $TOPICS -output $OUTPUT/bm25+rm3_15_150.run -bm25 -rm3 -rm3.fbDocs=15 -rm3.fbTerms=150 &\n",
      "srun --partition=general --qos=short --time=4:00:00 --cpus-per-task=2 --mem-per-cpu=4096 --mail-type=END java -cp $ANSERINI io.anserini.search.SearchCollection -topicreader Tsv -index $INDEX -topics $TOPICS -output $OUTPUT/bm25+rm3_15_200.run -bm25 -rm3 -rm3.fbDocs=15 -rm3.fbTerms=200 &\n",
      "srun --partition=general --qos=short --time=4:00:00 --cpus-per-task=2 --mem-per-cpu=4096 --mail-type=END java -cp $ANSERINI io.anserini.search.SearchCollection -topicreader Tsv -index $INDEX -topics $TOPICS -output $OUTPUT/bm25+rm3_15_250.run -bm25 -rm3 -rm3.fbDocs=15 -rm3.fbTerms=250 &\n",
      "srun --partition=general --qos=short --time=4:00:00 --cpus-per-task=2 --mem-per-cpu=4096 --mail-type=END java -cp $ANSERINI io.anserini.search.SearchCollection -topicreader Tsv -index $INDEX -topics $TOPICS -output $OUTPUT/bm25+rm3_15_300.run -bm25 -rm3 -rm3.fbDocs=15 -rm3.fbTerms=300 &\n",
      "srun --partition=general --qos=short --time=4:00:00 --cpus-per-task=2 --mem-per-cpu=4096 --mail-type=END java -cp $ANSERINI io.anserini.search.SearchCollection -topicreader Tsv -index $INDEX -topics $TOPICS -output $OUTPUT/bm25+rm3_15_350.run -bm25 -rm3 -rm3.fbDocs=15 -rm3.fbTerms=350 &\n",
      "srun --partition=general --qos=short --time=4:00:00 --cpus-per-task=2 --mem-per-cpu=4096 --mail-type=END java -cp $ANSERINI io.anserini.search.SearchCollection -topicreader Tsv -index $INDEX -topics $TOPICS -output $OUTPUT/bm25+rm3_15_500.run -bm25 -rm3 -rm3.fbDocs=15 -rm3.fbTerms=500 &\n",
      "srun --partition=general --qos=short --time=4:00:00 --cpus-per-task=2 --mem-per-cpu=4096 --mail-type=END java -cp $ANSERINI io.anserini.search.SearchCollection -topicreader Tsv -index $INDEX -topics $TOPICS -output $OUTPUT/bm25+rm3_20_5.run -bm25 -rm3 -rm3.fbDocs=20 -rm3.fbTerms=5 &\n",
      "srun --partition=general --qos=short --time=4:00:00 --cpus-per-task=2 --mem-per-cpu=4096 --mail-type=END java -cp $ANSERINI io.anserini.search.SearchCollection -topicreader Tsv -index $INDEX -topics $TOPICS -output $OUTPUT/bm25+rm3_20_10.run -bm25 -rm3 -rm3.fbDocs=20 -rm3.fbTerms=10 &\n",
      "srun --partition=general --qos=short --time=4:00:00 --cpus-per-task=2 --mem-per-cpu=4096 --mail-type=END java -cp $ANSERINI io.anserini.search.SearchCollection -topicreader Tsv -index $INDEX -topics $TOPICS -output $OUTPUT/bm25+rm3_20_15.run -bm25 -rm3 -rm3.fbDocs=20 -rm3.fbTerms=15 &\n",
      "srun --partition=general --qos=short --time=4:00:00 --cpus-per-task=2 --mem-per-cpu=4096 --mail-type=END java -cp $ANSERINI io.anserini.search.SearchCollection -topicreader Tsv -index $INDEX -topics $TOPICS -output $OUTPUT/bm25+rm3_20_20.run -bm25 -rm3 -rm3.fbDocs=20 -rm3.fbTerms=20 &\n",
      "srun --partition=general --qos=short --time=4:00:00 --cpus-per-task=2 --mem-per-cpu=4096 --mail-type=END java -cp $ANSERINI io.anserini.search.SearchCollection -topicreader Tsv -index $INDEX -topics $TOPICS -output $OUTPUT/bm25+rm3_20_50.run -bm25 -rm3 -rm3.fbDocs=20 -rm3.fbTerms=50 &\n",
      "srun --partition=general --qos=short --time=4:00:00 --cpus-per-task=2 --mem-per-cpu=4096 --mail-type=END java -cp $ANSERINI io.anserini.search.SearchCollection -topicreader Tsv -index $INDEX -topics $TOPICS -output $OUTPUT/bm25+rm3_20_100.run -bm25 -rm3 -rm3.fbDocs=20 -rm3.fbTerms=100 &\n",
      "srun --partition=general --qos=short --time=4:00:00 --cpus-per-task=2 --mem-per-cpu=4096 --mail-type=END java -cp $ANSERINI io.anserini.search.SearchCollection -topicreader Tsv -index $INDEX -topics $TOPICS -output $OUTPUT/bm25+rm3_20_150.run -bm25 -rm3 -rm3.fbDocs=20 -rm3.fbTerms=150 &\n",
      "srun --partition=general --qos=short --time=4:00:00 --cpus-per-task=2 --mem-per-cpu=4096 --mail-type=END java -cp $ANSERINI io.anserini.search.SearchCollection -topicreader Tsv -index $INDEX -topics $TOPICS -output $OUTPUT/bm25+rm3_20_200.run -bm25 -rm3 -rm3.fbDocs=20 -rm3.fbTerms=200 &\n",
      "srun --partition=general --qos=short --time=4:00:00 --cpus-per-task=2 --mem-per-cpu=4096 --mail-type=END java -cp $ANSERINI io.anserini.search.SearchCollection -topicreader Tsv -index $INDEX -topics $TOPICS -output $OUTPUT/bm25+rm3_20_250.run -bm25 -rm3 -rm3.fbDocs=20 -rm3.fbTerms=250 &\n",
      "srun --partition=general --qos=short --time=4:00:00 --cpus-per-task=2 --mem-per-cpu=4096 --mail-type=END java -cp $ANSERINI io.anserini.search.SearchCollection -topicreader Tsv -index $INDEX -topics $TOPICS -output $OUTPUT/bm25+rm3_20_300.run -bm25 -rm3 -rm3.fbDocs=20 -rm3.fbTerms=300 &\n",
      "srun --partition=general --qos=short --time=4:00:00 --cpus-per-task=2 --mem-per-cpu=4096 --mail-type=END java -cp $ANSERINI io.anserini.search.SearchCollection -topicreader Tsv -index $INDEX -topics $TOPICS -output $OUTPUT/bm25+rm3_20_350.run -bm25 -rm3 -rm3.fbDocs=20 -rm3.fbTerms=350 &\n",
      "srun --partition=general --qos=short --time=4:00:00 --cpus-per-task=2 --mem-per-cpu=4096 --mail-type=END java -cp $ANSERINI io.anserini.search.SearchCollection -topicreader Tsv -index $INDEX -topics $TOPICS -output $OUTPUT/bm25+rm3_20_500.run -bm25 -rm3 -rm3.fbDocs=20 -rm3.fbTerms=500 &\n",
      "srun --partition=general --qos=short --time=4:00:00 --cpus-per-task=2 --mem-per-cpu=4096 --mail-type=END java -cp $ANSERINI io.anserini.search.SearchCollection -topicreader Tsv -index $INDEX -topics $TOPICS -output $OUTPUT/bm25+rm3_50_5.run -bm25 -rm3 -rm3.fbDocs=50 -rm3.fbTerms=5 &\n",
      "srun --partition=general --qos=short --time=4:00:00 --cpus-per-task=2 --mem-per-cpu=4096 --mail-type=END java -cp $ANSERINI io.anserini.search.SearchCollection -topicreader Tsv -index $INDEX -topics $TOPICS -output $OUTPUT/bm25+rm3_50_10.run -bm25 -rm3 -rm3.fbDocs=50 -rm3.fbTerms=10 &\n",
      "srun --partition=general --qos=short --time=4:00:00 --cpus-per-task=2 --mem-per-cpu=4096 --mail-type=END java -cp $ANSERINI io.anserini.search.SearchCollection -topicreader Tsv -index $INDEX -topics $TOPICS -output $OUTPUT/bm25+rm3_50_15.run -bm25 -rm3 -rm3.fbDocs=50 -rm3.fbTerms=15 &\n",
      "srun --partition=general --qos=short --time=4:00:00 --cpus-per-task=2 --mem-per-cpu=4096 --mail-type=END java -cp $ANSERINI io.anserini.search.SearchCollection -topicreader Tsv -index $INDEX -topics $TOPICS -output $OUTPUT/bm25+rm3_50_20.run -bm25 -rm3 -rm3.fbDocs=50 -rm3.fbTerms=20 &\n",
      "srun --partition=general --qos=short --time=4:00:00 --cpus-per-task=2 --mem-per-cpu=4096 --mail-type=END java -cp $ANSERINI io.anserini.search.SearchCollection -topicreader Tsv -index $INDEX -topics $TOPICS -output $OUTPUT/bm25+rm3_50_50.run -bm25 -rm3 -rm3.fbDocs=50 -rm3.fbTerms=50 &\n",
      "srun --partition=general --qos=short --time=4:00:00 --cpus-per-task=2 --mem-per-cpu=4096 --mail-type=END java -cp $ANSERINI io.anserini.search.SearchCollection -topicreader Tsv -index $INDEX -topics $TOPICS -output $OUTPUT/bm25+rm3_50_100.run -bm25 -rm3 -rm3.fbDocs=50 -rm3.fbTerms=100 &\n",
      "srun --partition=general --qos=short --time=4:00:00 --cpus-per-task=2 --mem-per-cpu=4096 --mail-type=END java -cp $ANSERINI io.anserini.search.SearchCollection -topicreader Tsv -index $INDEX -topics $TOPICS -output $OUTPUT/bm25+rm3_50_150.run -bm25 -rm3 -rm3.fbDocs=50 -rm3.fbTerms=150 &\n",
      "srun --partition=general --qos=short --time=4:00:00 --cpus-per-task=2 --mem-per-cpu=4096 --mail-type=END java -cp $ANSERINI io.anserini.search.SearchCollection -topicreader Tsv -index $INDEX -topics $TOPICS -output $OUTPUT/bm25+rm3_50_200.run -bm25 -rm3 -rm3.fbDocs=50 -rm3.fbTerms=200 &\n",
      "srun --partition=general --qos=short --time=4:00:00 --cpus-per-task=2 --mem-per-cpu=4096 --mail-type=END java -cp $ANSERINI io.anserini.search.SearchCollection -topicreader Tsv -index $INDEX -topics $TOPICS -output $OUTPUT/bm25+rm3_50_250.run -bm25 -rm3 -rm3.fbDocs=50 -rm3.fbTerms=250 &\n",
      "srun --partition=general --qos=short --time=4:00:00 --cpus-per-task=2 --mem-per-cpu=4096 --mail-type=END java -cp $ANSERINI io.anserini.search.SearchCollection -topicreader Tsv -index $INDEX -topics $TOPICS -output $OUTPUT/bm25+rm3_50_300.run -bm25 -rm3 -rm3.fbDocs=50 -rm3.fbTerms=300 &\n",
      "srun --partition=general --qos=short --time=4:00:00 --cpus-per-task=2 --mem-per-cpu=4096 --mail-type=END java -cp $ANSERINI io.anserini.search.SearchCollection -topicreader Tsv -index $INDEX -topics $TOPICS -output $OUTPUT/bm25+rm3_50_350.run -bm25 -rm3 -rm3.fbDocs=50 -rm3.fbTerms=350 &\n",
      "srun --partition=general --qos=short --time=4:00:00 --cpus-per-task=2 --mem-per-cpu=4096 --mail-type=END java -cp $ANSERINI io.anserini.search.SearchCollection -topicreader Tsv -index $INDEX -topics $TOPICS -output $OUTPUT/bm25+rm3_50_500.run -bm25 -rm3 -rm3.fbDocs=50 -rm3.fbTerms=500 &\n",
      "srun --partition=general --qos=short --time=4:00:00 --cpus-per-task=2 --mem-per-cpu=4096 --mail-type=END java -cp $ANSERINI io.anserini.search.SearchCollection -topicreader Tsv -index $INDEX -topics $TOPICS -output $OUTPUT/bm25+rm3_100_5.run -bm25 -rm3 -rm3.fbDocs=100 -rm3.fbTerms=5 &\n",
      "srun --partition=general --qos=short --time=4:00:00 --cpus-per-task=2 --mem-per-cpu=4096 --mail-type=END java -cp $ANSERINI io.anserini.search.SearchCollection -topicreader Tsv -index $INDEX -topics $TOPICS -output $OUTPUT/bm25+rm3_100_10.run -bm25 -rm3 -rm3.fbDocs=100 -rm3.fbTerms=10 &\n",
      "srun --partition=general --qos=short --time=4:00:00 --cpus-per-task=2 --mem-per-cpu=4096 --mail-type=END java -cp $ANSERINI io.anserini.search.SearchCollection -topicreader Tsv -index $INDEX -topics $TOPICS -output $OUTPUT/bm25+rm3_100_15.run -bm25 -rm3 -rm3.fbDocs=100 -rm3.fbTerms=15 &\n",
      "srun --partition=general --qos=short --time=4:00:00 --cpus-per-task=2 --mem-per-cpu=4096 --mail-type=END java -cp $ANSERINI io.anserini.search.SearchCollection -topicreader Tsv -index $INDEX -topics $TOPICS -output $OUTPUT/bm25+rm3_100_20.run -bm25 -rm3 -rm3.fbDocs=100 -rm3.fbTerms=20 &\n",
      "srun --partition=general --qos=short --time=4:00:00 --cpus-per-task=2 --mem-per-cpu=4096 --mail-type=END java -cp $ANSERINI io.anserini.search.SearchCollection -topicreader Tsv -index $INDEX -topics $TOPICS -output $OUTPUT/bm25+rm3_100_50.run -bm25 -rm3 -rm3.fbDocs=100 -rm3.fbTerms=50 &\n",
      "srun --partition=general --qos=short --time=4:00:00 --cpus-per-task=2 --mem-per-cpu=4096 --mail-type=END java -cp $ANSERINI io.anserini.search.SearchCollection -topicreader Tsv -index $INDEX -topics $TOPICS -output $OUTPUT/bm25+rm3_100_100.run -bm25 -rm3 -rm3.fbDocs=100 -rm3.fbTerms=100 &\n",
      "srun --partition=general --qos=short --time=4:00:00 --cpus-per-task=2 --mem-per-cpu=4096 --mail-type=END java -cp $ANSERINI io.anserini.search.SearchCollection -topicreader Tsv -index $INDEX -topics $TOPICS -output $OUTPUT/bm25+rm3_100_150.run -bm25 -rm3 -rm3.fbDocs=100 -rm3.fbTerms=150 &\n",
      "srun --partition=general --qos=short --time=4:00:00 --cpus-per-task=2 --mem-per-cpu=4096 --mail-type=END java -cp $ANSERINI io.anserini.search.SearchCollection -topicreader Tsv -index $INDEX -topics $TOPICS -output $OUTPUT/bm25+rm3_100_200.run -bm25 -rm3 -rm3.fbDocs=100 -rm3.fbTerms=200 &\n",
      "srun --partition=general --qos=short --time=4:00:00 --cpus-per-task=2 --mem-per-cpu=4096 --mail-type=END java -cp $ANSERINI io.anserini.search.SearchCollection -topicreader Tsv -index $INDEX -topics $TOPICS -output $OUTPUT/bm25+rm3_100_250.run -bm25 -rm3 -rm3.fbDocs=100 -rm3.fbTerms=250 &\n",
      "srun --partition=general --qos=short --time=4:00:00 --cpus-per-task=2 --mem-per-cpu=4096 --mail-type=END java -cp $ANSERINI io.anserini.search.SearchCollection -topicreader Tsv -index $INDEX -topics $TOPICS -output $OUTPUT/bm25+rm3_100_300.run -bm25 -rm3 -rm3.fbDocs=100 -rm3.fbTerms=300 &\n",
      "srun --partition=general --qos=short --time=4:00:00 --cpus-per-task=2 --mem-per-cpu=4096 --mail-type=END java -cp $ANSERINI io.anserini.search.SearchCollection -topicreader Tsv -index $INDEX -topics $TOPICS -output $OUTPUT/bm25+rm3_100_350.run -bm25 -rm3 -rm3.fbDocs=100 -rm3.fbTerms=350 &\n",
      "srun --partition=general --qos=short --time=4:00:00 --cpus-per-task=2 --mem-per-cpu=4096 --mail-type=END java -cp $ANSERINI io.anserini.search.SearchCollection -topicreader Tsv -index $INDEX -topics $TOPICS -output $OUTPUT/bm25+rm3_100_500.run -bm25 -rm3 -rm3.fbDocs=100 -rm3.fbTerms=500 &\n",
      "srun --partition=general --qos=short --time=4:00:00 --cpus-per-task=2 --mem-per-cpu=4096 --mail-type=END java -cp $ANSERINI io.anserini.search.SearchCollection -topicreader Tsv -index $INDEX -topics $TOPICS -output $OUTPUT/bm25+rm3_150_5.run -bm25 -rm3 -rm3.fbDocs=150 -rm3.fbTerms=5 &\n",
      "srun --partition=general --qos=short --time=4:00:00 --cpus-per-task=2 --mem-per-cpu=4096 --mail-type=END java -cp $ANSERINI io.anserini.search.SearchCollection -topicreader Tsv -index $INDEX -topics $TOPICS -output $OUTPUT/bm25+rm3_150_10.run -bm25 -rm3 -rm3.fbDocs=150 -rm3.fbTerms=10 &\n",
      "srun --partition=general --qos=short --time=4:00:00 --cpus-per-task=2 --mem-per-cpu=4096 --mail-type=END java -cp $ANSERINI io.anserini.search.SearchCollection -topicreader Tsv -index $INDEX -topics $TOPICS -output $OUTPUT/bm25+rm3_150_15.run -bm25 -rm3 -rm3.fbDocs=150 -rm3.fbTerms=15 &\n",
      "srun --partition=general --qos=short --time=4:00:00 --cpus-per-task=2 --mem-per-cpu=4096 --mail-type=END java -cp $ANSERINI io.anserini.search.SearchCollection -topicreader Tsv -index $INDEX -topics $TOPICS -output $OUTPUT/bm25+rm3_150_20.run -bm25 -rm3 -rm3.fbDocs=150 -rm3.fbTerms=20 &\n",
      "srun --partition=general --qos=short --time=4:00:00 --cpus-per-task=2 --mem-per-cpu=4096 --mail-type=END java -cp $ANSERINI io.anserini.search.SearchCollection -topicreader Tsv -index $INDEX -topics $TOPICS -output $OUTPUT/bm25+rm3_150_50.run -bm25 -rm3 -rm3.fbDocs=150 -rm3.fbTerms=50 &\n",
      "srun --partition=general --qos=short --time=4:00:00 --cpus-per-task=2 --mem-per-cpu=4096 --mail-type=END java -cp $ANSERINI io.anserini.search.SearchCollection -topicreader Tsv -index $INDEX -topics $TOPICS -output $OUTPUT/bm25+rm3_150_100.run -bm25 -rm3 -rm3.fbDocs=150 -rm3.fbTerms=100 &\n",
      "srun --partition=general --qos=short --time=4:00:00 --cpus-per-task=2 --mem-per-cpu=4096 --mail-type=END java -cp $ANSERINI io.anserini.search.SearchCollection -topicreader Tsv -index $INDEX -topics $TOPICS -output $OUTPUT/bm25+rm3_150_150.run -bm25 -rm3 -rm3.fbDocs=150 -rm3.fbTerms=150 &\n",
      "srun --partition=general --qos=short --time=4:00:00 --cpus-per-task=2 --mem-per-cpu=4096 --mail-type=END java -cp $ANSERINI io.anserini.search.SearchCollection -topicreader Tsv -index $INDEX -topics $TOPICS -output $OUTPUT/bm25+rm3_150_200.run -bm25 -rm3 -rm3.fbDocs=150 -rm3.fbTerms=200 &\n",
      "srun --partition=general --qos=short --time=4:00:00 --cpus-per-task=2 --mem-per-cpu=4096 --mail-type=END java -cp $ANSERINI io.anserini.search.SearchCollection -topicreader Tsv -index $INDEX -topics $TOPICS -output $OUTPUT/bm25+rm3_150_250.run -bm25 -rm3 -rm3.fbDocs=150 -rm3.fbTerms=250 &\n",
      "srun --partition=general --qos=short --time=4:00:00 --cpus-per-task=2 --mem-per-cpu=4096 --mail-type=END java -cp $ANSERINI io.anserini.search.SearchCollection -topicreader Tsv -index $INDEX -topics $TOPICS -output $OUTPUT/bm25+rm3_150_300.run -bm25 -rm3 -rm3.fbDocs=150 -rm3.fbTerms=300 &\n",
      "srun --partition=general --qos=short --time=4:00:00 --cpus-per-task=2 --mem-per-cpu=4096 --mail-type=END java -cp $ANSERINI io.anserini.search.SearchCollection -topicreader Tsv -index $INDEX -topics $TOPICS -output $OUTPUT/bm25+rm3_150_350.run -bm25 -rm3 -rm3.fbDocs=150 -rm3.fbTerms=350 &\n",
      "srun --partition=general --qos=short --time=4:00:00 --cpus-per-task=2 --mem-per-cpu=4096 --mail-type=END java -cp $ANSERINI io.anserini.search.SearchCollection -topicreader Tsv -index $INDEX -topics $TOPICS -output $OUTPUT/bm25+rm3_150_500.run -bm25 -rm3 -rm3.fbDocs=150 -rm3.fbTerms=500 &\n",
      "srun --partition=general --qos=short --time=4:00:00 --cpus-per-task=2 --mem-per-cpu=4096 --mail-type=END java -cp $ANSERINI io.anserini.search.SearchCollection -topicreader Tsv -index $INDEX -topics $TOPICS -output $OUTPUT/bm25+rm3_200_5.run -bm25 -rm3 -rm3.fbDocs=200 -rm3.fbTerms=5 &\n",
      "srun --partition=general --qos=short --time=4:00:00 --cpus-per-task=2 --mem-per-cpu=4096 --mail-type=END java -cp $ANSERINI io.anserini.search.SearchCollection -topicreader Tsv -index $INDEX -topics $TOPICS -output $OUTPUT/bm25+rm3_200_10.run -bm25 -rm3 -rm3.fbDocs=200 -rm3.fbTerms=10 &\n",
      "srun --partition=general --qos=short --time=4:00:00 --cpus-per-task=2 --mem-per-cpu=4096 --mail-type=END java -cp $ANSERINI io.anserini.search.SearchCollection -topicreader Tsv -index $INDEX -topics $TOPICS -output $OUTPUT/bm25+rm3_200_15.run -bm25 -rm3 -rm3.fbDocs=200 -rm3.fbTerms=15 &\n",
      "srun --partition=general --qos=short --time=4:00:00 --cpus-per-task=2 --mem-per-cpu=4096 --mail-type=END java -cp $ANSERINI io.anserini.search.SearchCollection -topicreader Tsv -index $INDEX -topics $TOPICS -output $OUTPUT/bm25+rm3_200_20.run -bm25 -rm3 -rm3.fbDocs=200 -rm3.fbTerms=20 &\n",
      "srun --partition=general --qos=short --time=4:00:00 --cpus-per-task=2 --mem-per-cpu=4096 --mail-type=END java -cp $ANSERINI io.anserini.search.SearchCollection -topicreader Tsv -index $INDEX -topics $TOPICS -output $OUTPUT/bm25+rm3_200_50.run -bm25 -rm3 -rm3.fbDocs=200 -rm3.fbTerms=50 &\n",
      "srun --partition=general --qos=short --time=4:00:00 --cpus-per-task=2 --mem-per-cpu=4096 --mail-type=END java -cp $ANSERINI io.anserini.search.SearchCollection -topicreader Tsv -index $INDEX -topics $TOPICS -output $OUTPUT/bm25+rm3_200_100.run -bm25 -rm3 -rm3.fbDocs=200 -rm3.fbTerms=100 &\n",
      "srun --partition=general --qos=short --time=4:00:00 --cpus-per-task=2 --mem-per-cpu=4096 --mail-type=END java -cp $ANSERINI io.anserini.search.SearchCollection -topicreader Tsv -index $INDEX -topics $TOPICS -output $OUTPUT/bm25+rm3_200_150.run -bm25 -rm3 -rm3.fbDocs=200 -rm3.fbTerms=150 &\n",
      "srun --partition=general --qos=short --time=4:00:00 --cpus-per-task=2 --mem-per-cpu=4096 --mail-type=END java -cp $ANSERINI io.anserini.search.SearchCollection -topicreader Tsv -index $INDEX -topics $TOPICS -output $OUTPUT/bm25+rm3_200_200.run -bm25 -rm3 -rm3.fbDocs=200 -rm3.fbTerms=200 &\n",
      "srun --partition=general --qos=short --time=4:00:00 --cpus-per-task=2 --mem-per-cpu=4096 --mail-type=END java -cp $ANSERINI io.anserini.search.SearchCollection -topicreader Tsv -index $INDEX -topics $TOPICS -output $OUTPUT/bm25+rm3_200_250.run -bm25 -rm3 -rm3.fbDocs=200 -rm3.fbTerms=250 &\n",
      "srun --partition=general --qos=short --time=4:00:00 --cpus-per-task=2 --mem-per-cpu=4096 --mail-type=END java -cp $ANSERINI io.anserini.search.SearchCollection -topicreader Tsv -index $INDEX -topics $TOPICS -output $OUTPUT/bm25+rm3_200_300.run -bm25 -rm3 -rm3.fbDocs=200 -rm3.fbTerms=300 &\n",
      "srun --partition=general --qos=short --time=4:00:00 --cpus-per-task=2 --mem-per-cpu=4096 --mail-type=END java -cp $ANSERINI io.anserini.search.SearchCollection -topicreader Tsv -index $INDEX -topics $TOPICS -output $OUTPUT/bm25+rm3_200_350.run -bm25 -rm3 -rm3.fbDocs=200 -rm3.fbTerms=350 &\n",
      "srun --partition=general --qos=short --time=4:00:00 --cpus-per-task=2 --mem-per-cpu=4096 --mail-type=END java -cp $ANSERINI io.anserini.search.SearchCollection -topicreader Tsv -index $INDEX -topics $TOPICS -output $OUTPUT/bm25+rm3_200_500.run -bm25 -rm3 -rm3.fbDocs=200 -rm3.fbTerms=500 &\n",
      "srun --partition=general --qos=short --time=4:00:00 --cpus-per-task=2 --mem-per-cpu=4096 --mail-type=END java -cp $ANSERINI io.anserini.search.SearchCollection -topicreader Tsv -index $INDEX -topics $TOPICS -output $OUTPUT/bm25+rm3_250_5.run -bm25 -rm3 -rm3.fbDocs=250 -rm3.fbTerms=5 &\n",
      "srun --partition=general --qos=short --time=4:00:00 --cpus-per-task=2 --mem-per-cpu=4096 --mail-type=END java -cp $ANSERINI io.anserini.search.SearchCollection -topicreader Tsv -index $INDEX -topics $TOPICS -output $OUTPUT/bm25+rm3_250_10.run -bm25 -rm3 -rm3.fbDocs=250 -rm3.fbTerms=10 &\n",
      "srun --partition=general --qos=short --time=4:00:00 --cpus-per-task=2 --mem-per-cpu=4096 --mail-type=END java -cp $ANSERINI io.anserini.search.SearchCollection -topicreader Tsv -index $INDEX -topics $TOPICS -output $OUTPUT/bm25+rm3_250_15.run -bm25 -rm3 -rm3.fbDocs=250 -rm3.fbTerms=15 &\n",
      "srun --partition=general --qos=short --time=4:00:00 --cpus-per-task=2 --mem-per-cpu=4096 --mail-type=END java -cp $ANSERINI io.anserini.search.SearchCollection -topicreader Tsv -index $INDEX -topics $TOPICS -output $OUTPUT/bm25+rm3_250_20.run -bm25 -rm3 -rm3.fbDocs=250 -rm3.fbTerms=20 &\n",
      "srun --partition=general --qos=short --time=4:00:00 --cpus-per-task=2 --mem-per-cpu=4096 --mail-type=END java -cp $ANSERINI io.anserini.search.SearchCollection -topicreader Tsv -index $INDEX -topics $TOPICS -output $OUTPUT/bm25+rm3_250_50.run -bm25 -rm3 -rm3.fbDocs=250 -rm3.fbTerms=50 &\n",
      "srun --partition=general --qos=short --time=4:00:00 --cpus-per-task=2 --mem-per-cpu=4096 --mail-type=END java -cp $ANSERINI io.anserini.search.SearchCollection -topicreader Tsv -index $INDEX -topics $TOPICS -output $OUTPUT/bm25+rm3_250_100.run -bm25 -rm3 -rm3.fbDocs=250 -rm3.fbTerms=100 &\n",
      "srun --partition=general --qos=short --time=4:00:00 --cpus-per-task=2 --mem-per-cpu=4096 --mail-type=END java -cp $ANSERINI io.anserini.search.SearchCollection -topicreader Tsv -index $INDEX -topics $TOPICS -output $OUTPUT/bm25+rm3_250_150.run -bm25 -rm3 -rm3.fbDocs=250 -rm3.fbTerms=150 &\n",
      "srun --partition=general --qos=short --time=4:00:00 --cpus-per-task=2 --mem-per-cpu=4096 --mail-type=END java -cp $ANSERINI io.anserini.search.SearchCollection -topicreader Tsv -index $INDEX -topics $TOPICS -output $OUTPUT/bm25+rm3_250_200.run -bm25 -rm3 -rm3.fbDocs=250 -rm3.fbTerms=200 &\n",
      "srun --partition=general --qos=short --time=4:00:00 --cpus-per-task=2 --mem-per-cpu=4096 --mail-type=END java -cp $ANSERINI io.anserini.search.SearchCollection -topicreader Tsv -index $INDEX -topics $TOPICS -output $OUTPUT/bm25+rm3_250_250.run -bm25 -rm3 -rm3.fbDocs=250 -rm3.fbTerms=250 &\n",
      "srun --partition=general --qos=short --time=4:00:00 --cpus-per-task=2 --mem-per-cpu=4096 --mail-type=END java -cp $ANSERINI io.anserini.search.SearchCollection -topicreader Tsv -index $INDEX -topics $TOPICS -output $OUTPUT/bm25+rm3_250_300.run -bm25 -rm3 -rm3.fbDocs=250 -rm3.fbTerms=300 &\n",
      "srun --partition=general --qos=short --time=4:00:00 --cpus-per-task=2 --mem-per-cpu=4096 --mail-type=END java -cp $ANSERINI io.anserini.search.SearchCollection -topicreader Tsv -index $INDEX -topics $TOPICS -output $OUTPUT/bm25+rm3_250_350.run -bm25 -rm3 -rm3.fbDocs=250 -rm3.fbTerms=350 &\n",
      "srun --partition=general --qos=short --time=4:00:00 --cpus-per-task=2 --mem-per-cpu=4096 --mail-type=END java -cp $ANSERINI io.anserini.search.SearchCollection -topicreader Tsv -index $INDEX -topics $TOPICS -output $OUTPUT/bm25+rm3_250_500.run -bm25 -rm3 -rm3.fbDocs=250 -rm3.fbTerms=500 &\n",
      "srun --partition=general --qos=short --time=4:00:00 --cpus-per-task=2 --mem-per-cpu=4096 --mail-type=END java -cp $ANSERINI io.anserini.search.SearchCollection -topicreader Tsv -index $INDEX -topics $TOPICS -output $OUTPUT/bm25+rm3_300_5.run -bm25 -rm3 -rm3.fbDocs=300 -rm3.fbTerms=5 &\n",
      "srun --partition=general --qos=short --time=4:00:00 --cpus-per-task=2 --mem-per-cpu=4096 --mail-type=END java -cp $ANSERINI io.anserini.search.SearchCollection -topicreader Tsv -index $INDEX -topics $TOPICS -output $OUTPUT/bm25+rm3_300_10.run -bm25 -rm3 -rm3.fbDocs=300 -rm3.fbTerms=10 &\n",
      "srun --partition=general --qos=short --time=4:00:00 --cpus-per-task=2 --mem-per-cpu=4096 --mail-type=END java -cp $ANSERINI io.anserini.search.SearchCollection -topicreader Tsv -index $INDEX -topics $TOPICS -output $OUTPUT/bm25+rm3_300_15.run -bm25 -rm3 -rm3.fbDocs=300 -rm3.fbTerms=15 &\n",
      "srun --partition=general --qos=short --time=4:00:00 --cpus-per-task=2 --mem-per-cpu=4096 --mail-type=END java -cp $ANSERINI io.anserini.search.SearchCollection -topicreader Tsv -index $INDEX -topics $TOPICS -output $OUTPUT/bm25+rm3_300_20.run -bm25 -rm3 -rm3.fbDocs=300 -rm3.fbTerms=20 &\n",
      "srun --partition=general --qos=short --time=4:00:00 --cpus-per-task=2 --mem-per-cpu=4096 --mail-type=END java -cp $ANSERINI io.anserini.search.SearchCollection -topicreader Tsv -index $INDEX -topics $TOPICS -output $OUTPUT/bm25+rm3_300_50.run -bm25 -rm3 -rm3.fbDocs=300 -rm3.fbTerms=50 &\n",
      "srun --partition=general --qos=short --time=4:00:00 --cpus-per-task=2 --mem-per-cpu=4096 --mail-type=END java -cp $ANSERINI io.anserini.search.SearchCollection -topicreader Tsv -index $INDEX -topics $TOPICS -output $OUTPUT/bm25+rm3_300_100.run -bm25 -rm3 -rm3.fbDocs=300 -rm3.fbTerms=100 &\n",
      "srun --partition=general --qos=short --time=4:00:00 --cpus-per-task=2 --mem-per-cpu=4096 --mail-type=END java -cp $ANSERINI io.anserini.search.SearchCollection -topicreader Tsv -index $INDEX -topics $TOPICS -output $OUTPUT/bm25+rm3_300_150.run -bm25 -rm3 -rm3.fbDocs=300 -rm3.fbTerms=150 &\n",
      "srun --partition=general --qos=short --time=4:00:00 --cpus-per-task=2 --mem-per-cpu=4096 --mail-type=END java -cp $ANSERINI io.anserini.search.SearchCollection -topicreader Tsv -index $INDEX -topics $TOPICS -output $OUTPUT/bm25+rm3_300_200.run -bm25 -rm3 -rm3.fbDocs=300 -rm3.fbTerms=200 &\n",
      "srun --partition=general --qos=short --time=4:00:00 --cpus-per-task=2 --mem-per-cpu=4096 --mail-type=END java -cp $ANSERINI io.anserini.search.SearchCollection -topicreader Tsv -index $INDEX -topics $TOPICS -output $OUTPUT/bm25+rm3_300_250.run -bm25 -rm3 -rm3.fbDocs=300 -rm3.fbTerms=250 &\n",
      "srun --partition=general --qos=short --time=4:00:00 --cpus-per-task=2 --mem-per-cpu=4096 --mail-type=END java -cp $ANSERINI io.anserini.search.SearchCollection -topicreader Tsv -index $INDEX -topics $TOPICS -output $OUTPUT/bm25+rm3_300_300.run -bm25 -rm3 -rm3.fbDocs=300 -rm3.fbTerms=300 &\n",
      "srun --partition=general --qos=short --time=4:00:00 --cpus-per-task=2 --mem-per-cpu=4096 --mail-type=END java -cp $ANSERINI io.anserini.search.SearchCollection -topicreader Tsv -index $INDEX -topics $TOPICS -output $OUTPUT/bm25+rm3_300_350.run -bm25 -rm3 -rm3.fbDocs=300 -rm3.fbTerms=350 &\n",
      "srun --partition=general --qos=short --time=4:00:00 --cpus-per-task=2 --mem-per-cpu=4096 --mail-type=END java -cp $ANSERINI io.anserini.search.SearchCollection -topicreader Tsv -index $INDEX -topics $TOPICS -output $OUTPUT/bm25+rm3_300_500.run -bm25 -rm3 -rm3.fbDocs=300 -rm3.fbTerms=500 &\n",
      "srun --partition=general --qos=short --time=4:00:00 --cpus-per-task=2 --mem-per-cpu=4096 --mail-type=END java -cp $ANSERINI io.anserini.search.SearchCollection -topicreader Tsv -index $INDEX -topics $TOPICS -output $OUTPUT/bm25+rm3_350_5.run -bm25 -rm3 -rm3.fbDocs=350 -rm3.fbTerms=5 &\n",
      "srun --partition=general --qos=short --time=4:00:00 --cpus-per-task=2 --mem-per-cpu=4096 --mail-type=END java -cp $ANSERINI io.anserini.search.SearchCollection -topicreader Tsv -index $INDEX -topics $TOPICS -output $OUTPUT/bm25+rm3_350_10.run -bm25 -rm3 -rm3.fbDocs=350 -rm3.fbTerms=10 &\n",
      "srun --partition=general --qos=short --time=4:00:00 --cpus-per-task=2 --mem-per-cpu=4096 --mail-type=END java -cp $ANSERINI io.anserini.search.SearchCollection -topicreader Tsv -index $INDEX -topics $TOPICS -output $OUTPUT/bm25+rm3_350_15.run -bm25 -rm3 -rm3.fbDocs=350 -rm3.fbTerms=15 &\n",
      "srun --partition=general --qos=short --time=4:00:00 --cpus-per-task=2 --mem-per-cpu=4096 --mail-type=END java -cp $ANSERINI io.anserini.search.SearchCollection -topicreader Tsv -index $INDEX -topics $TOPICS -output $OUTPUT/bm25+rm3_350_20.run -bm25 -rm3 -rm3.fbDocs=350 -rm3.fbTerms=20 &\n",
      "srun --partition=general --qos=short --time=4:00:00 --cpus-per-task=2 --mem-per-cpu=4096 --mail-type=END java -cp $ANSERINI io.anserini.search.SearchCollection -topicreader Tsv -index $INDEX -topics $TOPICS -output $OUTPUT/bm25+rm3_350_50.run -bm25 -rm3 -rm3.fbDocs=350 -rm3.fbTerms=50 &\n",
      "srun --partition=general --qos=short --time=4:00:00 --cpus-per-task=2 --mem-per-cpu=4096 --mail-type=END java -cp $ANSERINI io.anserini.search.SearchCollection -topicreader Tsv -index $INDEX -topics $TOPICS -output $OUTPUT/bm25+rm3_350_100.run -bm25 -rm3 -rm3.fbDocs=350 -rm3.fbTerms=100 &\n",
      "srun --partition=general --qos=short --time=4:00:00 --cpus-per-task=2 --mem-per-cpu=4096 --mail-type=END java -cp $ANSERINI io.anserini.search.SearchCollection -topicreader Tsv -index $INDEX -topics $TOPICS -output $OUTPUT/bm25+rm3_350_150.run -bm25 -rm3 -rm3.fbDocs=350 -rm3.fbTerms=150 &\n",
      "srun --partition=general --qos=short --time=4:00:00 --cpus-per-task=2 --mem-per-cpu=4096 --mail-type=END java -cp $ANSERINI io.anserini.search.SearchCollection -topicreader Tsv -index $INDEX -topics $TOPICS -output $OUTPUT/bm25+rm3_350_200.run -bm25 -rm3 -rm3.fbDocs=350 -rm3.fbTerms=200 &\n",
      "srun --partition=general --qos=short --time=4:00:00 --cpus-per-task=2 --mem-per-cpu=4096 --mail-type=END java -cp $ANSERINI io.anserini.search.SearchCollection -topicreader Tsv -index $INDEX -topics $TOPICS -output $OUTPUT/bm25+rm3_350_250.run -bm25 -rm3 -rm3.fbDocs=350 -rm3.fbTerms=250 &\n",
      "srun --partition=general --qos=short --time=4:00:00 --cpus-per-task=2 --mem-per-cpu=4096 --mail-type=END java -cp $ANSERINI io.anserini.search.SearchCollection -topicreader Tsv -index $INDEX -topics $TOPICS -output $OUTPUT/bm25+rm3_350_300.run -bm25 -rm3 -rm3.fbDocs=350 -rm3.fbTerms=300 &\n",
      "srun --partition=general --qos=short --time=4:00:00 --cpus-per-task=2 --mem-per-cpu=4096 --mail-type=END java -cp $ANSERINI io.anserini.search.SearchCollection -topicreader Tsv -index $INDEX -topics $TOPICS -output $OUTPUT/bm25+rm3_350_350.run -bm25 -rm3 -rm3.fbDocs=350 -rm3.fbTerms=350 &\n",
      "srun --partition=general --qos=short --time=4:00:00 --cpus-per-task=2 --mem-per-cpu=4096 --mail-type=END java -cp $ANSERINI io.anserini.search.SearchCollection -topicreader Tsv -index $INDEX -topics $TOPICS -output $OUTPUT/bm25+rm3_350_500.run -bm25 -rm3 -rm3.fbDocs=350 -rm3.fbTerms=500 &\n",
      "srun --partition=general --qos=short --time=4:00:00 --cpus-per-task=2 --mem-per-cpu=4096 --mail-type=END java -cp $ANSERINI io.anserini.search.SearchCollection -topicreader Tsv -index $INDEX -topics $TOPICS -output $OUTPUT/bm25+rm3_500_5.run -bm25 -rm3 -rm3.fbDocs=500 -rm3.fbTerms=5 &\n",
      "srun --partition=general --qos=short --time=4:00:00 --cpus-per-task=2 --mem-per-cpu=4096 --mail-type=END java -cp $ANSERINI io.anserini.search.SearchCollection -topicreader Tsv -index $INDEX -topics $TOPICS -output $OUTPUT/bm25+rm3_500_10.run -bm25 -rm3 -rm3.fbDocs=500 -rm3.fbTerms=10 &\n",
      "srun --partition=general --qos=short --time=4:00:00 --cpus-per-task=2 --mem-per-cpu=4096 --mail-type=END java -cp $ANSERINI io.anserini.search.SearchCollection -topicreader Tsv -index $INDEX -topics $TOPICS -output $OUTPUT/bm25+rm3_500_15.run -bm25 -rm3 -rm3.fbDocs=500 -rm3.fbTerms=15 &\n",
      "srun --partition=general --qos=short --time=4:00:00 --cpus-per-task=2 --mem-per-cpu=4096 --mail-type=END java -cp $ANSERINI io.anserini.search.SearchCollection -topicreader Tsv -index $INDEX -topics $TOPICS -output $OUTPUT/bm25+rm3_500_20.run -bm25 -rm3 -rm3.fbDocs=500 -rm3.fbTerms=20 &\n",
      "srun --partition=general --qos=short --time=4:00:00 --cpus-per-task=2 --mem-per-cpu=4096 --mail-type=END java -cp $ANSERINI io.anserini.search.SearchCollection -topicreader Tsv -index $INDEX -topics $TOPICS -output $OUTPUT/bm25+rm3_500_50.run -bm25 -rm3 -rm3.fbDocs=500 -rm3.fbTerms=50 &\n",
      "srun --partition=general --qos=short --time=4:00:00 --cpus-per-task=2 --mem-per-cpu=4096 --mail-type=END java -cp $ANSERINI io.anserini.search.SearchCollection -topicreader Tsv -index $INDEX -topics $TOPICS -output $OUTPUT/bm25+rm3_500_100.run -bm25 -rm3 -rm3.fbDocs=500 -rm3.fbTerms=100 &\n",
      "srun --partition=general --qos=short --time=4:00:00 --cpus-per-task=2 --mem-per-cpu=4096 --mail-type=END java -cp $ANSERINI io.anserini.search.SearchCollection -topicreader Tsv -index $INDEX -topics $TOPICS -output $OUTPUT/bm25+rm3_500_150.run -bm25 -rm3 -rm3.fbDocs=500 -rm3.fbTerms=150 &\n",
      "srun --partition=general --qos=short --time=4:00:00 --cpus-per-task=2 --mem-per-cpu=4096 --mail-type=END java -cp $ANSERINI io.anserini.search.SearchCollection -topicreader Tsv -index $INDEX -topics $TOPICS -output $OUTPUT/bm25+rm3_500_200.run -bm25 -rm3 -rm3.fbDocs=500 -rm3.fbTerms=200 &\n",
      "srun --partition=general --qos=short --time=4:00:00 --cpus-per-task=2 --mem-per-cpu=4096 --mail-type=END java -cp $ANSERINI io.anserini.search.SearchCollection -topicreader Tsv -index $INDEX -topics $TOPICS -output $OUTPUT/bm25+rm3_500_250.run -bm25 -rm3 -rm3.fbDocs=500 -rm3.fbTerms=250 &\n",
      "srun --partition=general --qos=short --time=4:00:00 --cpus-per-task=2 --mem-per-cpu=4096 --mail-type=END java -cp $ANSERINI io.anserini.search.SearchCollection -topicreader Tsv -index $INDEX -topics $TOPICS -output $OUTPUT/bm25+rm3_500_300.run -bm25 -rm3 -rm3.fbDocs=500 -rm3.fbTerms=300 &\n",
      "srun --partition=general --qos=short --time=4:00:00 --cpus-per-task=2 --mem-per-cpu=4096 --mail-type=END java -cp $ANSERINI io.anserini.search.SearchCollection -topicreader Tsv -index $INDEX -topics $TOPICS -output $OUTPUT/bm25+rm3_500_350.run -bm25 -rm3 -rm3.fbDocs=500 -rm3.fbTerms=350 &\n",
      "srun --partition=general --qos=short --time=4:00:00 --cpus-per-task=2 --mem-per-cpu=4096 --mail-type=END java -cp $ANSERINI io.anserini.search.SearchCollection -topicreader Tsv -index $INDEX -topics $TOPICS -output $OUTPUT/bm25+rm3_500_500.run -bm25 -rm3 -rm3.fbDocs=500 -rm3.fbTerms=500 &\n"
     ]
    }
   ],
   "source": [
    "ANSERINI=\"/tudelft.net/staff-umbrella/punchbag/msmarco/data/anserini.jar\"\n",
    "INDEX=\"/tudelft.net/staff-umbrella/punchbag/msmarco/data/lucene-index.msmarco-doc.pos+docvectors+rawdocs\"\n",
    "OUTPUT=\"/tudelft.net/staff-umbrella/punchbag/msmarco/data/results\"\n",
    "TOPICS=\"/tudelft.net/staff-umbrella/punchbag/msmarco/data/results/msmarco-docdev-qrels.tsv\"\n",
    "PARAMS=\"--partition=general --qos=short --time=4:00:00 --cpus-per-task=2 --mem-per-cpu=4096 --mail-type=END\"\n",
    "\n",
    "for i in [5, 10, 15, 20, 50, 100, 150, 200, 250, 300, 350, 500]:\n",
    "    for j in [5, 10, 15, 20, 50, 100, 150, 200, 250, 300, 350, 500]:    \n",
    "        cmd=f\"srun {PARAMS} java -cp $ANSERINI io.anserini.search.SearchCollection -topicreader Tsv -index $INDEX -topics $TOPICS -output $OUTPUT/bm25+rm3_{i}_{j}.run -bm25 -rm3 -rm3.fbDocs={i} -rm3.fbTerms={j} &\"\n",
    "        print(cmd)"
   ]
  },
  {
   "cell_type": "code",
   "execution_count": null,
   "metadata": {},
   "outputs": [],
   "source": []
  }
 ],
 "metadata": {
  "kernelspec": {
   "display_name": "Python 3",
   "language": "python",
   "name": "python3"
  },
  "language_info": {
   "codemirror_mode": {
    "name": "ipython",
    "version": 3
   },
   "file_extension": ".py",
   "mimetype": "text/x-python",
   "name": "python",
   "nbconvert_exporter": "python",
   "pygments_lexer": "ipython3",
   "version": "3.7.3"
  }
 },
 "nbformat": 4,
 "nbformat_minor": 2
}
