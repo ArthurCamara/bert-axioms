{
 "cells": [
  {
   "cell_type": "code",
   "execution_count": 3,
   "metadata": {
    "ExecuteTime": {
     "end_time": "2019-07-18T09:07:46.037823Z",
     "start_time": "2019-07-18T09:07:46.028713Z"
    }
   },
   "outputs": [],
   "source": [
    "#heavily based on https://github.com/huggingface/pytorch-transformers/blob/master/examples/run_glue.py\n",
    "import logging\n",
    "import os\n",
    "import sys\n",
    "import random\n",
    "import pickle\n",
    "from tqdm import tqdm_notebook as tqdm \n",
    "from tqdm import tnrange as trange\n",
    "\n",
    "import numpy as np\n",
    "\n",
    "import torch\n",
    "from torch.utils.data import (DataLoader, RandomSampler, SequentialSampler,\n",
    "                              TensorDataset)\n",
    "from torch.nn import CrossEntropyLoss\n",
    "import sys\n",
    "import csv\n",
    "csv.field_size_limit(sys.maxsize)\n",
    "\n",
    "from pytorch_transformers import WEIGHTS_NAME, XLNetForSequenceClassification, XLNetTokenizer, XLNetConfig\n",
    "from pytorch_transformers import AdamW, WarmupLinearSchedule\n",
    "\n",
    "from run_classifier_dataset_utils import processors, output_modes, convert_examples_to_features, compute_metrics #classes for processing"
   ]
  },
  {
   "cell_type": "code",
   "execution_count": 4,
   "metadata": {
    "ExecuteTime": {
     "end_time": "2019-07-18T09:21:13.025883Z",
     "start_time": "2019-07-18T09:21:13.022077Z"
    }
   },
   "outputs": [],
   "source": [
    "data_dir = \"/ssd2/arthur/TREC2019/data/\"\n",
    "model_type = \"xlnet\"\n",
    "\n"
   ]
  },
  {
   "cell_type": "code",
   "execution_count": null,
   "metadata": {},
   "outputs": [],
   "source": [
    "\n",
    "python run_classifier.py --task_name msmarco --do_train --do_eval --do_lower_case --data_dir $DATA_DIR --bert_model bert-base-uncased --max_seq_length 512 --train_batch_size 32 --learning_rate 2e-5 --num_train_epochs 3.0 --output_dir $DATA_DIR/results"
   ]
  }
 ],
 "metadata": {
  "kernelspec": {
   "display_name": "Python 3",
   "language": "python",
   "name": "python3"
  },
  "language_info": {
   "codemirror_mode": {
    "name": "ipython",
    "version": 3
   },
   "file_extension": ".py",
   "mimetype": "text/x-python",
   "name": "python",
   "nbconvert_exporter": "python",
   "pygments_lexer": "ipython3",
   "version": "3.7.3"
  }
 },
 "nbformat": 4,
 "nbformat_minor": 2
}
