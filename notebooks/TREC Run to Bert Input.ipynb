{
 "cells": [
  {
   "cell_type": "code",
   "execution_count": 2,
   "metadata": {
    "ExecuteTime": {
     "end_time": "2019-08-06T09:02:05.632059Z",
     "start_time": "2019-08-06T09:02:05.627107Z"
    }
   },
   "outputs": [],
   "source": [
    "import os\n",
    "data_home = \"/ssd2/arthur/TREC2019/data/\"\n",
    "run_file = \"/ssd2/arthur/insy/msmarco/data/results/dev/bm25_finetuned.run\"\n",
    "assert os.path.isfile(run_file)"
   ]
  },
  {
   "cell_type": "code",
   "execution_count": 10,
   "metadata": {
    "ExecuteTime": {
     "end_time": "2019-08-07T09:01:07.047756Z",
     "start_time": "2019-08-07T09:01:02.395417Z"
    }
   },
   "outputs": [],
   "source": [
    "from tqdm import tqdm_notebook as tqdm\n",
    "import os\n",
    "import gzip\n",
    "import csv\n",
    "import random\n",
    "from collections import defaultdict\n",
    "split = 'dev'\n",
    "queries_file = os.path.join(data_home, f\"msmarco-doc{split}-queries.tsv.gz\")\n",
    "lookup_file = os.path.join(data_home, \"msmarco-docs-lookup.tsv.gz\")\n",
    "qrels_file = os.path.join(data_home, f\"msmarco-doc{split}-qrels.tsv\")\n",
    "\n",
    "querystring = {}\n",
    "with gzip.open(queries_file, 'rt', encoding='utf-8') as f:\n",
    "    tsvreader = csv.reader(f, delimiter=\"\\t\")\n",
    "    for [topicid, querystring_of_topicid] in tsvreader:\n",
    "        querystring[topicid] = querystring_of_topicid\n",
    "        \n",
    "docoffset = {}\n",
    "with gzip.open(lookup_file, 'rt', encoding='utf-8') as f:\n",
    "    tsvreader = csv.reader(f, delimiter=\"\\t\")\n",
    "    for [docid, _, offset] in tsvreader:\n",
    "        docoffset[docid] = int(offset)\n",
    "qrel = {}\n",
    "with open(qrels_file, 'r', encoding='utf8') as f:\n",
    "    tsvreader = csv.reader(f, delimiter=\"\\t\")\n",
    "    for [topicid, _, docid, rel] in tsvreader:\n",
    "        assert rel == \"1\"\n",
    "        if topicid in qrel:\n",
    "            qrel[topicid].append(docid)\n",
    "        else:\n",
    "            qrel[topicid] = [docid]\n",
    "\n",
    "def getcontent(docid, f):\n",
    "    \"\"\"getcontent(docid, f) will get content for a given docid (a string) from filehandle f.\n",
    "    The content has four tab-separated strings: docid, url, title, body.\n",
    "    \"\"\"\n",
    "\n",
    "    f.seek(docoffset[docid])\n",
    "    line = f.readline()\n",
    "    assert line.startswith(docid + \"\\t\"), \\\n",
    "        f\"Looking for {docid}, found {line}\"\n",
    "    return line.rstrip()\n",
    "docs_file = os.path.join(data_home, \"msmarco-docs.tsv\")\n",
    "output_file = os.path.join(data_home, \"bm25_bert_docs.tsv\")"
   ]
  },
  {
   "cell_type": "code",
   "execution_count": 13,
   "metadata": {
    "ExecuteTime": {
     "end_time": "2019-08-07T09:02:37.185584Z",
     "start_time": "2019-08-07T09:02:30.704472Z"
    }
   },
   "outputs": [
    {
     "name": "stdout",
     "output_type": "stream",
     "text": [
      "5191671 /ssd2/arthur/insy/msmarco/data/results/dev/bm25_finetuned.run\r\n"
     ]
    }
   ],
   "source": [
    "!wc -l $run_file"
   ]
  },
  {
   "cell_type": "code",
   "execution_count": 14,
   "metadata": {
    "ExecuteTime": {
     "end_time": "2019-08-07T09:09:29.070493Z",
     "start_time": "2019-08-07T09:02:52.929653Z"
    }
   },
   "outputs": [
    {
     "data": {
      "application/vnd.jupyter.widget-view+json": {
       "model_id": "fa0b0feffa394b94b04931a712929443",
       "version_major": 2,
       "version_minor": 0
      },
      "text/plain": [
       "HBox(children=(IntProgress(value=0, max=5191671), HTML(value='')))"
      ]
     },
     "metadata": {},
     "output_type": "display_data"
    }
   ],
   "source": [
    "output_line_format = \"{}-{}\\t{}\\t{}\\t{}\\n\" #query_id, document_id, querystring, document text\n",
    "with open(run_file, 'r') as inf, open(docs_file, 'r') as f, open(output_file, 'w', encoding='utf-8') as outf:\n",
    "    for counter, line in tqdm(enumerate(inf), total=5191671):\n",
    "        [topic_id, _, doc_id, ranking, score, _] = line.split()\n",
    "        is_relevant = doc_id in qrel[topic_id]\n",
    "        \n",
    "        query = querystring[topic_id]\n",
    "        document = getcontent(doc_id, f)\n",
    "        text_to_keep = ' '.join(document.split(\"\\t\")[1:])\n",
    "        outf.write(output_line_format.format(topic_id, doc_id, query, text_to_keep, int(is_relevant)))"
   ]
  }
 ],
 "metadata": {
  "kernelspec": {
   "display_name": "Python 3",
   "language": "python",
   "name": "python3"
  },
  "language_info": {
   "codemirror_mode": {
    "name": "ipython",
    "version": 3
   },
   "file_extension": ".py",
   "mimetype": "text/x-python",
   "name": "python",
   "nbconvert_exporter": "python",
   "pygments_lexer": "ipython3",
   "version": "3.7.3"
  }
 },
 "nbformat": 4,
 "nbformat_minor": 2
}
