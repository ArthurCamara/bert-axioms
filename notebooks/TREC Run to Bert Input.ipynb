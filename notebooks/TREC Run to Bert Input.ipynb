{
 "cells": [
  {
   "cell_type": "code",
   "execution_count": 1,
   "metadata": {
    "ExecuteTime": {
     "end_time": "2019-08-13T12:21:40.289379Z",
     "start_time": "2019-08-13T12:21:40.283946Z"
    }
   },
   "outputs": [],
   "source": [
    "import os\n",
    "data_home = \"/ssd2/arthur/TREC2019/data/\"\n",
    "run_file = \"/ssd2/arthur/TREC2019/data/results/anserini_train.bm25.top100\"\n",
    "assert os.path.isfile(run_file)"
   ]
  },
  {
   "cell_type": "code",
   "execution_count": 5,
   "metadata": {
    "ExecuteTime": {
     "end_time": "2019-08-13T12:22:55.734742Z",
     "start_time": "2019-08-13T12:22:50.819870Z"
    }
   },
   "outputs": [],
   "source": [
    "from tqdm import tqdm_notebook as tqdm\n",
    "import os\n",
    "import gzip\n",
    "import csv\n",
    "import random\n",
    "from collections import defaultdict\n",
    "split = 'dev'\n",
    "queries_file = os.path.join(data_home, f\"msmarco-doc{split}-queries.tsv.gz\")\n",
    "lookup_file = os.path.join(data_home, \"msmarco-docs-lookup.tsv.gz\")\n",
    "qrels_file = os.path.join(data_home, f\"msmarco-doc{split}-qrels.tsv\")\n",
    "\n",
    "querystring = {}\n",
    "with gzip.open(queries_file, 'rt', encoding='utf-8') as f:\n",
    "    tsvreader = csv.reader(f, delimiter=\"\\t\")\n",
    "    for [topicid, querystring_of_topicid] in tsvreader:\n",
    "        querystring[topicid] = querystring_of_topicid\n",
    "        \n",
    "docoffset = {}\n",
    "with gzip.open(lookup_file, 'rt', encoding='utf-8') as f:\n",
    "    tsvreader = csv.reader(f, delimiter=\"\\t\")\n",
    "    for [docid, _, offset] in tsvreader:\n",
    "        docoffset[docid] = int(offset)\n",
    "qrel = {}\n",
    "with open(qrels_file, 'r', encoding='utf8') as f:\n",
    "    tsvreader = csv.reader(f, delimiter=\"\\t\")\n",
    "    for [topicid, _, docid, rel] in tsvreader:\n",
    "        assert rel == \"1\"\n",
    "        if topicid in qrel:\n",
    "            qrel[topicid].append(docid)\n",
    "        else:\n",
    "            qrel[topicid] = [docid]\n",
    "\n",
    "def getcontent(docid, f):\n",
    "    \"\"\"getcontent(docid, f) will get content for a given docid (a string) from filehandle f.\n",
    "    The content has four tab-separated strings: docid, url, title, body.\n",
    "    \"\"\"\n",
    "\n",
    "    f.seek(docoffset[docid])\n",
    "    line = f.readline()\n",
    "    assert line.startswith(docid + \"\\t\"), \\\n",
    "        f\"Looking for {docid}, found {line}\"\n",
    "    return line.rstrip()\n",
    "docs_file = os.path.join(data_home, \"msmarco-docs.tsv\")\n",
    "output_file = os.path.join(data_home, \"bm25_bert_train_top100.tsv\")"
   ]
  },
  {
   "cell_type": "code",
   "execution_count": 3,
   "metadata": {
    "ExecuteTime": {
     "end_time": "2019-08-13T12:21:49.432082Z",
     "start_time": "2019-08-13T12:21:49.278832Z"
    }
   },
   "outputs": [
    {
     "name": "stdout",
     "output_type": "stream",
     "text": [
      "519300 /ssd2/arthur/TREC2019/data/results/anserini.bm25.top100\r\n"
     ]
    }
   ],
   "source": [
    "!wc -l $run_file"
   ]
  },
  {
   "cell_type": "code",
   "execution_count": 6,
   "metadata": {
    "ExecuteTime": {
     "end_time": "2019-08-13T12:25:00.105514Z",
     "start_time": "2019-08-13T12:22:56.756770Z"
    }
   },
   "outputs": [
    {
     "data": {
      "application/vnd.jupyter.widget-view+json": {
       "model_id": "26e289522d1047319e1adcd9b3656078",
       "version_major": 2,
       "version_minor": 0
      },
      "text/plain": [
       "HBox(children=(IntProgress(value=0, max=519300), HTML(value='')))"
      ]
     },
     "metadata": {},
     "output_type": "display_data"
    }
   ],
   "source": [
    "output_line_format = \"{}-{}\\t{}\\t{}\\t{}\\n\" #query_id, document_id, querystring, document text\n",
    "with open(run_file, 'r') as inf, open(docs_file, 'r') as f, open(output_file, 'w', encoding='utf-8') as outf:\n",
    "    for counter, line in tqdm(enumerate(inf), total=519300):\n",
    "        [topic_id, _, doc_id, ranking, score, _] = line.split()\n",
    "        is_relevant = doc_id in qrel[topic_id]\n",
    "        \n",
    "        query = querystring[topic_id]\n",
    "        document = getcontent(doc_id, f)\n",
    "        text_to_keep = ' '.join(document.split(\"\\t\")[1:])\n",
    "        outf.write(output_line_format.format(topic_id, doc_id, query, text_to_keep, int(is_relevant)))"
   ]
  },
  {
   "cell_type": "code",
   "execution_count": null,
   "metadata": {},
   "outputs": [],
   "source": []
  }
 ],
 "metadata": {
  "kernelspec": {
   "display_name": "Python 3",
   "language": "python",
   "name": "python3"
  },
  "language_info": {
   "codemirror_mode": {
    "name": "ipython",
    "version": 3
   },
   "file_extension": ".py",
   "mimetype": "text/x-python",
   "name": "python",
   "nbconvert_exporter": "python",
   "pygments_lexer": "ipython3",
   "version": "3.7.3"
  }
 },
 "nbformat": 4,
 "nbformat_minor": 2
}
