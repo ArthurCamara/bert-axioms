{
 "cells": [
  {
   "cell_type": "code",
   "execution_count": 7,
   "metadata": {
    "ExecuteTime": {
     "end_time": "2019-09-17T13:26:07.920945Z",
     "start_time": "2019-09-17T13:26:07.917206Z"
    }
   },
   "outputs": [],
   "source": [
    "DATADIR=\"/ssd2/arthur/TREC2019/data/\""
   ]
  },
  {
   "cell_type": "code",
   "execution_count": 12,
   "metadata": {
    "ExecuteTime": {
     "end_time": "2019-07-11T12:41:44.898664Z",
     "start_time": "2019-07-11T12:41:44.861779Z"
    }
   },
   "outputs": [],
   "source": [
    "import os\n",
    "import gzip\n",
    "queries_file = os.path.join(DATADIR, \"queries\", \"msmarco-docdev-queries.tsv.gz\")\n",
    "lens  = []\n",
    "for line in gzip.open(queries_file):\n",
    "    lens.append(len(line.split(b\"\\t\")[1].split()))\n",
    "    "
   ]
  },
  {
   "cell_type": "code",
   "execution_count": 15,
   "metadata": {
    "ExecuteTime": {
     "end_time": "2019-07-11T12:42:12.634871Z",
     "start_time": "2019-07-11T12:42:12.477680Z"
    }
   },
   "outputs": [
    {
     "data": {
      "text/plain": [
       "(5.891199691892933, 6.0, 2.511116353157464)"
      ]
     },
     "execution_count": 15,
     "metadata": {},
     "output_type": "execute_result"
    }
   ],
   "source": [
    "import numpy as np \n",
    "np.mean(lens), np.median(lens), np.std(lens)"
   ]
  },
  {
   "cell_type": "code",
   "execution_count": 27,
   "metadata": {
    "ExecuteTime": {
     "end_time": "2019-07-11T12:45:10.162001Z",
     "start_time": "2019-07-11T12:45:10.155389Z"
    }
   },
   "outputs": [
    {
     "data": {
      "text/plain": [
       "'The hot glowing surfaces of stars emit energy in the form of electromagnetic radiation.? Science & Mathematics PhysicsThe hot glowing surfaces of stars emit energy in the form of electromagnetic radiation.?It is a good approximation to assume that the emissivity e is equal to 1 for these surfaces.  Find the radius of the star Rigel, the bright blue star in the constellation Orion that radiates energy at a rate of 2.7 x 10^32 W and has a surface temperature of 11,000 K. Assume that the star is spherical. Use σ =... show moreFollow 3 answersAnswersRelevanceRatingNewestOldestBest Answer: Stefan-Boltzmann law states that the energy flux by radiation is proportional to the forth power of the temperature: q = ε · σ · T^4 The total energy flux at a spherical surface of Radius R is Q = q·π·R² = ε·σ·T^4·π·R² Hence the radius is R = √ ( Q / (ε·σ·T^4·π) ) = √ ( 2.7x10+32 W / (1 · 5.67x10-8W/m²K^4 · (1100K)^4 · π) ) = 3.22x10+13 mSource (s):http://en.wikipedia.org/wiki/Stefan_bolt...schmiso · 1 decade ago0 18 CommentSchmiso, you forgot a 4 in your answer. Your link even says it: L = 4pi (R^2)sigma (T^4). Using L, luminosity, as the energy in this problem, you can find the radius R by doing sqrt (L/ (4pisigma (T^4)). Hope this helps everyone.Caroline · 4 years ago4 1 Comment (Stefan-Boltzmann law) L = 4pi*R^2*sigma*T^4 Solving for R we get: => R = (1/ (2T^2)) * sqrt (L/ (pi*sigma)) Plugging in your values you should get: => R = (1/ (2 (11,000K)^2)) *sqrt ( (2.7*10^32W)/ (pi * (5.67*10^-8 W/m^2K^4))) R = 1.609 * 10^11 m? · 3 years ago0 1 CommentMaybe you would like to learn more about one of these?Want to build a free website? Interested in dating sites?Need a Home Security Safe? How to order contacts online?\\n'"
      ]
     },
     "execution_count": 27,
     "metadata": {},
     "output_type": "execute_result"
    }
   ],
   "source": [
    "\" \".join(line.split(\"\\t\")[2:])"
   ]
  },
  {
   "cell_type": "code",
   "execution_count": 13,
   "metadata": {
    "ExecuteTime": {
     "end_time": "2019-09-17T13:10:29.838848Z",
     "start_time": "2019-09-17T13:10:29.825437Z"
    }
   },
   "outputs": [
    {
     "data": {
      "text/plain": [
       "['the',\n",
       " 'hot',\n",
       " 'glowing',\n",
       " 'surfaces',\n",
       " 'of',\n",
       " 'stars',\n",
       " 'emi',\n",
       " '##t',\n",
       " 'energy',\n",
       " 'in',\n",
       " 'the',\n",
       " 'form',\n",
       " 'of',\n",
       " 'electromagnetic',\n",
       " 'radiation',\n",
       " '.',\n",
       " '?',\n",
       " 'science',\n",
       " '&',\n",
       " 'mathematics',\n",
       " 'physics',\n",
       " '##the',\n",
       " 'hot',\n",
       " 'glowing',\n",
       " 'surfaces',\n",
       " 'of',\n",
       " 'stars',\n",
       " 'emi',\n",
       " '##t',\n",
       " 'energy',\n",
       " 'in',\n",
       " 'the',\n",
       " 'form',\n",
       " 'of',\n",
       " 'electromagnetic',\n",
       " 'radiation',\n",
       " '.',\n",
       " '?',\n",
       " 'it',\n",
       " 'is',\n",
       " 'a',\n",
       " 'good',\n",
       " 'approximation',\n",
       " 'to',\n",
       " 'assume',\n",
       " 'that',\n",
       " 'the',\n",
       " 'emi',\n",
       " '##ssi',\n",
       " '##vity',\n",
       " 'e',\n",
       " 'is',\n",
       " 'equal',\n",
       " 'to',\n",
       " '1',\n",
       " 'for',\n",
       " 'these',\n",
       " 'surfaces',\n",
       " '.',\n",
       " 'find',\n",
       " 'the',\n",
       " 'radius',\n",
       " 'of',\n",
       " 'the',\n",
       " 'star',\n",
       " 'rig',\n",
       " '##el',\n",
       " ',',\n",
       " 'the',\n",
       " 'bright',\n",
       " 'blue',\n",
       " 'star',\n",
       " 'in',\n",
       " 'the',\n",
       " 'constellation',\n",
       " 'orion',\n",
       " 'that',\n",
       " 'ra',\n",
       " '##dia',\n",
       " '##tes',\n",
       " 'energy',\n",
       " 'at',\n",
       " 'a',\n",
       " 'rate',\n",
       " 'of',\n",
       " '2',\n",
       " '.',\n",
       " '7',\n",
       " 'x',\n",
       " '10',\n",
       " '^',\n",
       " '32',\n",
       " 'w',\n",
       " 'and',\n",
       " 'has',\n",
       " 'a',\n",
       " 'surface',\n",
       " 'temperature',\n",
       " 'of',\n",
       " '11',\n",
       " ',',\n",
       " '000',\n",
       " 'k',\n",
       " '.',\n",
       " 'assume',\n",
       " 'that',\n",
       " 'the',\n",
       " 'star',\n",
       " 'is',\n",
       " 'spherical',\n",
       " '.',\n",
       " 'use',\n",
       " 'σ',\n",
       " '=',\n",
       " '.',\n",
       " '.',\n",
       " '.',\n",
       " 'show',\n",
       " 'more',\n",
       " '##fo',\n",
       " '##llo',\n",
       " '##w',\n",
       " '3',\n",
       " 'answers',\n",
       " '##ans',\n",
       " '##wer',\n",
       " '##sr',\n",
       " '##ele',\n",
       " '##vance',\n",
       " '##rating',\n",
       " '##ne',\n",
       " '##west',\n",
       " '##old',\n",
       " '##est',\n",
       " '##bes',\n",
       " '##t',\n",
       " 'answer',\n",
       " ':',\n",
       " 'stefan',\n",
       " '-',\n",
       " 'bolt',\n",
       " '##zman',\n",
       " '##n',\n",
       " 'law',\n",
       " 'states',\n",
       " 'that',\n",
       " 'the',\n",
       " 'energy',\n",
       " 'flux',\n",
       " 'by',\n",
       " 'radiation',\n",
       " 'is',\n",
       " 'proportional',\n",
       " 'to',\n",
       " 'the',\n",
       " 'forth',\n",
       " 'power',\n",
       " 'of',\n",
       " 'the',\n",
       " 'temperature',\n",
       " ':',\n",
       " 'q',\n",
       " '=',\n",
       " 'ε',\n",
       " '·',\n",
       " 'σ',\n",
       " '·',\n",
       " 't',\n",
       " '^',\n",
       " '4',\n",
       " 'the',\n",
       " 'total',\n",
       " 'energy',\n",
       " 'flux',\n",
       " 'at',\n",
       " 'a',\n",
       " 'spherical',\n",
       " 'surface',\n",
       " 'of',\n",
       " 'radius',\n",
       " 'r',\n",
       " 'is',\n",
       " 'q',\n",
       " '=',\n",
       " 'q',\n",
       " '·',\n",
       " 'π',\n",
       " '·',\n",
       " 'r',\n",
       " '##²',\n",
       " '=',\n",
       " 'ε',\n",
       " '·',\n",
       " 'σ',\n",
       " '·',\n",
       " 't',\n",
       " '^',\n",
       " '4',\n",
       " '·',\n",
       " 'π',\n",
       " '·',\n",
       " 'r',\n",
       " '##²',\n",
       " 'hence',\n",
       " 'the',\n",
       " 'radius',\n",
       " 'is',\n",
       " 'r',\n",
       " '=',\n",
       " '√',\n",
       " '(',\n",
       " 'q',\n",
       " '/',\n",
       " '(',\n",
       " 'ε',\n",
       " '·',\n",
       " 'σ',\n",
       " '·',\n",
       " 't',\n",
       " '^',\n",
       " '4',\n",
       " '·',\n",
       " 'π',\n",
       " ')',\n",
       " ')',\n",
       " '=',\n",
       " '√',\n",
       " '(',\n",
       " '2',\n",
       " '.',\n",
       " '7',\n",
       " '##x',\n",
       " '##10',\n",
       " '+',\n",
       " '32',\n",
       " 'w',\n",
       " '/',\n",
       " '(',\n",
       " '1',\n",
       " '·',\n",
       " '5',\n",
       " '.',\n",
       " '67',\n",
       " '##x',\n",
       " '##10',\n",
       " '-',\n",
       " '8',\n",
       " '##w',\n",
       " '/',\n",
       " 'm²',\n",
       " '##k',\n",
       " '^',\n",
       " '4',\n",
       " '·',\n",
       " '(',\n",
       " '1100',\n",
       " '##k',\n",
       " ')',\n",
       " '^',\n",
       " '4',\n",
       " '·',\n",
       " 'π',\n",
       " ')',\n",
       " ')',\n",
       " '=',\n",
       " '3',\n",
       " '.',\n",
       " '22',\n",
       " '##x',\n",
       " '##10',\n",
       " '+',\n",
       " '13',\n",
       " 'ms',\n",
       " '##our',\n",
       " '##ce',\n",
       " '(',\n",
       " 's',\n",
       " ')',\n",
       " ':',\n",
       " 'http',\n",
       " ':',\n",
       " '/',\n",
       " '/',\n",
       " 'en',\n",
       " '.',\n",
       " 'wikipedia',\n",
       " '.',\n",
       " 'org',\n",
       " '/',\n",
       " 'wi',\n",
       " '##ki',\n",
       " '/',\n",
       " 'stefan',\n",
       " '_',\n",
       " 'bolt',\n",
       " '.',\n",
       " '.',\n",
       " '.',\n",
       " 'sc',\n",
       " '##hmi',\n",
       " '##so',\n",
       " '·',\n",
       " '1',\n",
       " 'decade',\n",
       " 'ago',\n",
       " '##0',\n",
       " '18',\n",
       " 'comments',\n",
       " '##ch',\n",
       " '##mis',\n",
       " '##o',\n",
       " ',',\n",
       " 'you',\n",
       " 'forgot',\n",
       " 'a',\n",
       " '4',\n",
       " 'in',\n",
       " 'your',\n",
       " 'answer',\n",
       " '.',\n",
       " 'your',\n",
       " 'link',\n",
       " 'even',\n",
       " 'says',\n",
       " 'it',\n",
       " ':',\n",
       " 'l',\n",
       " '=',\n",
       " '4',\n",
       " '##pi',\n",
       " '(',\n",
       " 'r',\n",
       " '^',\n",
       " '2',\n",
       " ')',\n",
       " 'sigma',\n",
       " '(',\n",
       " 't',\n",
       " '^',\n",
       " '4',\n",
       " ')',\n",
       " '.',\n",
       " 'using',\n",
       " 'l',\n",
       " ',',\n",
       " 'lu',\n",
       " '##min',\n",
       " '##osity',\n",
       " ',',\n",
       " 'as',\n",
       " 'the',\n",
       " 'energy',\n",
       " 'in',\n",
       " 'this',\n",
       " 'problem',\n",
       " ',',\n",
       " 'you',\n",
       " 'can',\n",
       " 'find',\n",
       " 'the',\n",
       " 'radius',\n",
       " 'r',\n",
       " 'by',\n",
       " 'doing',\n",
       " 'sq',\n",
       " '##rt',\n",
       " '(',\n",
       " 'l',\n",
       " '/',\n",
       " '(',\n",
       " '4',\n",
       " '##pis',\n",
       " '##ig',\n",
       " '##ma',\n",
       " '(',\n",
       " 't',\n",
       " '^',\n",
       " '4',\n",
       " ')',\n",
       " ')',\n",
       " '.',\n",
       " 'hope',\n",
       " 'this',\n",
       " 'helps',\n",
       " 'everyone',\n",
       " '.',\n",
       " 'caroline',\n",
       " '·',\n",
       " '4',\n",
       " 'years',\n",
       " 'ago',\n",
       " '##4',\n",
       " '1',\n",
       " 'comment',\n",
       " '(',\n",
       " 'stefan',\n",
       " '-',\n",
       " 'bolt',\n",
       " '##zman',\n",
       " '##n',\n",
       " 'law',\n",
       " ')',\n",
       " 'l',\n",
       " '=',\n",
       " '4',\n",
       " '##pi',\n",
       " '*',\n",
       " 'r',\n",
       " '^',\n",
       " '2',\n",
       " '*',\n",
       " 'sigma',\n",
       " '*',\n",
       " 't',\n",
       " '^',\n",
       " '4',\n",
       " 'solving',\n",
       " 'for',\n",
       " 'r',\n",
       " 'we',\n",
       " 'get',\n",
       " ':',\n",
       " '=',\n",
       " '>',\n",
       " 'r',\n",
       " '=',\n",
       " '(',\n",
       " '1',\n",
       " '/',\n",
       " '(',\n",
       " '2',\n",
       " '##t',\n",
       " '^',\n",
       " '2',\n",
       " ')',\n",
       " ')',\n",
       " '*',\n",
       " 'sq',\n",
       " '##rt',\n",
       " '(',\n",
       " 'l',\n",
       " '/',\n",
       " '(',\n",
       " 'pi',\n",
       " '*',\n",
       " 'sigma',\n",
       " ')',\n",
       " ')',\n",
       " 'plug',\n",
       " '##ging',\n",
       " 'in',\n",
       " 'your',\n",
       " 'values',\n",
       " 'you',\n",
       " 'should',\n",
       " 'get',\n",
       " ':',\n",
       " '=',\n",
       " '>',\n",
       " 'r',\n",
       " '=',\n",
       " '(',\n",
       " '1',\n",
       " '/',\n",
       " '(',\n",
       " '2',\n",
       " '(',\n",
       " '11',\n",
       " ',',\n",
       " '000',\n",
       " '##k',\n",
       " ')',\n",
       " '^',\n",
       " '2',\n",
       " ')',\n",
       " ')',\n",
       " '*',\n",
       " 'sq',\n",
       " '##rt',\n",
       " '(',\n",
       " '(',\n",
       " '2',\n",
       " '.',\n",
       " '7',\n",
       " '*',\n",
       " '10',\n",
       " '^',\n",
       " '32',\n",
       " '##w',\n",
       " ')',\n",
       " '/',\n",
       " '(',\n",
       " 'pi',\n",
       " '*',\n",
       " '(',\n",
       " '5',\n",
       " '.',\n",
       " '67',\n",
       " '*',\n",
       " '10',\n",
       " '^',\n",
       " '-',\n",
       " '8',\n",
       " 'w',\n",
       " '/',\n",
       " 'm',\n",
       " '^',\n",
       " '2',\n",
       " '##k',\n",
       " '^',\n",
       " '4',\n",
       " ')',\n",
       " ')',\n",
       " ')',\n",
       " 'r',\n",
       " '=',\n",
       " '1',\n",
       " '.',\n",
       " '60',\n",
       " '##9',\n",
       " '*',\n",
       " '10',\n",
       " '^',\n",
       " '11',\n",
       " 'm',\n",
       " '?',\n",
       " '·',\n",
       " '3',\n",
       " 'years',\n",
       " 'ago',\n",
       " '##0',\n",
       " '1',\n",
       " 'comment',\n",
       " '##may',\n",
       " '##be',\n",
       " 'you',\n",
       " 'would',\n",
       " 'like',\n",
       " 'to',\n",
       " 'learn',\n",
       " 'more',\n",
       " 'about',\n",
       " 'one',\n",
       " 'of',\n",
       " 'these',\n",
       " '?',\n",
       " 'want',\n",
       " 'to',\n",
       " 'build',\n",
       " 'a',\n",
       " 'free',\n",
       " 'website',\n",
       " '?',\n",
       " 'interested',\n",
       " 'in',\n",
       " 'dating',\n",
       " 'sites',\n",
       " '?',\n",
       " 'need',\n",
       " 'a',\n",
       " 'home',\n",
       " 'security',\n",
       " 'safe',\n",
       " '?',\n",
       " 'how',\n",
       " 'to',\n",
       " 'order',\n",
       " 'contacts',\n",
       " 'online',\n",
       " '?']"
      ]
     },
     "execution_count": 13,
     "metadata": {},
     "output_type": "execute_result"
    }
   ],
   "source": [
    "tokenized_text"
   ]
  },
  {
   "cell_type": "code",
   "execution_count": 14,
   "metadata": {
    "ExecuteTime": {
     "end_time": "2019-09-17T13:11:39.096322Z",
     "start_time": "2019-09-17T13:11:39.091033Z"
    }
   },
   "outputs": [
    {
     "data": {
      "text/plain": [
       "'D1555982\\thttps://answers.yahoo.com/question/index?qid=20071007114826AAwCFvR\\tThe hot glowing surfaces of stars emit energy in the form of electromagnetic radiation.?\\tScience & Mathematics PhysicsThe hot glowing surfaces of stars emit energy in the form of electromagnetic radiation.?It is a good approximation to assume that the emissivity e is equal to 1 for these surfaces.  Find the radius of the star Rigel, the bright blue star in the constellation Orion that radiates energy at a rate of 2.7 x 10^32 W and has a surface temperature of 11,000 K. Assume that the star is spherical. Use σ =... show moreFollow 3 answersAnswersRelevanceRatingNewestOldestBest Answer: Stefan-Boltzmann law states that the energy flux by radiation is proportional to the forth power of the temperature: q = ε · σ · T^4 The total energy flux at a spherical surface of Radius R is Q = q·π·R² = ε·σ·T^4·π·R² Hence the radius is R = √ ( Q / (ε·σ·T^4·π) ) = √ ( 2.7x10+32 W / (1 · 5.67x10-8W/m²K^4 · (1100K)^4 · π) ) = 3.22x10+13 mSource (s):http://en.wikipedia.org/wiki/Stefan_bolt...schmiso · 1 decade ago0 18 CommentSchmiso, you forgot a 4 in your answer. Your link even says it: L = 4pi (R^2)sigma (T^4). Using L, luminosity, as the energy in this problem, you can find the radius R by doing sqrt (L/ (4pisigma (T^4)). Hope this helps everyone.Caroline · 4 years ago4 1 Comment (Stefan-Boltzmann law) L = 4pi*R^2*sigma*T^4 Solving for R we get: => R = (1/ (2T^2)) * sqrt (L/ (pi*sigma)) Plugging in your values you should get: => R = (1/ (2 (11,000K)^2)) *sqrt ( (2.7*10^32W)/ (pi * (5.67*10^-8 W/m^2K^4))) R = 1.609 * 10^11 m? · 3 years ago0 1 CommentMaybe you would like to learn more about one of these?Want to build a free website? Interested in dating sites?Need a Home Security Safe? How to order contacts online?\\n'"
      ]
     },
     "execution_count": 14,
     "metadata": {},
     "output_type": "execute_result"
    }
   ],
   "source": [
    "line"
   ]
  },
  {
   "cell_type": "code",
   "execution_count": 16,
   "metadata": {
    "ExecuteTime": {
     "end_time": "2019-09-17T13:12:28.759698Z",
     "start_time": "2019-09-17T13:12:28.754087Z"
    }
   },
   "outputs": [
    {
     "data": {
      "text/plain": [
       "\"['the', 'hot', 'glowing', 'surfaces', 'of', 'stars', 'emi', '##t', 'energy', 'in', 'the', 'form', 'of', 'electromagnetic', 'radiation', '.', '?', 'science', '&', 'mathematics', 'physics', '##the', 'hot', 'glowing', 'surfaces', 'of', 'stars', 'emi', '##t', 'energy', 'in', 'the', 'form', 'of', 'electromagnetic', 'radiation', '.', '?', 'it', 'is', 'a', 'good', 'approximation', 'to', 'assume', 'that', 'the', 'emi', '##ssi', '##vity', 'e', 'is', 'equal', 'to', '1', 'for', 'these', 'surfaces', '.', 'find', 'the', 'radius', 'of', 'the', 'star', 'rig', '##el', ',', 'the', 'bright', 'blue', 'star', 'in', 'the', 'constellation', 'orion', 'that', 'ra', '##dia', '##tes', 'energy', 'at', 'a', 'rate', 'of', '2', '.', '7', 'x', '10', '^', '32', 'w', 'and', 'has', 'a', 'surface', 'temperature', 'of', '11', ',', '000', 'k', '.', 'assume', 'that', 'the', 'star', 'is', 'spherical', '.', 'use', 'σ', '=', '.', '.', '.', 'show', 'more', '##fo', '##llo', '##w', '3', 'answers', '##ans', '##wer', '##sr', '##ele', '##vance', '##rating', '##ne', '##west', '##old', '##est', '##bes', '##t', 'answer', ':', 'stefan', '-', 'bolt', '##zman', '##n', 'law', 'states', 'that', 'the', 'energy', 'flux', 'by', 'radiation', 'is', 'proportional', 'to', 'the', 'forth', 'power', 'of', 'the', 'temperature', ':', 'q', '=', 'ε', '·', 'σ', '·', 't', '^', '4', 'the', 'total', 'energy', 'flux', 'at', 'a', 'spherical', 'surface', 'of', 'radius', 'r', 'is', 'q', '=', 'q', '·', 'π', '·', 'r', '##²', '=', 'ε', '·', 'σ', '·', 't', '^', '4', '·', 'π', '·', 'r', '##²', 'hence', 'the', 'radius', 'is', 'r', '=', '√', '(', 'q', '/', '(', 'ε', '·', 'σ', '·', 't', '^', '4', '·', 'π', ')', ')', '=', '√', '(', '2', '.', '7', '##x', '##10', '+', '32', 'w', '/', '(', '1', '·', '5', '.', '67', '##x', '##10', '-', '8', '##w', '/', 'm²', '##k', '^', '4', '·', '(', '1100', '##k', ')', '^', '4', '·', 'π', ')', ')', '=', '3', '.', '22', '##x', '##10', '+', '13', 'ms', '##our', '##ce', '(', 's', ')', ':', 'http', ':', '/', '/', 'en', '.', 'wikipedia', '.', 'org', '/', 'wi', '##ki', '/', 'stefan', '_', 'bolt', '.', '.', '.', 'sc', '##hmi', '##so', '·', '1', 'decade', 'ago', '##0', '18', 'comments', '##ch', '##mis', '##o', ',', 'you', 'forgot', 'a', '4', 'in', 'your', 'answer', '.', 'your', 'link', 'even', 'says', 'it', ':', 'l', '=', '4', '##pi', '(', 'r', '^', '2', ')', 'sigma', '(', 't', '^', '4', ')', '.', 'using', 'l', ',', 'lu', '##min', '##osity', ',', 'as', 'the', 'energy', 'in', 'this', 'problem', ',', 'you', 'can', 'find', 'the', 'radius', 'r', 'by', 'doing', 'sq', '##rt', '(', 'l', '/', '(', '4', '##pis', '##ig', '##ma', '(', 't', '^', '4', ')', ')', '.', 'hope', 'this', 'helps', 'everyone', '.', 'caroline', '·', '4', 'years', 'ago', '##4', '1', 'comment', '(', 'stefan', '-', 'bolt', '##zman', '##n', 'law', ')', 'l', '=', '4', '##pi', '*', 'r', '^', '2', '*', 'sigma', '*', 't', '^', '4', 'solving', 'for', 'r', 'we', 'get', ':', '=', '>', 'r', '=', '(', '1', '/', '(', '2', '##t', '^', '2', ')', ')', '*', 'sq', '##rt', '(', 'l', '/', '(', 'pi', '*', 'sigma', ')', ')', 'plug', '##ging', 'in', 'your', 'values', 'you', 'should', 'get', ':', '=', '>', 'r', '=', '(', '1', '/', '(', '2', '(', '11', ',', '000', '##k', ')', '^', '2', ')', ')', '*', 'sq', '##rt', '(', '(', '2', '.', '7', '*', '10', '^', '32', '##w', ')', '/', '(', 'pi', '*', '(', '5', '.', '67', '*', '10', '^', '-', '8', 'w', '/', 'm', '^', '2', '##k', '^', '4', ')', ')', ')', 'r', '=', '1', '.', '60', '##9', '*', '10', '^', '11', 'm', '?', '·', '3', 'years', 'ago', '##0', '1', 'comment', '##may', '##be', 'you', 'would', 'like', 'to', 'learn', 'more', 'about', 'one', 'of', 'these', '?', 'want', 'to', 'build', 'a', 'free', 'website', '?', 'interested', 'in', 'dating', 'sites', '?', 'need', 'a', 'home', 'security', 'safe', '?', 'how', 'to', 'order', 'contacts', 'online', '?']\""
      ]
     },
     "execution_count": 16,
     "metadata": {},
     "output_type": "execute_result"
    }
   ],
   "source": [
    "str(tokenized_text)"
   ]
  },
  {
   "cell_type": "code",
   "execution_count": 11,
   "metadata": {
    "ExecuteTime": {
     "end_time": "2019-09-17T13:26:42.585846Z",
     "start_time": "2019-09-17T13:26:38.542494Z"
    }
   },
   "outputs": [],
   "source": [
    "def getcontent(docid, file_name):\n",
    "    \"\"\"getcontent(docid, f) will get content for a given docid (a string) from filehandle f.\n",
    "    The content has four tab-separated strings: docid, url, title, body.\n",
    "    \"\"\"\n",
    "    with open(file_name, encoding='utf-8') as f:\n",
    "        f.seek(docoffset[docid])\n",
    "        line = f.readline()\n",
    "        assert line.startswith(docid + \"\\t\"), \\\n",
    "            f\"Looking for {docid}, found {line}\"\n",
    "    return line.rstrip()\n",
    "import csv\n",
    "docoffset = {}\n",
    "lookup_file = os.path.join(DATADIR, \"docs\", \"msmarco-docs-lookup.tsv\")\n",
    "with open(lookup_file, 'r', encoding='utf-8') as f:\n",
    "    tsvreader = csv.reader(f, delimiter=\"\\t\")\n",
    "    for [docid, _, offset] in tsvreader:\n",
    "        docoffset[docid] = int(offset)\n"
   ]
  },
  {
   "cell_type": "code",
   "execution_count": 17,
   "metadata": {
    "ExecuteTime": {
     "end_time": "2019-09-17T13:42:59.454674Z",
     "start_time": "2019-09-17T13:27:52.883005Z"
    }
   },
   "outputs": [
    {
     "data": {
      "application/vnd.jupyter.widget-view+json": {
       "model_id": "73e8e7e11e164a4e8460947d576f46ec",
       "version_major": 2,
       "version_minor": 0
      },
      "text/plain": [
       "HBox(children=(IntProgress(value=0, max=296533), HTML(value='')))"
      ]
     },
     "metadata": {},
     "output_type": "display_data"
    },
    {
     "ename": "KeyboardInterrupt",
     "evalue": "",
     "output_type": "error",
     "traceback": [
      "\u001b[0;31m---------------------------------------------------------------------------\u001b[0m",
      "\u001b[0;31mKeyboardInterrupt\u001b[0m                         Traceback (most recent call last)",
      "\u001b[0;32m<ipython-input-17-82dacd4269ab>\u001b[0m in \u001b[0;36m<module>\u001b[0;34m\u001b[0m\n\u001b[1;32m     11\u001b[0m     \u001b[0mdocs_processed\u001b[0m\u001b[0;34m.\u001b[0m\u001b[0madd\u001b[0m\u001b[0;34m(\u001b[0m\u001b[0mdoc_id\u001b[0m\u001b[0;34m)\u001b[0m\u001b[0;34m\u001b[0m\u001b[0;34m\u001b[0m\u001b[0m\n\u001b[1;32m     12\u001b[0m \u001b[0;32mfor\u001b[0m \u001b[0mdoc\u001b[0m \u001b[0;32min\u001b[0m \u001b[0mtqdm\u001b[0m\u001b[0;34m(\u001b[0m\u001b[0mdocs_processed\u001b[0m\u001b[0;34m)\u001b[0m\u001b[0;34m:\u001b[0m\u001b[0;34m\u001b[0m\u001b[0;34m\u001b[0m\u001b[0m\n\u001b[0;32m---> 13\u001b[0;31m     \u001b[0mtokenized\u001b[0m \u001b[0;34m=\u001b[0m \u001b[0mtokenizer\u001b[0m\u001b[0;34m.\u001b[0m\u001b[0mtokenize\u001b[0m\u001b[0;34m(\u001b[0m\u001b[0mgetcontent\u001b[0m\u001b[0;34m(\u001b[0m\u001b[0mdoc\u001b[0m\u001b[0;34m,\u001b[0m \u001b[0mdocs_file\u001b[0m\u001b[0;34m)\u001b[0m\u001b[0;34m)\u001b[0m\u001b[0;34m\u001b[0m\u001b[0;34m\u001b[0m\u001b[0m\n\u001b[0m\u001b[1;32m     14\u001b[0m     \u001b[0mlens\u001b[0m\u001b[0;34m.\u001b[0m\u001b[0mappend\u001b[0m\u001b[0;34m(\u001b[0m\u001b[0mlen\u001b[0m\u001b[0;34m(\u001b[0m\u001b[0mtokenized\u001b[0m\u001b[0;34m)\u001b[0m\u001b[0;34m)\u001b[0m\u001b[0;34m\u001b[0m\u001b[0;34m\u001b[0m\u001b[0m\n",
      "\u001b[0;32m~/miniconda3/envs/bert/lib/python3.7/site-packages/pytorch_transformers/tokenization_utils.py\u001b[0m in \u001b[0;36mtokenize\u001b[0;34m(self, text, **kwargs)\u001b[0m\n\u001b[1;32m    638\u001b[0m \u001b[0;34m\u001b[0m\u001b[0m\n\u001b[1;32m    639\u001b[0m         \u001b[0madded_tokens\u001b[0m \u001b[0;34m=\u001b[0m \u001b[0mlist\u001b[0m\u001b[0;34m(\u001b[0m\u001b[0mself\u001b[0m\u001b[0;34m.\u001b[0m\u001b[0madded_tokens_encoder\u001b[0m\u001b[0;34m.\u001b[0m\u001b[0mkeys\u001b[0m\u001b[0;34m(\u001b[0m\u001b[0;34m)\u001b[0m\u001b[0;34m)\u001b[0m \u001b[0;34m+\u001b[0m \u001b[0mself\u001b[0m\u001b[0;34m.\u001b[0m\u001b[0mall_special_tokens\u001b[0m\u001b[0;34m\u001b[0m\u001b[0;34m\u001b[0m\u001b[0m\n\u001b[0;32m--> 640\u001b[0;31m         \u001b[0mtokenized_text\u001b[0m \u001b[0;34m=\u001b[0m \u001b[0msplit_on_tokens\u001b[0m\u001b[0;34m(\u001b[0m\u001b[0madded_tokens\u001b[0m\u001b[0;34m,\u001b[0m \u001b[0mtext\u001b[0m\u001b[0;34m)\u001b[0m\u001b[0;34m\u001b[0m\u001b[0;34m\u001b[0m\u001b[0m\n\u001b[0m\u001b[1;32m    641\u001b[0m         \u001b[0;32mreturn\u001b[0m \u001b[0mtokenized_text\u001b[0m\u001b[0;34m\u001b[0m\u001b[0;34m\u001b[0m\u001b[0m\n\u001b[1;32m    642\u001b[0m \u001b[0;34m\u001b[0m\u001b[0m\n",
      "\u001b[0;32m~/miniconda3/envs/bert/lib/python3.7/site-packages/pytorch_transformers/tokenization_utils.py\u001b[0m in \u001b[0;36msplit_on_tokens\u001b[0;34m(tok_list, text)\u001b[0m\n\u001b[1;32m    635\u001b[0m             return sum((self._tokenize(token, **kwargs) if token not \\\n\u001b[1;32m    636\u001b[0m                     \u001b[0;32min\u001b[0m \u001b[0mself\u001b[0m\u001b[0;34m.\u001b[0m\u001b[0madded_tokens_encoder\u001b[0m \u001b[0;32mand\u001b[0m \u001b[0mtoken\u001b[0m \u001b[0;32mnot\u001b[0m \u001b[0;32min\u001b[0m \u001b[0mself\u001b[0m\u001b[0;34m.\u001b[0m\u001b[0mall_special_tokens\u001b[0m\u001b[0;31m \u001b[0m\u001b[0;31m\\\u001b[0m\u001b[0;34m\u001b[0m\u001b[0;34m\u001b[0m\u001b[0m\n\u001b[0;32m--> 637\u001b[0;31m                     else [token] for token in tokenized_text), [])\n\u001b[0m\u001b[1;32m    638\u001b[0m \u001b[0;34m\u001b[0m\u001b[0m\n\u001b[1;32m    639\u001b[0m         \u001b[0madded_tokens\u001b[0m \u001b[0;34m=\u001b[0m \u001b[0mlist\u001b[0m\u001b[0;34m(\u001b[0m\u001b[0mself\u001b[0m\u001b[0;34m.\u001b[0m\u001b[0madded_tokens_encoder\u001b[0m\u001b[0;34m.\u001b[0m\u001b[0mkeys\u001b[0m\u001b[0;34m(\u001b[0m\u001b[0;34m)\u001b[0m\u001b[0;34m)\u001b[0m \u001b[0;34m+\u001b[0m \u001b[0mself\u001b[0m\u001b[0;34m.\u001b[0m\u001b[0mall_special_tokens\u001b[0m\u001b[0;34m\u001b[0m\u001b[0;34m\u001b[0m\u001b[0m\n",
      "\u001b[0;32m~/miniconda3/envs/bert/lib/python3.7/site-packages/pytorch_transformers/tokenization_utils.py\u001b[0m in \u001b[0;36m<genexpr>\u001b[0;34m(.0)\u001b[0m\n\u001b[1;32m    635\u001b[0m             return sum((self._tokenize(token, **kwargs) if token not \\\n\u001b[1;32m    636\u001b[0m                     \u001b[0;32min\u001b[0m \u001b[0mself\u001b[0m\u001b[0;34m.\u001b[0m\u001b[0madded_tokens_encoder\u001b[0m \u001b[0;32mand\u001b[0m \u001b[0mtoken\u001b[0m \u001b[0;32mnot\u001b[0m \u001b[0;32min\u001b[0m \u001b[0mself\u001b[0m\u001b[0;34m.\u001b[0m\u001b[0mall_special_tokens\u001b[0m\u001b[0;31m \u001b[0m\u001b[0;31m\\\u001b[0m\u001b[0;34m\u001b[0m\u001b[0;34m\u001b[0m\u001b[0m\n\u001b[0;32m--> 637\u001b[0;31m                     else [token] for token in tokenized_text), [])\n\u001b[0m\u001b[1;32m    638\u001b[0m \u001b[0;34m\u001b[0m\u001b[0m\n\u001b[1;32m    639\u001b[0m         \u001b[0madded_tokens\u001b[0m \u001b[0;34m=\u001b[0m \u001b[0mlist\u001b[0m\u001b[0;34m(\u001b[0m\u001b[0mself\u001b[0m\u001b[0;34m.\u001b[0m\u001b[0madded_tokens_encoder\u001b[0m\u001b[0;34m.\u001b[0m\u001b[0mkeys\u001b[0m\u001b[0;34m(\u001b[0m\u001b[0;34m)\u001b[0m\u001b[0;34m)\u001b[0m \u001b[0;34m+\u001b[0m \u001b[0mself\u001b[0m\u001b[0;34m.\u001b[0m\u001b[0mall_special_tokens\u001b[0m\u001b[0;34m\u001b[0m\u001b[0;34m\u001b[0m\u001b[0m\n",
      "\u001b[0;32m~/miniconda3/envs/bert/lib/python3.7/site-packages/pytorch_transformers/tokenization_bert.py\u001b[0m in \u001b[0;36m_tokenize\u001b[0;34m(self, text)\u001b[0m\n\u001b[1;32m    168\u001b[0m         \u001b[0msplit_tokens\u001b[0m \u001b[0;34m=\u001b[0m \u001b[0;34m[\u001b[0m\u001b[0;34m]\u001b[0m\u001b[0;34m\u001b[0m\u001b[0;34m\u001b[0m\u001b[0m\n\u001b[1;32m    169\u001b[0m         \u001b[0;32mif\u001b[0m \u001b[0mself\u001b[0m\u001b[0;34m.\u001b[0m\u001b[0mdo_basic_tokenize\u001b[0m\u001b[0;34m:\u001b[0m\u001b[0;34m\u001b[0m\u001b[0;34m\u001b[0m\u001b[0m\n\u001b[0;32m--> 170\u001b[0;31m             \u001b[0;32mfor\u001b[0m \u001b[0mtoken\u001b[0m \u001b[0;32min\u001b[0m \u001b[0mself\u001b[0m\u001b[0;34m.\u001b[0m\u001b[0mbasic_tokenizer\u001b[0m\u001b[0;34m.\u001b[0m\u001b[0mtokenize\u001b[0m\u001b[0;34m(\u001b[0m\u001b[0mtext\u001b[0m\u001b[0;34m,\u001b[0m \u001b[0mnever_split\u001b[0m\u001b[0;34m=\u001b[0m\u001b[0mself\u001b[0m\u001b[0;34m.\u001b[0m\u001b[0mall_special_tokens\u001b[0m\u001b[0;34m)\u001b[0m\u001b[0;34m:\u001b[0m\u001b[0;34m\u001b[0m\u001b[0;34m\u001b[0m\u001b[0m\n\u001b[0m\u001b[1;32m    171\u001b[0m                 \u001b[0;32mfor\u001b[0m \u001b[0msub_token\u001b[0m \u001b[0;32min\u001b[0m \u001b[0mself\u001b[0m\u001b[0;34m.\u001b[0m\u001b[0mwordpiece_tokenizer\u001b[0m\u001b[0;34m.\u001b[0m\u001b[0mtokenize\u001b[0m\u001b[0;34m(\u001b[0m\u001b[0mtoken\u001b[0m\u001b[0;34m)\u001b[0m\u001b[0;34m:\u001b[0m\u001b[0;34m\u001b[0m\u001b[0;34m\u001b[0m\u001b[0m\n\u001b[1;32m    172\u001b[0m                     \u001b[0msplit_tokens\u001b[0m\u001b[0;34m.\u001b[0m\u001b[0mappend\u001b[0m\u001b[0;34m(\u001b[0m\u001b[0msub_token\u001b[0m\u001b[0;34m)\u001b[0m\u001b[0;34m\u001b[0m\u001b[0;34m\u001b[0m\u001b[0m\n",
      "\u001b[0;32m~/miniconda3/envs/bert/lib/python3.7/site-packages/pytorch_transformers/tokenization_bert.py\u001b[0m in \u001b[0;36mtokenize\u001b[0;34m(self, text, never_split)\u001b[0m\n\u001b[1;32m    256\u001b[0m         \"\"\"\n\u001b[1;32m    257\u001b[0m         \u001b[0mnever_split\u001b[0m \u001b[0;34m=\u001b[0m \u001b[0mself\u001b[0m\u001b[0;34m.\u001b[0m\u001b[0mnever_split\u001b[0m \u001b[0;34m+\u001b[0m \u001b[0;34m(\u001b[0m\u001b[0mnever_split\u001b[0m \u001b[0;32mif\u001b[0m \u001b[0mnever_split\u001b[0m \u001b[0;32mis\u001b[0m \u001b[0;32mnot\u001b[0m \u001b[0;32mNone\u001b[0m \u001b[0;32melse\u001b[0m \u001b[0;34m[\u001b[0m\u001b[0;34m]\u001b[0m\u001b[0;34m)\u001b[0m\u001b[0;34m\u001b[0m\u001b[0;34m\u001b[0m\u001b[0m\n\u001b[0;32m--> 258\u001b[0;31m         \u001b[0mtext\u001b[0m \u001b[0;34m=\u001b[0m \u001b[0mself\u001b[0m\u001b[0;34m.\u001b[0m\u001b[0m_clean_text\u001b[0m\u001b[0;34m(\u001b[0m\u001b[0mtext\u001b[0m\u001b[0;34m)\u001b[0m\u001b[0;34m\u001b[0m\u001b[0;34m\u001b[0m\u001b[0m\n\u001b[0m\u001b[1;32m    259\u001b[0m         \u001b[0;31m# This was added on November 1st, 2018 for the multilingual and Chinese\u001b[0m\u001b[0;34m\u001b[0m\u001b[0;34m\u001b[0m\u001b[0;34m\u001b[0m\u001b[0m\n\u001b[1;32m    260\u001b[0m         \u001b[0;31m# models. This is also applied to the English models now, but it doesn't\u001b[0m\u001b[0;34m\u001b[0m\u001b[0;34m\u001b[0m\u001b[0;34m\u001b[0m\u001b[0m\n",
      "\u001b[0;32m~/miniconda3/envs/bert/lib/python3.7/site-packages/pytorch_transformers/tokenization_bert.py\u001b[0m in \u001b[0;36m_clean_text\u001b[0;34m(self, text)\u001b[0m\n\u001b[1;32m    349\u001b[0m         \u001b[0;32mfor\u001b[0m \u001b[0mchar\u001b[0m \u001b[0;32min\u001b[0m \u001b[0mtext\u001b[0m\u001b[0;34m:\u001b[0m\u001b[0;34m\u001b[0m\u001b[0;34m\u001b[0m\u001b[0m\n\u001b[1;32m    350\u001b[0m             \u001b[0mcp\u001b[0m \u001b[0;34m=\u001b[0m \u001b[0mord\u001b[0m\u001b[0;34m(\u001b[0m\u001b[0mchar\u001b[0m\u001b[0;34m)\u001b[0m\u001b[0;34m\u001b[0m\u001b[0;34m\u001b[0m\u001b[0m\n\u001b[0;32m--> 351\u001b[0;31m             \u001b[0;32mif\u001b[0m \u001b[0mcp\u001b[0m \u001b[0;34m==\u001b[0m \u001b[0;36m0\u001b[0m \u001b[0;32mor\u001b[0m \u001b[0mcp\u001b[0m \u001b[0;34m==\u001b[0m \u001b[0;36m0xfffd\u001b[0m \u001b[0;32mor\u001b[0m \u001b[0m_is_control\u001b[0m\u001b[0;34m(\u001b[0m\u001b[0mchar\u001b[0m\u001b[0;34m)\u001b[0m\u001b[0;34m:\u001b[0m\u001b[0;34m\u001b[0m\u001b[0;34m\u001b[0m\u001b[0m\n\u001b[0m\u001b[1;32m    352\u001b[0m                 \u001b[0;32mcontinue\u001b[0m\u001b[0;34m\u001b[0m\u001b[0;34m\u001b[0m\u001b[0m\n\u001b[1;32m    353\u001b[0m             \u001b[0;32mif\u001b[0m \u001b[0m_is_whitespace\u001b[0m\u001b[0;34m(\u001b[0m\u001b[0mchar\u001b[0m\u001b[0;34m)\u001b[0m\u001b[0;34m:\u001b[0m\u001b[0;34m\u001b[0m\u001b[0;34m\u001b[0m\u001b[0m\n",
      "\u001b[0;31mKeyboardInterrupt\u001b[0m: "
     ]
    }
   ],
   "source": [
    "import os\n",
    "from pytorch_transformers import BertTokenizer\n",
    "tokenizer = BertTokenizer.from_pretrained(\"/ssd2/arthur/TREC2019/data/models/\")\n",
    "\n",
    "docs_file = os.path.join(DATADIR, \"docs\", \"msmarco-docs.tsv\")\n",
    "lens  = []\n",
    "docs_processed = set()\n",
    "from tqdm.auto import tqdm\n",
    "for line in open(\"/ssd2/arthur/TREC2019/data/runs/dev_QL.run\"):\n",
    "    doc_id = line.split()[2]\n",
    "    docs_processed.add(doc_id)\n",
    "for doc in tqdm(docs_processed):\n",
    "    tokenized = tokenizer.tokenize(getcontent(doc, docs_file))\n",
    "    lens.append(len(tokenized))"
   ]
  },
  {
   "cell_type": "code",
   "execution_count": 38,
   "metadata": {
    "ExecuteTime": {
     "end_time": "2019-07-11T12:54:59.415478Z",
     "start_time": "2019-07-11T12:54:55.883900Z"
    }
   },
   "outputs": [
    {
     "data": {
      "text/plain": [
       "(1084.8807160292922, 551.0, 2324.2245817825396)"
      ]
     },
     "execution_count": 38,
     "metadata": {},
     "output_type": "execute_result"
    }
   ],
   "source": [
    "np.mean(lens), np.median(lens), np.std(lens)"
   ]
  },
  {
   "cell_type": "code",
   "execution_count": 43,
   "metadata": {
    "ExecuteTime": {
     "end_time": "2019-07-11T13:06:11.616200Z",
     "start_time": "2019-07-11T13:06:11.329547Z"
    }
   },
   "outputs": [],
   "source": [
    "%matplotlib inline\n",
    "from matplotlib import pyplot as plt \n",
    "lens = np.asarray(lens)"
   ]
  },
  {
   "cell_type": "code",
   "execution_count": 55,
   "metadata": {
    "ExecuteTime": {
     "end_time": "2019-07-11T13:07:57.027528Z",
     "start_time": "2019-07-11T13:07:56.974029Z"
    }
   },
   "outputs": [
    {
     "data": {
      "text/plain": [
       "551.0"
      ]
     },
     "execution_count": 55,
     "metadata": {},
     "output_type": "execute_result"
    }
   ],
   "source": [
    "np.median(lens)"
   ]
  },
  {
   "cell_type": "code",
   "execution_count": 60,
   "metadata": {
    "ExecuteTime": {
     "end_time": "2019-07-11T13:09:16.331572Z",
     "start_time": "2019-07-11T13:09:15.889663Z"
    }
   },
   "outputs": [],
   "source": [
    "lens_ = lens[lens<2000]"
   ]
  },
  {
   "cell_type": "code",
   "execution_count": 61,
   "metadata": {
    "ExecuteTime": {
     "end_time": "2019-07-11T13:09:19.071153Z",
     "start_time": "2019-07-11T13:09:18.711468Z"
    }
   },
   "outputs": [
    {
     "data": {
      "text/plain": [
       "(array([42276., 38806., 44514., 54142., 62180., 64484., 66520., 64897.,\n",
       "        66221., 65962., 63913., 64070., 64885., 63347., 62866., 62001.,\n",
       "        62560., 61689., 60450., 57545., 57366., 56386., 57287., 54486.,\n",
       "        52975., 53428., 51962., 50282., 48188., 46790., 44802., 44421.,\n",
       "        41417., 38779., 37560., 35667., 34282., 33352., 31765., 30375.,\n",
       "        28805., 27754., 26648., 25467., 24599., 23902., 22813., 22398.,\n",
       "        21828., 20944., 20161., 19441., 18717., 18121., 17173., 16502.,\n",
       "        15979., 15424., 14519., 14484., 14089., 13720., 13046., 12903.,\n",
       "        12229., 12023., 11482., 10838., 10513., 10286., 10125.,  9797.,\n",
       "         9830.,  9052.,  9040.,  8843.,  8469.,  8284.,  8187.,  7875.,\n",
       "         7625.,  7392.,  7209.,  7040.,  7036.,  6765.,  6709.,  6574.,\n",
       "         6369.,  6011.,  6081.,  5885.,  5879.,  5641.,  5567.,  5486.,\n",
       "         5395.,  5373.,  5117.,  5043.]),\n",
       " array([   0.  ,   19.99,   39.98,   59.97,   79.96,   99.95,  119.94,\n",
       "         139.93,  159.92,  179.91,  199.9 ,  219.89,  239.88,  259.87,\n",
       "         279.86,  299.85,  319.84,  339.83,  359.82,  379.81,  399.8 ,\n",
       "         419.79,  439.78,  459.77,  479.76,  499.75,  519.74,  539.73,\n",
       "         559.72,  579.71,  599.7 ,  619.69,  639.68,  659.67,  679.66,\n",
       "         699.65,  719.64,  739.63,  759.62,  779.61,  799.6 ,  819.59,\n",
       "         839.58,  859.57,  879.56,  899.55,  919.54,  939.53,  959.52,\n",
       "         979.51,  999.5 , 1019.49, 1039.48, 1059.47, 1079.46, 1099.45,\n",
       "        1119.44, 1139.43, 1159.42, 1179.41, 1199.4 , 1219.39, 1239.38,\n",
       "        1259.37, 1279.36, 1299.35, 1319.34, 1339.33, 1359.32, 1379.31,\n",
       "        1399.3 , 1419.29, 1439.28, 1459.27, 1479.26, 1499.25, 1519.24,\n",
       "        1539.23, 1559.22, 1579.21, 1599.2 , 1619.19, 1639.18, 1659.17,\n",
       "        1679.16, 1699.15, 1719.14, 1739.13, 1759.12, 1779.11, 1799.1 ,\n",
       "        1819.09, 1839.08, 1859.07, 1879.06, 1899.05, 1919.04, 1939.03,\n",
       "        1959.02, 1979.01, 1999.  ]),\n",
       " <a list of 100 Patch objects>)"
      ]
     },
     "execution_count": 61,
     "metadata": {},
     "output_type": "execute_result"
    },
    {
     "data": {
      "image/png": "[encoded data removed]",
      "text/plain": [
       "<Figure size 432x288 with 1 Axes>"
      ]
     },
     "metadata": {
      "needs_background": "light"
     },
     "output_type": "display_data"
    }
   ],
   "source": [
    "# plt.plot(np.histogram(lens))\n",
    "plt.hist(lens_, bins=100)"
   ]
  }
 ],
 "metadata": {
  "kernelspec": {
   "display_name": "Python 3",
   "language": "python",
   "name": "python3"
  },
  "language_info": {
   "codemirror_mode": {
    "name": "ipython",
    "version": 3
   },
   "file_extension": ".py",
   "mimetype": "text/x-python",
   "name": "python",
   "nbconvert_exporter": "python",
   "pygments_lexer": "ipython3",
   "version": "3.7.3"
  }
 },
 "nbformat": 4,
 "nbformat_minor": 2
}
