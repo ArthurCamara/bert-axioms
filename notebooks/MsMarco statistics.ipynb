{
 "cells": [
  {
   "cell_type": "code",
   "execution_count": 2,
   "metadata": {
    "ExecuteTime": {
     "end_time": "2019-07-11T12:39:06.742988Z",
     "start_time": "2019-07-11T12:39:06.625647Z"
    }
   },
   "outputs": [
    {
     "name": "stdout",
     "output_type": "stream",
     "text": [
      "dev.datapack\t\t\t msmarco-doctrain-top100.gz\r\n",
      "index\t\t\t\t msmarco-doctriples.py\r\n",
      "msmarco-docdev-qrels.tsv.gz\t mz_datapack\r\n",
      "msmarco-docdev-queries.tsv.gz\t sample.trec\r\n",
      "msmarco-docdev-top100.gz\t split_msmarco.py\r\n",
      "msmarco-docs-lookup.tsv.gz\t splitted-tsv\r\n",
      "msmarco-docs.trec\t\t train.datapack\r\n",
      "msmarco-docs.tsv\t\t train.datapack.processed\r\n",
      "msmarco-doctrain-qrels.tsv.gz\t TREC2Matchzhoo.py\r\n",
      "msmarco-doctrain-queries.tsv\t triples_dev.tsv\r\n",
      "msmarco-doctrain-queries.tsv.gz  triples.tsv\r\n"
     ]
    }
   ],
   "source": [
    "DATADIR=\"/ssd2/arthur/TREC2019/data/\"\n",
    "!ls $DATADIR"
   ]
  },
  {
   "cell_type": "code",
   "execution_count": 11,
   "metadata": {
    "ExecuteTime": {
     "end_time": "2019-07-11T12:41:23.941992Z",
     "start_time": "2019-07-11T12:41:23.936545Z"
    }
   },
   "outputs": [
    {
     "data": {
      "text/plain": [
       "[\"b'174249\\\\tdoes xpress bet charge to deposit money in your account\\\\r\\\\n'\"]"
      ]
     },
     "execution_count": 11,
     "metadata": {},
     "output_type": "execute_result"
    }
   ],
   "source": [
    "str(line).split(\"\\t\")"
   ]
  },
  {
   "cell_type": "code",
   "execution_count": 12,
   "metadata": {
    "ExecuteTime": {
     "end_time": "2019-07-11T12:41:44.898664Z",
     "start_time": "2019-07-11T12:41:44.861779Z"
    }
   },
   "outputs": [],
   "source": [
    "import os\n",
    "import gzip\n",
    "queries_file = os.path.join(DATADIR, \"msmarco-docdev-queries.tsv.gz\")\n",
    "lens  = []\n",
    "for line in gzip.open(queries_file):\n",
    "    lens.append(len(line.split(b\"\\t\")[1].split()))\n",
    "    "
   ]
  },
  {
   "cell_type": "code",
   "execution_count": 15,
   "metadata": {
    "ExecuteTime": {
     "end_time": "2019-07-11T12:42:12.634871Z",
     "start_time": "2019-07-11T12:42:12.477680Z"
    }
   },
   "outputs": [
    {
     "data": {
      "text/plain": [
       "(5.891199691892933, 6.0, 2.511116353157464)"
      ]
     },
     "execution_count": 15,
     "metadata": {},
     "output_type": "execute_result"
    }
   ],
   "source": [
    "import numpy as np \n",
    "np.mean(lens), np.median(lens), np.std(lens)"
   ]
  },
  {
   "cell_type": "code",
   "execution_count": 27,
   "metadata": {
    "ExecuteTime": {
     "end_time": "2019-07-11T12:45:10.162001Z",
     "start_time": "2019-07-11T12:45:10.155389Z"
    }
   },
   "outputs": [
    {
     "data": {
      "text/plain": [
       "'The hot glowing surfaces of stars emit energy in the form of electromagnetic radiation.? Science & Mathematics PhysicsThe hot glowing surfaces of stars emit energy in the form of electromagnetic radiation.?It is a good approximation to assume that the emissivity e is equal to 1 for these surfaces.  Find the radius of the star Rigel, the bright blue star in the constellation Orion that radiates energy at a rate of 2.7 x 10^32 W and has a surface temperature of 11,000 K. Assume that the star is spherical. Use σ =... show moreFollow 3 answersAnswersRelevanceRatingNewestOldestBest Answer: Stefan-Boltzmann law states that the energy flux by radiation is proportional to the forth power of the temperature: q = ε · σ · T^4 The total energy flux at a spherical surface of Radius R is Q = q·π·R² = ε·σ·T^4·π·R² Hence the radius is R = √ ( Q / (ε·σ·T^4·π) ) = √ ( 2.7x10+32 W / (1 · 5.67x10-8W/m²K^4 · (1100K)^4 · π) ) = 3.22x10+13 mSource (s):http://en.wikipedia.org/wiki/Stefan_bolt...schmiso · 1 decade ago0 18 CommentSchmiso, you forgot a 4 in your answer. Your link even says it: L = 4pi (R^2)sigma (T^4). Using L, luminosity, as the energy in this problem, you can find the radius R by doing sqrt (L/ (4pisigma (T^4)). Hope this helps everyone.Caroline · 4 years ago4 1 Comment (Stefan-Boltzmann law) L = 4pi*R^2*sigma*T^4 Solving for R we get: => R = (1/ (2T^2)) * sqrt (L/ (pi*sigma)) Plugging in your values you should get: => R = (1/ (2 (11,000K)^2)) *sqrt ( (2.7*10^32W)/ (pi * (5.67*10^-8 W/m^2K^4))) R = 1.609 * 10^11 m? · 3 years ago0 1 CommentMaybe you would like to learn more about one of these?Want to build a free website? Interested in dating sites?Need a Home Security Safe? How to order contacts online?\\n'"
      ]
     },
     "execution_count": 27,
     "metadata": {},
     "output_type": "execute_result"
    }
   ],
   "source": [
    "\" \".join(line.split(\"\\t\")[2:])"
   ]
  },
  {
   "cell_type": "code",
   "execution_count": 37,
   "metadata": {
    "ExecuteTime": {
     "end_time": "2019-07-11T12:54:25.158493Z",
     "start_time": "2019-07-11T12:50:08.807982Z"
    }
   },
   "outputs": [
    {
     "data": {
      "application/vnd.jupyter.widget-view+json": {
       "model_id": "7fb7ba3fca7c4a0db93ad824e5c25709",
       "version_major": 2,
       "version_minor": 0
      },
      "text/plain": [
       "HBox(children=(IntProgress(value=1, bar_style='info', max=1), HTML(value='')))"
      ]
     },
     "metadata": {},
     "output_type": "display_data"
    },
    {
     "name": "stdout",
     "output_type": "stream",
     "text": [
      "\n"
     ]
    }
   ],
   "source": [
    "docs_file = os.path.join(DATADIR, \"msmarco-docs.tsv\")\n",
    "lens  = []\n",
    "from tqdm import tqdm_notebook as tqdm\n",
    "for line in tqdm(open(docs_file, encoding=\"utf-8\")):\n",
    "    full_text = \" \".join(line.split(\"\\t\")[2:])\n",
    "    lens.append(len(full_text.split()))\n"
   ]
  },
  {
   "cell_type": "code",
   "execution_count": 38,
   "metadata": {
    "ExecuteTime": {
     "end_time": "2019-07-11T12:54:59.415478Z",
     "start_time": "2019-07-11T12:54:55.883900Z"
    }
   },
   "outputs": [
    {
     "data": {
      "text/plain": [
       "(1084.8807160292922, 551.0, 2324.2245817825396)"
      ]
     },
     "execution_count": 38,
     "metadata": {},
     "output_type": "execute_result"
    }
   ],
   "source": [
    "np.mean(lens), np.median(lens), np.std(lens)"
   ]
  },
  {
   "cell_type": "code",
   "execution_count": 43,
   "metadata": {
    "ExecuteTime": {
     "end_time": "2019-07-11T13:06:11.616200Z",
     "start_time": "2019-07-11T13:06:11.329547Z"
    }
   },
   "outputs": [],
   "source": [
    "%matplotlib inline\n",
    "from matplotlib import pyplot as plt \n",
    "lens = np.asarray(lens)"
   ]
  },
  {
   "cell_type": "code",
   "execution_count": 55,
   "metadata": {
    "ExecuteTime": {
     "end_time": "2019-07-11T13:07:57.027528Z",
     "start_time": "2019-07-11T13:07:56.974029Z"
    }
   },
   "outputs": [
    {
     "data": {
      "text/plain": [
       "551.0"
      ]
     },
     "execution_count": 55,
     "metadata": {},
     "output_type": "execute_result"
    }
   ],
   "source": [
    "np.median(lens)"
   ]
  },
  {
   "cell_type": "code",
   "execution_count": 60,
   "metadata": {
    "ExecuteTime": {
     "end_time": "2019-07-11T13:09:16.331572Z",
     "start_time": "2019-07-11T13:09:15.889663Z"
    }
   },
   "outputs": [],
   "source": [
    "lens_ = lens[lens<2000]"
   ]
  },
  {
   "cell_type": "code",
   "execution_count": 61,
   "metadata": {
    "ExecuteTime": {
     "end_time": "2019-07-11T13:09:19.071153Z",
     "start_time": "2019-07-11T13:09:18.711468Z"
    }
   },
   "outputs": [
    {
     "data": {
      "text/plain": [
       "(array([42276., 38806., 44514., 54142., 62180., 64484., 66520., 64897.,\n",
       "        66221., 65962., 63913., 64070., 64885., 63347., 62866., 62001.,\n",
       "        62560., 61689., 60450., 57545., 57366., 56386., 57287., 54486.,\n",
       "        52975., 53428., 51962., 50282., 48188., 46790., 44802., 44421.,\n",
       "        41417., 38779., 37560., 35667., 34282., 33352., 31765., 30375.,\n",
       "        28805., 27754., 26648., 25467., 24599., 23902., 22813., 22398.,\n",
       "        21828., 20944., 20161., 19441., 18717., 18121., 17173., 16502.,\n",
       "        15979., 15424., 14519., 14484., 14089., 13720., 13046., 12903.,\n",
       "        12229., 12023., 11482., 10838., 10513., 10286., 10125.,  9797.,\n",
       "         9830.,  9052.,  9040.,  8843.,  8469.,  8284.,  8187.,  7875.,\n",
       "         7625.,  7392.,  7209.,  7040.,  7036.,  6765.,  6709.,  6574.,\n",
       "         6369.,  6011.,  6081.,  5885.,  5879.,  5641.,  5567.,  5486.,\n",
       "         5395.,  5373.,  5117.,  5043.]),\n",
       " array([   0.  ,   19.99,   39.98,   59.97,   79.96,   99.95,  119.94,\n",
       "         139.93,  159.92,  179.91,  199.9 ,  219.89,  239.88,  259.87,\n",
       "         279.86,  299.85,  319.84,  339.83,  359.82,  379.81,  399.8 ,\n",
       "         419.79,  439.78,  459.77,  479.76,  499.75,  519.74,  539.73,\n",
       "         559.72,  579.71,  599.7 ,  619.69,  639.68,  659.67,  679.66,\n",
       "         699.65,  719.64,  739.63,  759.62,  779.61,  799.6 ,  819.59,\n",
       "         839.58,  859.57,  879.56,  899.55,  919.54,  939.53,  959.52,\n",
       "         979.51,  999.5 , 1019.49, 1039.48, 1059.47, 1079.46, 1099.45,\n",
       "        1119.44, 1139.43, 1159.42, 1179.41, 1199.4 , 1219.39, 1239.38,\n",
       "        1259.37, 1279.36, 1299.35, 1319.34, 1339.33, 1359.32, 1379.31,\n",
       "        1399.3 , 1419.29, 1439.28, 1459.27, 1479.26, 1499.25, 1519.24,\n",
       "        1539.23, 1559.22, 1579.21, 1599.2 , 1619.19, 1639.18, 1659.17,\n",
       "        1679.16, 1699.15, 1719.14, 1739.13, 1759.12, 1779.11, 1799.1 ,\n",
       "        1819.09, 1839.08, 1859.07, 1879.06, 1899.05, 1919.04, 1939.03,\n",
       "        1959.02, 1979.01, 1999.  ]),\n",
       " <a list of 100 Patch objects>)"
      ]
     },
     "execution_count": 61,
     "metadata": {},
     "output_type": "execute_result"
    },
    {
     "data": {
      "image/png": "[encoded data removed]",
      "text/plain": [
       "<Figure size 432x288 with 1 Axes>"
      ]
     },
     "metadata": {
      "needs_background": "light"
     },
     "output_type": "display_data"
    }
   ],
   "source": [
    "# plt.plot(np.histogram(lens))\n",
    "plt.hist(lens_, bins=100)"
   ]
  }
 ],
 "metadata": {
  "kernelspec": {
   "display_name": "Python 3",
   "language": "python",
   "name": "python3"
  },
  "language_info": {
   "codemirror_mode": {
    "name": "ipython",
    "version": 3
   },
   "file_extension": ".py",
   "mimetype": "text/x-python",
   "name": "python",
   "nbconvert_exporter": "python",
   "pygments_lexer": "ipython3",
   "version": "3.7.3"
  }
 },
 "nbformat": 4,
 "nbformat_minor": 2
}
