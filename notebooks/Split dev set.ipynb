{
 "cells": [
  {
   "cell_type": "code",
   "execution_count": 58,
   "metadata": {
    "ExecuteTime": {
     "end_time": "2019-09-10T09:35:23.791912Z",
     "start_time": "2019-09-10T09:35:23.710800Z"
    }
   },
   "outputs": [],
   "source": [
    "import sys\n",
    "%reload_ext autoreload\n",
    "%autoreload 2\n",
    "sys.path.insert(0, \"/ssd2/arthur/TREC2019/scripts/\")\n",
    "from args_parser import getArgs\n",
    "from tqdm.autonotebook import tqdm\n",
    "import os\n",
    "import random\n",
    "\n",
    "data_dir = \"/ssd2/arthur/TREC2019/data\"\n",
    "dev_file = os.path.join(data_dir, \"dev-triples.top100\")\n",
    "queries_file = os.path.join(data_dir, \"msmarco-docdev-queries.tsv\")\n",
    "\n",
    "new_dev_file = os.path.join(data_dir, \"new_dev-triples.top100\")\n",
    "new_test_file = os.path.join(data_dir, \"new_test-triples.top100\")"
   ]
  },
  {
   "cell_type": "code",
   "execution_count": 59,
   "metadata": {
    "ExecuteTime": {
     "end_time": "2019-09-10T09:35:24.572557Z",
     "start_time": "2019-09-10T09:35:24.499525Z"
    }
   },
   "outputs": [],
   "source": [
    "all_queries = []\n",
    "with open(queries_file) as inf:\n",
    "    for line in inf:\n",
    "        all_queries.append(line.split(\"\\t\")[0])\n",
    "new_dev_ammount = int(.7*len(all_queries))\n",
    "random.shuffle(all_queries)\n",
    "new_dev = set(all_queries[:new_dev_ammount])\n",
    "new_test = set(all_queries[new_dev_ammount:])\n",
    "\n",
    "assert len(new_dev) + len(new_test) ==  len(all_queries)"
   ]
  },
  {
   "cell_type": "code",
   "execution_count": 60,
   "metadata": {
    "ExecuteTime": {
     "end_time": "2019-09-10T09:35:37.572412Z",
     "start_time": "2019-09-10T09:35:25.798017Z"
    }
   },
   "outputs": [
    {
     "data": {
      "application/vnd.jupyter.widget-view+json": {
       "model_id": "10df5dd8a5e347dcba6cc0ac4990fc53",
       "version_major": 2,
       "version_minor": 0
      },
      "text/plain": [
       "HBox(children=(IntProgress(value=0, max=519300), HTML(value='')))"
      ]
     },
     "metadata": {},
     "output_type": "display_data"
    },
    {
     "name": "stdout",
     "output_type": "stream",
     "text": [
      "\n"
     ]
    }
   ],
   "source": [
    "with open(dev_file) as inf, open(new_dev_file, 'w') as devf, open(new_test_file, 'w') as testf:\n",
    "    for line in tqdm(inf, total=len(all_queries)*100):\n",
    "        guid, _, label = line.split(\"\\t\")\n",
    "        topic_id, doc_id = guid.split(\"-\")\n",
    "        if topic_id in new_dev:\n",
    "            devf.write(line)\n",
    "        else:\n",
    "            testf.write(line)"
   ]
  },
  {
   "cell_type": "code",
   "execution_count": 61,
   "metadata": {
    "ExecuteTime": {
     "end_time": "2019-09-10T09:35:38.306859Z",
     "start_time": "2019-09-10T09:35:37.575802Z"
    }
   },
   "outputs": [],
   "source": [
    "run_file = \"/ssd2/arthur/insy/msmarco/data/msmarco-docdev-top100\"\n",
    "new_dev_runfile = os.path.join(data_dir, \"new_dev_docdev-top100\")\n",
    "new_test_runfile = os.path.join(data_dir, \"new_test_docdev-top100\")\n",
    "with open(run_file) as inf, open(new_dev_runfile, 'w') as devf, open(new_test_runfile, 'w') as testf:\n",
    "    for line in inf:\n",
    "        topic_id = line.split()[0]\n",
    "        if topic_id in new_dev:\n",
    "            devf.write(line)\n",
    "        else:\n",
    "            testf.write(line)\n",
    "    "
   ]
  },
  {
   "cell_type": "code",
   "execution_count": 70,
   "metadata": {
    "ExecuteTime": {
     "end_time": "2019-09-10T11:48:25.459008Z",
     "start_time": "2019-09-10T11:48:25.384564Z"
    }
   },
   "outputs": [],
   "source": [
    "qrels_file = \"/ssd2/arthur/TREC2019/data/msmarco-docdev-qrels.tsv\"\n",
    "new_dev_qrels = \"/ssd2/arthur/TREC2019/data/new_dev_docdev-qrels.tsv\"\n",
    "new_test_qrels = \"/ssd2/arthur/TREC2019/data/new_test_doctest-qrels.tsv\"\n",
    "\n",
    "with open(qrels_file) as inf, open(new_dev_qrels, 'w') as devf, open(new_test_qrels, 'w') as testf:\n",
    "    for line in inf:\n",
    "        topic_id = line.split()[0]\n",
    "        if topic_id in new_dev:\n",
    "            devf.write(line)\n",
    "        else:\n",
    "            testf.write(line)"
   ]
  },
  {
   "cell_type": "code",
   "execution_count": 7,
   "metadata": {
    "ExecuteTime": {
     "end_time": "2019-09-12T14:27:40.070757Z",
     "start_time": "2019-09-12T14:27:40.064119Z"
    }
   },
   "outputs": [
    {
     "data": {
      "text/plain": [
       "[1, 2]"
      ]
     },
     "execution_count": 7,
     "metadata": {},
     "output_type": "execute_result"
    }
   ],
   "source": [
    "import random\n",
    "a = [1,2,3,4,5]\n",
    "random.sample(a, 2)"
   ]
  },
  {
   "cell_type": "code",
   "execution_count": 24,
   "metadata": {
    "ExecuteTime": {
     "end_time": "2019-09-12T14:38:23.056656Z",
     "start_time": "2019-09-12T14:38:23.050521Z"
    }
   },
   "outputs": [
    {
     "data": {
      "text/plain": [
       "99"
      ]
     },
     "execution_count": 24,
     "metadata": {},
     "output_type": "execute_result"
    }
   ],
   "source": [
    "len(neg_docs_per_query[topic_id])"
   ]
  },
  {
   "cell_type": "code",
   "execution_count": 25,
   "metadata": {
    "ExecuteTime": {
     "end_time": "2019-09-12T14:53:03.719698Z",
     "start_time": "2019-09-12T14:52:58.869493Z"
    }
   },
   "outputs": [],
   "source": [
    "neg_docs_per_query = defaultdict(lambda:set())\n",
    "doc_texts = {}\n",
    "# label_per_query = defaultdict(lambda:defaultdict(lambda:set()))\n",
    "for line in open(\"/ssd2/arthur/TREC2019/data/triples-tokenized/dev-triples.top100\", encoding=\"utf-8\"):\n",
    "    _id, text, label = line.strip().split(\"\\t\")\n",
    "    topic_id, doc_id = _id.split(\"-\")\n",
    "    if label == \"0\":\n",
    "        neg_docs_per_query[topic_id].add(doc_id)\n",
    "    if doc_id not in doc_texts:\n",
    "        doc_texts[doc_id] = text\n",
    "        "
   ]
  },
  {
   "cell_type": "code",
   "execution_count": null,
   "metadata": {},
   "outputs": [],
   "source": [
    "len()"
   ]
  },
  {
   "cell_type": "code",
   "execution_count": 32,
   "metadata": {
    "ExecuteTime": {
     "end_time": "2019-09-12T14:56:00.665455Z",
     "start_time": "2019-09-12T14:55:55.508405Z"
    }
   },
   "outputs": [],
   "source": [
    "from collections import defaultdict\n",
    "queries_to_be_used = set()\n",
    "doc_id_per_query = defaultdict(lambda:set())\n",
    "docs_for_this_topic = []\n",
    "text_per_doc = {}\n",
    "label_per_doc = {}\n",
    "previous_topic = -1\n",
    "with open(\"../data/triples-tokenized/fulldev-triples.10neg\", 'w', encoding=\"utf-8\") as outf:\n",
    "    for line in open(\"/ssd2/arthur/TREC2019/data/triples-tokenized/dev-triples.top100\", encoding=\"utf-8\"):\n",
    "        _id, text, label = line.strip().split(\"\\t\")\n",
    "        topic_id, doc_id = _id.split(\"-\")\n",
    "        if label == '1':\n",
    "            docs_to_keep = random.sample(neg_docs_per_query[topic_id], 10)\n",
    "            outf.write(line)\n",
    "            for doc in docs_to_keep:\n",
    "                line = \"{}-{}\\t{}\\t{}\\n\".format(topic_id, doc, doc_texts[doc], \"0\")\n",
    "                outf.write(line)\n",
    "# #         if doc_id not in text_per_doc:\n",
    "# #             text_per_doc[doc_id]=text\n",
    "# #             label_per_doc[doc_id] = label\n",
    "# #         if topic_id != previous_topic:\n",
    "# #             if previous_topic==-1:\n",
    "# #                 previous_topic = topic_id\n",
    "# #                 continue\n",
    "# #             break\n",
    "        \n",
    "#             #pick 10 random to keep\n",
    "#             docs_to_keep = random.sample(docs_for_this_topic, 10)\n",
    "#             for doc in docs_to_keep:\n",
    "#                 line = \"{}-{}\\t{}\\t{}\\n\".format(topic_id, doc, text_per_doc[doc], label_per_doc[doc])\n",
    "#             label_per_doc = {}\n",
    "#             docs_for_this_topic = []\n",
    "#         docs_for_this_topic.append(doc_id)\n",
    "#         previous_topic = topic_id"
   ]
  },
  {
   "cell_type": "code",
   "execution_count": 14,
   "metadata": {
    "ExecuteTime": {
     "end_time": "2019-09-12T14:31:44.028476Z",
     "start_time": "2019-09-12T14:31:44.024054Z"
    }
   },
   "outputs": [],
   "source": [
    "docs_to_keep = random.sample(docs_for_this_topic, 10)"
   ]
  },
  {
   "cell_type": "code",
   "execution_count": null,
   "metadata": {},
   "outputs": [],
   "source": [
    "label"
   ]
  },
  {
   "cell_type": "code",
   "execution_count": 19,
   "metadata": {
    "ExecuteTime": {
     "end_time": "2019-09-12T14:32:24.906744Z",
     "start_time": "2019-09-12T14:32:24.901080Z"
    }
   },
   "outputs": [
    {
     "name": "stdout",
     "output_type": "stream",
     "text": [
      "320792-D2023672\t['[CLS]', 'does', 'xp', '##ress', 'bet', 'charge', 'to', 'deposit', 'money', 'in', 'your', 'account', '[SEP]', 'd', '##20', '##23', '##6', '##7', '##2', 'https', ':', '/', '/', 'www', '.', 'the', '##balance', '.', 'com', '/', 'how', '-', 'long', '-', 'to', '-', 'wait', '-', 'after', '-', 'deposit', '##ing', '-', 'a', '-', 'check', '-', '315', '##00', '##6', 'how', 'long', 'to', 'wait', 'after', 'deposit', '##ing', 'a', 'check', 'banking', 'and', 'loans', 'banking', 'basics', '##how', 'long', 'to', 'wait', 'after', 'deposit', '##ing', 'a', 'check', '##how', 'long', 'does', 'it', 'take', 'for', 'a', 'check', 'to', 'bounce', '?', 'share', 'flip', 'pin', 'email', 'â¢', 'â¢', 'â¢', 'by', 'justin', 'pri', '##tch', '##ard', 'updated', 'april', '10', ',', '2018', '##w', '##hen', 'you', 'deposit', 'a', 'check', ',', 'neither', 'you', 'nor', 'your', 'bank', 'know', 'if', 'the', 'check', 'is', 'going', 'to', 'bounce', '.', 'it', 'â', 's', 'wise', 'to', 'wait', 'a', 'few', 'days', 'before', 'spending', 'the', 'money', ',', 'but', 'how', 'long', 'is', 'long', 'enough', 'â', 'and', 'what', 'can', 'you', 'do', 'to', 'protect', 'yourself', 'from', 'bad', 'checks', '?', 'for', 'starters', ',', 'don', 'â', 't', 'assume', 'you', 'â', 're', 'in', 'the', 'clear', ',', 'even', 'if', 'your', 'bank', 'lets', 'you', 'spend', 'money', 'from', 'a', 'deposit', '.', 'funds', 'availability', 'rules', '##you', '##r', 'bank', 'allows', 'you', 'to', 'spend', 'money', 'from', 'most', 'deposits', 'shortly', 'after', 'you', 'deposit', 'a', 'check', '.', 'but', 'that', 'doesn', 'â', 't', 'mean', 'that', 'the', 'check', 'is', 'good', 'or', 'that', 'your', 'bank', 'actually', 'received', 'funds', 'from', 'another', 'bank', '.', 'banks', 'are', 'required', 'by', 'law', 'to', 'make', 'a', 'portion', 'of', 'your', 'deposit', 'available', 'to', 'you', '.', 'unless', 'there', 'are', 'clear', 'signs', 'of', 'fraud', '(', 'or', 'other', 'problems', ')', ',', 'banks', 'follow', 'a', 'funds', 'availability', 'policy', ',', 'which', 'details', 'how', 'soon', 'you', 'can', 'use', 'your', 'money', '.', 'in', 'many', 'cases', ',', 'the', 'first', '$', '200', 'from', 'personal', 'checks', 'is', 'available', 'within', 'one', 'day', ',', 'and', 'your', 'bank', 'â', 'holds', 'â', 'the', 'remainder', 'for', 'several', 'more', 'days', '.', 'it', 'might', 'be', 'helpful', 'to', 'use', 'two', 'different', 'categories', 'to', 'understand', 'when', 'you', 'can', 'spend', 'money', ':', 'typical', 'situations', ',', 'when', 'you', 'have', 'no', 'reason', 'to', 'worry', 'about', 'a', 'check', 'that', 'you', 'deposited', '##sus', '##pic', '##ious', 'circumstances', ',', 'when', 'you', 'don', 'â', 't', 'know', 'or', 'don', 'â', 't', 'trust', 'the', 'check', 'writer', '##how', 'long', 'does', 'it', 'take', 'for', 'a', 'check', 'to', 'clear', '?', 'checks', 'typically', 'take', 'two', 'to', 'three', 'business', 'days', 'to', 'clear', '.', 'banks', 'make', 'funds', 'available', 'before', 'checks', 'actually', 'clear', ',', 'but', 'there', 'are', 'limits', 'on', 'how', 'much', 'you', 'can', 'withdraw', 'or', 'spend', '.', 'in', 'most', 'cases', ',', '100', 'percent', 'of', 'the', 'money', 'will', 'be', 'available', 'faster', 'than', 'your', 'bank', 'â', 's', 'hold', 'policy', 'allows', 'for', '.', 'it', 'â', 's', 'your', 'problem', ':', 'you', 'are', 'always', 'responsible', 'for', 'deposits', 'you', 'make', 'into', 'your', 'account', '.', 'even', 'if', 'your', 'bank', 'lets', 'you', 'walk', 'away', 'with', 'cash', 'or', 'transfer', 'money', 'out', ',', 'you', 'might', 'have', 'to', 'replace', 'that', 'money', 'later', 'if', 'the', 'deposited', 'check', 'bounce', '##s', '.', 'define', 'â', 'clear', 'â', ':', 'the', 'term', 'â', 'clear', 'â', 'can', 'be', 'confusing', ',', 'and', 'bank', 'employees', 'may', 'tell', 'you', 'a', 'check', 'has', 'cleared', 'before', 'it', 'really', 'has', '.', 'to', 'be', 'safe', ',', 'find', 'out', 'precisely', 'when', 'money', 'transfers', 'from', 'the', 'check', 'writer', 'â', '[SEP]']\t0\n",
      "\n",
      "\n"
     ]
    }
   ],
   "source": [
    "for doc in docs_to_keep:\n",
    "    line = \"{}-{}\\t{}\\t{}\\n\".format(topic_id, doc, text_per_doc[doc], label_per_doc[doc])\n",
    "    print(line)\n",
    "    break"
   ]
  }
 ],
 "metadata": {
  "kernelspec": {
   "display_name": "Python 3",
   "language": "python",
   "name": "python3"
  },
  "language_info": {
   "codemirror_mode": {
    "name": "ipython",
    "version": 3
   },
   "file_extension": ".py",
   "mimetype": "text/x-python",
   "name": "python",
   "nbconvert_exporter": "python",
   "pygments_lexer": "ipython3",
   "version": "3.7.3"
  }
 },
 "nbformat": 4,
 "nbformat_minor": 2
}
