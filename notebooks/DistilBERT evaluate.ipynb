{
 "cells": [
  {
   "cell_type": "code",
   "execution_count": 1,
   "metadata": {
    "ExecuteTime": {
     "end_time": "2019-09-17T05:48:40.199847Z",
     "start_time": "2019-09-17T05:48:39.260759Z"
    }
   },
   "outputs": [],
   "source": [
    "import pytorch_transformers\n",
    "import sys\n",
    "import torch\n",
    "%load_ext autoreload\n",
    "%autoreload 2\n",
    "sys.path.insert(0, \"/ssd2/arthur/TREC2019/scripts/\")\n",
    "from msmarco_dataset import MsMarcoDataset\n",
    "from args_parser import getArgs\n",
    "from torch.utils.data import DataLoader\n",
    "import os\n",
    "from tqdm.autonotebook import tqdm                         \n",
    "from sklearn.metrics import f1_score, average_precision_score, accuracy_score\n",
    "import numpy as np"
   ]
  },
  {
   "cell_type": "code",
   "execution_count": 2,
   "metadata": {
    "ExecuteTime": {
     "end_time": "2019-09-17T05:48:46.560075Z",
     "start_time": "2019-09-17T05:48:42.264267Z"
    }
   },
   "outputs": [],
   "source": [
    "from pytorch_transformers import DistilBertForSequenceClassification\n",
    "model = DistilBertForSequenceClassification.from_pretrained(\"/ssd2/arthur/TREC2019/data/models/distilbert-LNC2/\")"
   ]
  },
  {
   "cell_type": "code",
   "execution_count": 3,
   "metadata": {
    "ExecuteTime": {
     "end_time": "2019-09-17T05:48:48.667177Z",
     "start_time": "2019-09-17T05:48:47.351956Z"
    }
   },
   "outputs": [
    {
     "data": {
      "application/vnd.jupyter.widget-view+json": {
       "model_id": "8bba491657304b1b9a552520891c0e01",
       "version_major": 2,
       "version_minor": 0
      },
      "text/plain": [
       "HBox(children=(IntProgress(value=1, bar_style='info', description='Counting lines on file...', max=1, style=Pr…"
      ]
     },
     "metadata": {},
     "output_type": "display_data"
    },
    {
     "name": "stdout",
     "output_type": "stream",
     "text": [
      "\n"
     ]
    }
   ],
   "source": [
    "data_dir = \"/ssd2/arthur/TREC2019/data\"\n",
    "\n",
    "labeled=False\n",
    "# datasets = [\"fulldev\", \"dev\", \"test\"]\n",
    "datasets_names = [\"LNC2_test\"]\n",
    "\n",
    "batch_size = 1024\n",
    "dataloaders = {}\n",
    "datasets = {}\n",
    "\n",
    "for dataset in datasets_names:\n",
    "    _file=os.path.join(data_dir, \"triples-tokenized\", \"{}-triples.top100.no_label\".format(dataset))\n",
    "    assert os.path.isfile(_file)\n",
    "    datasets[dataset] = MsMarcoDataset(_file, data_dir, distil=True, invert_label=True, force=False, labeled=labeled)\n",
    "    dataloaders[dataset] = DataLoader(datasets[dataset], batch_size=batch_size, shuffle=False)"
   ]
  },
  {
   "cell_type": "code",
   "execution_count": 4,
   "metadata": {
    "ExecuteTime": {
     "end_time": "2019-09-17T05:48:53.837224Z",
     "start_time": "2019-09-17T05:48:51.569545Z"
    }
   },
   "outputs": [],
   "source": [
    "seed = 42\n",
    "gpus_to_use = [0, 1, 2, 3, 4, 6, 7]\n",
    "torch.cuda.manual_seed_all(seed)\n",
    "n_gpu = torch.cuda.device_count()\n",
    "device = torch.device(\"cuda\" if (torch.cuda.is_available() and n_gpu > 0) else \"cpu\")\n",
    "model = torch.nn.DataParallel(model, device_ids=gpus_to_use)\n",
    "model = model.to(device)"
   ]
  },
  {
   "cell_type": "code",
   "execution_count": 9,
   "metadata": {
    "ExecuteTime": {
     "end_time": "2019-09-17T05:49:43.254896Z",
     "start_time": "2019-09-17T05:49:43.223610Z"
    }
   },
   "outputs": [
    {
     "data": {
      "text/plain": [
       "1"
      ]
     },
     "execution_count": 9,
     "metadata": {},
     "output_type": "execute_result"
    }
   ],
   "source": [
    "len(outputs)"
   ]
  },
  {
   "cell_type": "code",
   "execution_count": 42,
   "metadata": {
    "ExecuteTime": {
     "end_time": "2019-09-17T06:29:20.337750Z",
     "start_time": "2019-09-17T06:29:20.301279Z"
    }
   },
   "outputs": [
    {
     "data": {
      "text/plain": [
       "array([9.8120734e-05, 2.7500890e-04, 7.0199691e-05, ..., 2.0665339e-06,\n",
       "       4.0093551e-06, 2.6199716e-06], dtype=float32)"
      ]
     },
     "execution_count": 42,
     "metadata": {},
     "output_type": "execute_result"
    }
   ],
   "source": [
    "softmax(torch.as_tensor(_preds))[:,0].cpu().numpy()"
   ]
  },
  {
   "cell_type": "code",
   "execution_count": 44,
   "metadata": {
    "ExecuteTime": {
     "end_time": "2019-09-17T06:29:43.305572Z",
     "start_time": "2019-09-17T06:29:43.268832Z"
    }
   },
   "outputs": [],
   "source": [
    "preds[dataset] = softmax(torch.as_tensor(_preds))[:,0].cpu().numpy()"
   ]
  },
  {
   "cell_type": "code",
   "execution_count": 17,
   "metadata": {
    "ExecuteTime": {
     "end_time": "2019-09-17T06:09:03.874168Z",
     "start_time": "2019-09-17T06:02:29.660238Z"
    },
    "scrolled": true
   },
   "outputs": [
    {
     "data": {
      "application/vnd.jupyter.widget-view+json": {
       "model_id": "3960d89cc52949cd8a4ee9e7bb857e3f",
       "version_major": 2,
       "version_minor": 0
      },
      "text/plain": [
       "HBox(children=(IntProgress(value=0, description='LNC2_test Dataset', max=153, style=ProgressStyle(description_…"
      ]
     },
     "metadata": {},
     "output_type": "display_data"
    },
    {
     "name": "stdout",
     "output_type": "stream",
     "text": [
      "1024\n",
      "2048\n",
      "3072\n",
      "4096\n",
      "5120\n",
      "6144\n",
      "7168\n",
      "8192\n",
      "9216\n",
      "10240\n",
      "11264\n",
      "12288\n",
      "13312\n",
      "14336\n",
      "15360\n",
      "16384\n",
      "17408\n",
      "18432\n",
      "19456\n",
      "20480\n",
      "21504\n",
      "22528\n",
      "23552\n",
      "24576\n",
      "25600\n",
      "26624\n",
      "27648\n",
      "28672\n",
      "29696\n",
      "30720\n",
      "31744\n",
      "32768\n",
      "33792\n",
      "34816\n",
      "35840\n",
      "36864\n",
      "37888\n",
      "38912\n",
      "39936\n",
      "40960\n",
      "41984\n",
      "43008\n",
      "44032\n",
      "45056\n",
      "46080\n",
      "47104\n",
      "48128\n",
      "49152\n",
      "50176\n",
      "51200\n",
      "52224\n",
      "53248\n",
      "54272\n",
      "55296\n",
      "56320\n",
      "57344\n",
      "58368\n",
      "59392\n",
      "60416\n",
      "61440\n",
      "62464\n",
      "63488\n",
      "64512\n",
      "65536\n",
      "66560\n",
      "67584\n",
      "68608\n",
      "69632\n",
      "70656\n",
      "71680\n",
      "72704\n",
      "73728\n",
      "74752\n",
      "75776\n",
      "76800\n",
      "77824\n",
      "78848\n",
      "79872\n",
      "80896\n",
      "81920\n",
      "82944\n",
      "83968\n",
      "84992\n",
      "86016\n",
      "87040\n",
      "88064\n",
      "89088\n",
      "90112\n",
      "91136\n",
      "92160\n",
      "93184\n",
      "94208\n",
      "95232\n",
      "96256\n",
      "97280\n",
      "98304\n",
      "99328\n",
      "100352\n",
      "101376\n",
      "102400\n",
      "103424\n",
      "104448\n",
      "105472\n",
      "106496\n",
      "107520\n",
      "108544\n",
      "109568\n",
      "110592\n",
      "111616\n",
      "112640\n",
      "113664\n",
      "114688\n",
      "115712\n",
      "116736\n",
      "117760\n",
      "118784\n",
      "119808\n",
      "120832\n",
      "121856\n",
      "122880\n",
      "123904\n",
      "124928\n",
      "125952\n",
      "126976\n",
      "128000\n",
      "129024\n",
      "130048\n",
      "131072\n",
      "132096\n",
      "133120\n",
      "134144\n",
      "135168\n",
      "136192\n",
      "137216\n",
      "138240\n",
      "139264\n",
      "140288\n",
      "141312\n",
      "142336\n",
      "143360\n",
      "144384\n",
      "145408\n",
      "146432\n",
      "147456\n",
      "148480\n",
      "149504\n",
      "150528\n",
      "151552\n",
      "152576\n",
      "153600\n",
      "154624\n",
      "155648\n",
      "155800\n"
     ]
    }
   ],
   "source": [
    "import torch\n",
    "softmax = torch.nn.Softmax(dim=1)\n",
    "\n",
    "preds = {}\n",
    "for dataset in datasets_names:\n",
    "    eval_loss = 0.0\n",
    "    nb_eval_steps = 0\n",
    "    preds[dataset] = None\n",
    "    out_label_ids = 0\n",
    "    _preds = None\n",
    "#     if os.path.isfile(os.path.join(data_dir, 'predictions', '{}_no_label.distilBERT.tensor'.format(dataset))):\n",
    "#         preds[dataset] = torch.load(os.path.join(data_dir, 'predictions', '{}_distilBERT.tensor'.format(dataset)))\n",
    "#         preds[dataset] = list(softmax(torch.as_tensor(preds[dataset]))[:, 0].cpu().numpy())\n",
    "#         continue\n",
    "    dataloader = dataloaders[dataset]\n",
    "    for index, batch in tqdm(enumerate(dataloader), desc=\"{} Dataset\".format(dataset), total = len(dataloader)):\n",
    "        model.eval()\n",
    "        with torch.no_grad():\n",
    "            if labeled:\n",
    "                inputs = {'input_ids': batch[0].to(device),\n",
    "                          'attention_mask': batch[1].to(device),\n",
    "                          'labels': batch[3].to(device)}\n",
    "            else:\n",
    "                inputs = {'input_ids': batch[0].to(device),\n",
    "                          'attention_mask': batch[1].to(device)}\n",
    "            outputs = model(**inputs)\n",
    "            if labeled:\n",
    "                tmp_eval_loss, logits = outputs[:2]\n",
    "                eval_loss+=tmp_eval_loss.mean().item()\n",
    "                nb_eval_steps+=1\n",
    "            else:\n",
    "                logits = outputs[0]\n",
    "\n",
    "            if _preds is None:\n",
    "                _preds = logits.detach().cpu().numpy()\n",
    "                if labeled:\n",
    "                    out_label_ids = inputs['labels'].detach().cpu().numpy().flatten()\n",
    "\n",
    "            else:\n",
    "                batch_predictions = logits.detach().cpu().numpy()\n",
    "                _preds = np.append(_preds, batch_predictions, axis=0)\n",
    "                if labeled:\n",
    "                    batch_ground_truth = inputs['labels'].detach().cpu().numpy().flatten()\n",
    "                    out_label_ids = np.append(out_label_ids, inputs['labels'].detach().cpu().numpy().flatten(), axis=0)\n",
    "                    if index%50 == 0:\n",
    "                        print(\"\\taccuracy: {}\".format(accuracy_score(batch_ground_truth, np.argmax(batch_predictions, axis=1))))\n",
    "                        print(\"\\tf1_score: {}\".format(f1_score(batch_ground_truth, np.argmax(batch_predictions, axis=1))))\n",
    "    \n",
    "        print(len(_preds))\n",
    "    if labeled:\n",
    "        assert len(_preds) == len(out_label_ids)\n",
    "    torch.save(_preds, os.path.join(data_dir, 'predictions', '{}_no_label.distilBERT.tensor'.format(dataset)))\n",
    "    preds[dataset] = softmax(torch.as_tensor(_preds))[:,0].cpu().numpy()"
   ]
  },
  {
   "cell_type": "code",
   "execution_count": 22,
   "metadata": {
    "ExecuteTime": {
     "end_time": "2019-09-17T06:11:47.532786Z",
     "start_time": "2019-09-17T06:11:47.498039Z"
    }
   },
   "outputs": [
    {
     "data": {
      "text/plain": [
       "{'LNC2_test': <msmarco_dataset.MsMarcoDataset at 0x7f2921142cc0>}"
      ]
     },
     "execution_count": 22,
     "metadata": {},
     "output_type": "execute_result"
    }
   ],
   "source": [
    "datasets"
   ]
  },
  {
   "cell_type": "code",
   "execution_count": 23,
   "metadata": {
    "ExecuteTime": {
     "end_time": "2019-09-17T06:12:12.957216Z",
     "start_time": "2019-09-17T06:12:10.028276Z"
    }
   },
   "outputs": [
    {
     "data": {
      "application/vnd.jupyter.widget-view+json": {
       "model_id": "b167ee5d516b44958f9e727c703429e9",
       "version_major": 2,
       "version_minor": 0
      },
      "text/plain": [
       "HBox(children=(IntProgress(value=0, description='reading run file', max=155800, style=ProgressStyle(descriptio…"
      ]
     },
     "metadata": {},
     "output_type": "display_data"
    },
    {
     "data": {
      "application/vnd.jupyter.widget-view+json": {
       "model_id": "9375265eec684e089d35f7259466a8d2",
       "version_major": 2,
       "version_minor": 0
      },
      "text/plain": [
       "HBox(children=(IntProgress(value=0, description='normalizing', max=1558, style=ProgressStyle(description_width…"
      ]
     },
     "metadata": {},
     "output_type": "display_data"
    },
    {
     "name": "stdout",
     "output_type": "stream",
     "text": [
      "155800\n"
     ]
    }
   ],
   "source": [
    "#load QL scores and normalize\n",
    "\n",
    "from collections import defaultdict\n",
    "ql_scores = defaultdict(lambda:defaultdict(lambda:[]))\n",
    "ordered_topics = defaultdict(lambda:[])\n",
    "scores_per_topic = defaultdict(lambda:defaultdict(lambda:[]))\n",
    "for dataset in datasets_names:\n",
    "    QL_run_file = \"/ssd2/arthur/TREC2019/data/runs/LNC2_indri.run\".format(dataset)\n",
    "    last_topic = None\n",
    "    normalized_scores = []\n",
    "\n",
    "    with open(QL_run_file, 'r') as inf:\n",
    "        for counter, line in tqdm(enumerate(inf), desc=\"reading run file\", total=len(datasets[dataset])):\n",
    "            [topic_id, _, doc_id, _, score, _] = line.split()\n",
    "            if topic_id not in ordered_topics[dataset]:\n",
    "                ordered_topics[dataset].append(topic_id)\n",
    "            scores_per_topic[dataset][topic_id].append((doc_id, score))\n",
    "    #normalize\n",
    "    for _id in tqdm(scores_per_topic[dataset], desc=\"normalizing\"):\n",
    "        _scores = np.asarray([float(x[1]) for x in scores_per_topic[dataset][_id]])\n",
    "        normalized_scores = (_scores - np.min(_scores))/np.ptp(_scores)\n",
    "        for (did, _), score in zip(scores_per_topic[dataset][_id], normalized_scores):\n",
    "            guid = \"{}-{}\".format(_id, did)\n",
    "            ql_scores[dataset][guid] = score\n",
    "print(len(ql_scores[\"LNC2_test\"]))"
   ]
  },
  {
   "cell_type": "code",
   "execution_count": 35,
   "metadata": {
    "ExecuteTime": {
     "end_time": "2019-09-17T06:26:38.565901Z",
     "start_time": "2019-09-17T06:26:38.487094Z"
    }
   },
   "outputs": [
    {
     "data": {
      "text/plain": [
       "[{'topic_id': '201376',\n",
       "  'doc_id': 'D238341LNC2',\n",
       "  'score': array([1., 1.], dtype=float32)},\n",
       " {'topic_id': '201376',\n",
       "  'doc_id': 'D238339LNC2',\n",
       "  'score': array([0.5343249, 0.5343249], dtype=float32)},\n",
       " {'topic_id': '201376',\n",
       "  'doc_id': 'D2244630LNC2',\n",
       "  'score': array([0.48666337, 0.48666337], dtype=float32)},\n",
       " {'topic_id': '201376',\n",
       "  'doc_id': 'D353952',\n",
       "  'score': array([0.46096182, 0.46096182], dtype=float32)},\n",
       " {'topic_id': '201376',\n",
       "  'doc_id': 'D954478LNC2',\n",
       "  'score': array([0.37722692, 0.37722692], dtype=float32)},\n",
       " {'topic_id': '201376',\n",
       "  'doc_id': 'D238338',\n",
       "  'score': array([0.30867624, 0.30867624], dtype=float32)},\n",
       " {'topic_id': '201376',\n",
       "  'doc_id': 'D2244630',\n",
       "  'score': array([0.29501238, 0.29501238], dtype=float32)},\n",
       " {'topic_id': '201376',\n",
       "  'doc_id': 'D1665757LNC2',\n",
       "  'score': array([0.29168072, 0.29168072], dtype=float32)},\n",
       " {'topic_id': '201376',\n",
       "  'doc_id': 'D2529805',\n",
       "  'score': array([0.2889043, 0.2889043], dtype=float32)},\n",
       " {'topic_id': '201376',\n",
       "  'doc_id': 'D2274850',\n",
       "  'score': array([0.27838704, 0.27838704], dtype=float32)},\n",
       " {'topic_id': '201376',\n",
       "  'doc_id': 'D2128012LNC2',\n",
       "  'score': array([0.27137333, 0.27137333], dtype=float32)},\n",
       " {'topic_id': '201376',\n",
       "  'doc_id': 'D3287453',\n",
       "  'score': array([0.2613981, 0.2613981], dtype=float32)},\n",
       " {'topic_id': '201376',\n",
       "  'doc_id': 'D238340',\n",
       "  'score': array([0.2602479, 0.2602479], dtype=float32)},\n",
       " {'topic_id': '201376',\n",
       "  'doc_id': 'D2244631',\n",
       "  'score': array([0.24138159, 0.24138159], dtype=float32)},\n",
       " {'topic_id': '201376',\n",
       "  'doc_id': 'D2230546',\n",
       "  'score': array([0.21473475, 0.21473475], dtype=float32)},\n",
       " {'topic_id': '201376',\n",
       "  'doc_id': 'D3339196LNC2',\n",
       "  'score': array([0.20379442, 0.20379442], dtype=float32)},\n",
       " {'topic_id': '201376',\n",
       "  'doc_id': 'D3524226',\n",
       "  'score': array([0.19585523, 0.19585523], dtype=float32)},\n",
       " {'topic_id': '201376',\n",
       "  'doc_id': 'D2167357LNC2',\n",
       "  'score': array([0.19582218, 0.19582218], dtype=float32)},\n",
       " {'topic_id': '201376',\n",
       "  'doc_id': 'D2393740',\n",
       "  'score': array([0.19320443, 0.19320443], dtype=float32)},\n",
       " {'topic_id': '201376',\n",
       "  'doc_id': 'D2414737LNC2',\n",
       "  'score': array([0.18968765, 0.18968765], dtype=float32)},\n",
       " {'topic_id': '201376',\n",
       "  'doc_id': 'D3165342',\n",
       "  'score': array([0.1878235, 0.1878235], dtype=float32)},\n",
       " {'topic_id': '201376',\n",
       "  'doc_id': 'D3036805',\n",
       "  'score': array([0.18121302, 0.18121302], dtype=float32)},\n",
       " {'topic_id': '201376',\n",
       "  'doc_id': 'D2854771',\n",
       "  'score': array([0.1793687, 0.1793687], dtype=float32)},\n",
       " {'topic_id': '201376',\n",
       "  'doc_id': 'D1039381',\n",
       "  'score': array([0.17480747, 0.17480747], dtype=float32)},\n",
       " {'topic_id': '201376',\n",
       "  'doc_id': 'D2202794LNC2',\n",
       "  'score': array([0.16003966, 0.16003966], dtype=float32)},\n",
       " {'topic_id': '201376',\n",
       "  'doc_id': 'D2229112',\n",
       "  'score': array([0.15650305, 0.15650305], dtype=float32)},\n",
       " {'topic_id': '201376',\n",
       "  'doc_id': 'D520942',\n",
       "  'score': array([0.15407701, 0.15407701], dtype=float32)},\n",
       " {'topic_id': '201376',\n",
       "  'doc_id': 'D2085065LNC2',\n",
       "  'score': array([0.15126756, 0.15126756], dtype=float32)},\n",
       " {'topic_id': '201376',\n",
       "  'doc_id': 'D1422621',\n",
       "  'score': array([0.14871591, 0.14871591], dtype=float32)},\n",
       " {'topic_id': '201376',\n",
       "  'doc_id': 'D2443327',\n",
       "  'score': array([0.14430672, 0.14430672], dtype=float32)},\n",
       " {'topic_id': '201376',\n",
       "  'doc_id': 'D238341',\n",
       "  'score': array([0.1439101, 0.1439101], dtype=float32)},\n",
       " {'topic_id': '201376',\n",
       "  'doc_id': 'D2167356',\n",
       "  'score': array([0.14160965, 0.14160965], dtype=float32)},\n",
       " {'topic_id': '201376',\n",
       "  'doc_id': 'D3127258LNC2',\n",
       "  'score': array([0.1407569, 0.1407569], dtype=float32)},\n",
       " {'topic_id': '201376',\n",
       "  'doc_id': 'D3165338',\n",
       "  'score': array([0.13733928, 0.13733928], dtype=float32)},\n",
       " {'topic_id': '201376',\n",
       "  'doc_id': 'D2414736',\n",
       "  'score': array([0.1340671, 0.1340671], dtype=float32)},\n",
       " {'topic_id': '201376',\n",
       "  'doc_id': 'D2590444',\n",
       "  'score': array([0.13382252, 0.13382252], dtype=float32)},\n",
       " {'topic_id': '201376',\n",
       "  'doc_id': 'D1279535',\n",
       "  'score': array([0.13143612, 0.13143612], dtype=float32)},\n",
       " {'topic_id': '201376',\n",
       "  'doc_id': 'D301835',\n",
       "  'score': array([0.13057016, 0.13057016], dtype=float32)},\n",
       " {'topic_id': '201376',\n",
       "  'doc_id': 'D1957348LNC2',\n",
       "  'score': array([0.13033879, 0.13033879], dtype=float32)},\n",
       " {'topic_id': '201376',\n",
       "  'doc_id': 'D350275',\n",
       "  'score': array([0.12318625, 0.12318625], dtype=float32)},\n",
       " {'topic_id': '201376',\n",
       "  'doc_id': 'D1665757',\n",
       "  'score': array([0.12052223, 0.12052223], dtype=float32)},\n",
       " {'topic_id': '201376',\n",
       "  'doc_id': 'D293692LNC2',\n",
       "  'score': array([0.11963642, 0.11963642], dtype=float32)},\n",
       " {'topic_id': '201376',\n",
       "  'doc_id': 'D2280292',\n",
       "  'score': array([0.11731615, 0.11731615], dtype=float32)},\n",
       " {'topic_id': '201376',\n",
       "  'doc_id': 'D742342LNC2',\n",
       "  'score': array([0.11016361, 0.11016361], dtype=float32)},\n",
       " {'topic_id': '201376',\n",
       "  'doc_id': 'D2661125',\n",
       "  'score': array([0.10661379, 0.10661379], dtype=float32)},\n",
       " {'topic_id': '201376',\n",
       "  'doc_id': 'D546039',\n",
       "  'score': array([0.10632953, 0.10632953], dtype=float32)},\n",
       " {'topic_id': '201376',\n",
       "  'doc_id': 'D1972027',\n",
       "  'score': array([0.1039167, 0.1039167], dtype=float32)},\n",
       " {'topic_id': '201376',\n",
       "  'doc_id': 'D85817',\n",
       "  'score': array([0.09904478, 0.09904478], dtype=float32)},\n",
       " {'topic_id': '201376',\n",
       "  'doc_id': 'D238337',\n",
       "  'score': array([0.09755743, 0.09755743], dtype=float32)},\n",
       " {'topic_id': '201376',\n",
       "  'doc_id': 'D3436043LNC2',\n",
       "  'score': array([0.09347215, 0.09347215], dtype=float32)},\n",
       " {'topic_id': '201376',\n",
       "  'doc_id': 'D338719',\n",
       "  'score': array([0.08625351, 0.08625351], dtype=float32)},\n",
       " {'topic_id': '201376',\n",
       "  'doc_id': 'D2110232LNC2',\n",
       "  'score': array([0.08623368, 0.08623368], dtype=float32)},\n",
       " {'topic_id': '201376',\n",
       "  'doc_id': 'D2125853',\n",
       "  'score': array([0.08565857, 0.08565857], dtype=float32)},\n",
       " {'topic_id': '201376',\n",
       "  'doc_id': 'D338716',\n",
       "  'score': array([0.08378119, 0.08378119], dtype=float32)},\n",
       " {'topic_id': '201376',\n",
       "  'doc_id': 'D1219812',\n",
       "  'score': array([0.08335152, 0.08335152], dtype=float32)},\n",
       " {'topic_id': '201376',\n",
       "  'doc_id': 'D848691LNC2',\n",
       "  'score': array([0.08078004, 0.08078004], dtype=float32)},\n",
       " {'topic_id': '201376',\n",
       "  'doc_id': 'D1745387LNC2',\n",
       "  'score': array([0.07978846, 0.07978846], dtype=float32)},\n",
       " {'topic_id': '201376',\n",
       "  'doc_id': 'D2640021',\n",
       "  'score': array([0.07750124, 0.07750124], dtype=float32)},\n",
       " {'topic_id': '201376',\n",
       "  'doc_id': 'D2049966LNC2',\n",
       "  'score': array([0.07444059, 0.07444059], dtype=float32)},\n",
       " {'topic_id': '201376',\n",
       "  'doc_id': 'D79239',\n",
       "  'score': array([0.06172864, 0.06172864], dtype=float32)},\n",
       " {'topic_id': '201376',\n",
       "  'doc_id': 'D2085065',\n",
       "  'score': array([0.06158321, 0.06158321], dtype=float32)},\n",
       " {'topic_id': '201376',\n",
       "  'doc_id': 'D2994542',\n",
       "  'score': array([0.05599736, 0.05599736], dtype=float32)},\n",
       " {'topic_id': '201376',\n",
       "  'doc_id': 'D1943589LNC2',\n",
       "  'score': array([0.0555214, 0.0555214], dtype=float32)},\n",
       " {'topic_id': '201376',\n",
       "  'doc_id': 'D2205966',\n",
       "  'score': array([0.05267229, 0.05267229], dtype=float32)},\n",
       " {'topic_id': '201376',\n",
       "  'doc_id': 'D2414737',\n",
       "  'score': array([0.04773426, 0.04773426], dtype=float32)},\n",
       " {'topic_id': '201376',\n",
       "  'doc_id': 'D3339196',\n",
       "  'score': array([0.0473178, 0.0473178], dtype=float32)},\n",
       " {'topic_id': '201376',\n",
       "  'doc_id': 'D3030881LNC2',\n",
       "  'score': array([0.04538093, 0.04538093], dtype=float32)},\n",
       " {'topic_id': '201376',\n",
       "  'doc_id': 'D1915482',\n",
       "  'score': array([0.04136176, 0.04136176], dtype=float32)},\n",
       " {'topic_id': '201376',\n",
       "  'doc_id': 'D3371456',\n",
       "  'score': array([0.04064783, 0.04064783], dtype=float32)},\n",
       " {'topic_id': '201376',\n",
       "  'doc_id': 'D2206732',\n",
       "  'score': array([0.03648984, 0.03648984], dtype=float32)},\n",
       " {'topic_id': '201376',\n",
       "  'doc_id': 'D2698956LNC2',\n",
       "  'score': array([0.0350818, 0.0350818], dtype=float32)},\n",
       " {'topic_id': '201376',\n",
       "  'doc_id': 'D3033602LNC2',\n",
       "  'score': array([0.03393158, 0.03393158], dtype=float32)},\n",
       " {'topic_id': '201376',\n",
       "  'doc_id': 'D1189834',\n",
       "  'score': array([0.03292679, 0.03292679], dtype=float32)},\n",
       " {'topic_id': '201376',\n",
       "  'doc_id': 'D2125852',\n",
       "  'score': array([0.03163113, 0.03163113], dtype=float32)},\n",
       " {'topic_id': '201376',\n",
       "  'doc_id': 'D3100869',\n",
       "  'score': array([0.03155842, 0.03155842], dtype=float32)},\n",
       " {'topic_id': '201376',\n",
       "  'doc_id': 'D2365047',\n",
       "  'score': array([0.03108908, 0.03108908], dtype=float32)},\n",
       " {'topic_id': '201376',\n",
       "  'doc_id': 'D1358997',\n",
       "  'score': array([0.02704346, 0.02704346], dtype=float32)},\n",
       " {'topic_id': '201376',\n",
       "  'doc_id': 'D261408',\n",
       "  'score': array([0.02607833, 0.02607833], dtype=float32)},\n",
       " {'topic_id': '201376',\n",
       "  'doc_id': 'D346857LNC2',\n",
       "  'score': array([0.02398281, 0.02398281], dtype=float32)},\n",
       " {'topic_id': '201376',\n",
       "  'doc_id': 'D1110518',\n",
       "  'score': array([0.02248885, 0.02248885], dtype=float32)},\n",
       " {'topic_id': '201376',\n",
       "  'doc_id': 'D543113LNC2',\n",
       "  'score': array([0.02188729, 0.02188729], dtype=float32)},\n",
       " {'topic_id': '201376',\n",
       "  'doc_id': 'D1567440',\n",
       "  'score': array([0.02149066, 0.02149066], dtype=float32)},\n",
       " {'topic_id': '201376',\n",
       "  'doc_id': 'D1457113LNC2',\n",
       "  'score': array([0.02010907, 0.02010907], dtype=float32)},\n",
       " {'topic_id': '201376',\n",
       "  'doc_id': 'D2956504',\n",
       "  'score': array([0.01748471, 0.01748471], dtype=float32)},\n",
       " {'topic_id': '201376',\n",
       "  'doc_id': 'D2167359',\n",
       "  'score': array([0.01577921, 0.01577921], dtype=float32)},\n",
       " {'topic_id': '201376',\n",
       "  'doc_id': 'D2418064LNC2',\n",
       "  'score': array([0.01484713, 0.01484713], dtype=float32)},\n",
       " {'topic_id': '201376',\n",
       "  'doc_id': 'D2066362',\n",
       "  'score': array([0.01471492, 0.01471492], dtype=float32)},\n",
       " {'topic_id': '201376',\n",
       "  'doc_id': 'D2092333LNC2',\n",
       "  'score': array([0.01448356, 0.01448356], dtype=float32)},\n",
       " {'topic_id': '201376',\n",
       "  'doc_id': 'D293692',\n",
       "  'score': array([0.01115188, 0.01115188], dtype=float32)},\n",
       " {'topic_id': '201376',\n",
       "  'doc_id': 'D350274',\n",
       "  'score': array([0.0103454, 0.0103454], dtype=float32)},\n",
       " {'topic_id': '201376',\n",
       "  'doc_id': 'D1346229LNC2',\n",
       "  'score': array([0.01029912, 0.01029912], dtype=float32)},\n",
       " {'topic_id': '201376',\n",
       "  'doc_id': 'D2167360',\n",
       "  'score': array([0.0102859, 0.0102859], dtype=float32)},\n",
       " {'topic_id': '201376',\n",
       "  'doc_id': 'D812188',\n",
       "  'score': array([0.01006776, 0.01006776], dtype=float32)},\n",
       " {'topic_id': '201376',\n",
       "  'doc_id': 'D238339',\n",
       "  'score': array([0.00982978, 0.00982978], dtype=float32)},\n",
       " {'topic_id': '201376',\n",
       "  'doc_id': 'D3417319',\n",
       "  'score': array([0.00457445, 0.00457445], dtype=float32)},\n",
       " {'topic_id': '201376',\n",
       "  'doc_id': 'D2807886LNC2',\n",
       "  'score': array([0.00420426, 0.00420426], dtype=float32)},\n",
       " {'topic_id': '201376',\n",
       "  'doc_id': 'D954478',\n",
       "  'score': array([0.00407205, 0.00407205], dtype=float32)},\n",
       " {'topic_id': '201376',\n",
       "  'doc_id': 'D1645953',\n",
       "  'score': array([0.00177822, 0.00177822], dtype=float32)},\n",
       " {'topic_id': '201376',\n",
       "  'doc_id': 'D1062735',\n",
       "  'score': array([0.00039002, 0.00039002], dtype=float32)},\n",
       " {'topic_id': '201376',\n",
       "  'doc_id': 'D3295567LNC2',\n",
       "  'score': array([0., 0.], dtype=float32)}]"
      ]
     },
     "execution_count": 35,
     "metadata": {},
     "output_type": "execute_result"
    }
   ],
   "source": [
    "topic_results"
   ]
  },
  {
   "cell_type": "code",
   "execution_count": 46,
   "metadata": {
    "ExecuteTime": {
     "end_time": "2019-09-17T06:30:08.710560Z",
     "start_time": "2019-09-17T06:30:05.657644Z"
    },
    "scrolled": false
   },
   "outputs": [],
   "source": [
    "import subprocess\n",
    "import os\n",
    "trec_eval_path = \"/ssd2/arthur/trec_eval/trec_eval\"\n",
    "dev_qrel_path = \"/ssd2/arthur/TREC2019/data/qrels/dev_qrels\"\n",
    "cmd = \"{} -q -c {} {}\"\n",
    "map_cmd = \"{} -q -m map {} {}\"\n",
    "best_map = 0.0\n",
    "runs_format = \"{} Q0 {} {} {} DISTILBERT_QL\\n\" #topic_id, doc_id, ranking, score\n",
    "\n",
    "alphas = [0.0, 0.85, 1.0]\n",
    "for dataset in datasets:\n",
    "#     ql_run_file = os.path.join(\"/ssd2/arthur/TREC2019/data/runs/{}_QL.run\".format(dataset))\n",
    "    ql_run_file = os.path.join(\"/ssd2/arthur/TREC2019/data/runs/LNC2_indri.run\")\n",
    "    for alpha in alphas:\n",
    "        beta = 1-alpha\n",
    "        out_run_file = os.path.join(\"/ssd2/arthur/TREC2019/data/runs/{}_distilBert-{}.run\".format(dataset, alpha))\n",
    "        topic_results = [] \n",
    "        last_topic = -1\n",
    "        with open(ql_run_file, 'r') as inf, open(out_run_file, 'w') as outf:\n",
    "            for counter, (example, score) in enumerate(zip(inf, preds[dataset])):\n",
    "                topic_id, _, doc_id, _, _, _ = example.split()\n",
    "                guid = \"{}-{}\".format(topic_id, doc_id)\n",
    "                if topic_id != last_topic and len(topic_results) > 0:\n",
    "                    topic_results.sort(key=lambda x:x['score'], reverse=True)\n",
    "                    for rank, topic in enumerate(topic_results):\n",
    "                        outf.write(runs_format.format(topic['topic_id'], topic['doc_id'], rank, topic['score']))\n",
    "                    topic_results = []\n",
    "                topic_results.append({'topic_id':topic_id, 'doc_id':doc_id, 'score':alpha*score + beta*ql_scores[dataset][guid]})\n",
    "                last_topic = topic_id\n",
    "\n",
    "            #dump last topic\n",
    "            topic_results.sort(key=lambda x:x['score'], reverse=True)\n",
    "            for rank, topic in enumerate(topic_results):\n",
    "                outf.write(runs_format.format(topic['topic_id'], topic['doc_id'], rank, topic['score']))\n",
    "        \n",
    "        if labeled:\n",
    "            qrel_file = os.path.join(data_dir, 'qrels', '{}_qrels'.format(dataset))\n",
    "            result = subprocess.check_output(cmd.format(trec_eval_path, qrel_file , out_run_file).split()).decode('utf-8')\n",
    "            maps = subprocess.check_output(map_cmd.format(trec_eval_path, qrel_file, out_run_file).split()).decode('utf-8')\n",
    "            maps = [float(x.strip().split(\"\\t\")[-1]) for x in maps.split(\"\\n\") if len(x)>2]\n",
    "            _map = float(result.split(\"\\n\")[-26].split(\"\\t\")[-1])\n",
    "            print(\"\\talpha: {}\\t map: {}\".format(alpha, _map))\n",
    "            if _map > best_map:\n",
    "                best_map = _map\n",
    "                best_alpha = alpha\n"
   ]
  },
  {
   "cell_type": "code",
   "execution_count": null,
   "metadata": {},
   "outputs": [],
   "source": []
  }
 ],
 "metadata": {
  "kernelspec": {
   "display_name": "Python 3",
   "language": "python",
   "name": "python3"
  },
  "language_info": {
   "codemirror_mode": {
    "name": "ipython",
    "version": 3
   },
   "file_extension": ".py",
   "mimetype": "text/x-python",
   "name": "python",
   "nbconvert_exporter": "python",
   "pygments_lexer": "ipython3",
   "version": "3.7.3"
  }
 },
 "nbformat": 4,
 "nbformat_minor": 2
}
