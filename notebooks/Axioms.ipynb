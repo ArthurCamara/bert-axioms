{
 "cells": [
  {
   "cell_type": "markdown",
   "metadata": {},
   "source": [
    "## LNC2\n",
    "\n",
    "If a document is replicated k-times, its retrieval status value should not be lower than that of its un-replicated variant. \n",
    "To generate the dataset, generate documents that are k-times copied over and over again.                        "
   ]
  },
  {
   "cell_type": "code",
   "execution_count": 58,
   "metadata": {
    "ExecuteTime": {
     "end_time": "2019-09-10T16:25:17.989402Z",
     "start_time": "2019-09-10T16:24:41.245250Z"
    }
   },
   "outputs": [
    {
     "data": {
      "application/vnd.jupyter.widget-view+json": {
       "model_id": "5d8f0e8483ea4733af84a3e4a2855953",
       "version_major": 2,
       "version_minor": 0
      },
      "text/plain": [
       "HBox(children=(IntProgress(value=0, max=519300), HTML(value='')))"
      ]
     },
     "metadata": {},
     "output_type": "display_data"
    },
    {
     "ename": "KeyboardInterrupt",
     "evalue": "",
     "output_type": "error",
     "traceback": [
      "\u001b[0;31m---------------------------------------------------------------------------\u001b[0m",
      "\u001b[0;31mKeyboardInterrupt\u001b[0m                         Traceback (most recent call last)",
      "\u001b[0;32m<ipython-input-58-2a006133d74e>\u001b[0m in \u001b[0;36m<module>\u001b[0;34m\u001b[0m\n\u001b[1;32m      7\u001b[0m \u001b[0;32mwith\u001b[0m \u001b[0mopen\u001b[0m\u001b[0;34m(\u001b[0m\u001b[0mdev_file\u001b[0m\u001b[0;34m)\u001b[0m \u001b[0;32mas\u001b[0m \u001b[0minf\u001b[0m\u001b[0;34m:\u001b[0m\u001b[0;34m\u001b[0m\u001b[0;34m\u001b[0m\u001b[0m\n\u001b[1;32m      8\u001b[0m     \u001b[0;32mfor\u001b[0m \u001b[0mline\u001b[0m \u001b[0;32min\u001b[0m \u001b[0mtqdm\u001b[0m\u001b[0;34m(\u001b[0m\u001b[0minf\u001b[0m\u001b[0;34m,\u001b[0m \u001b[0mtotal\u001b[0m\u001b[0;34m=\u001b[0m\u001b[0;36m519300\u001b[0m\u001b[0;34m)\u001b[0m\u001b[0;34m:\u001b[0m\u001b[0;34m\u001b[0m\u001b[0;34m\u001b[0m\u001b[0m\n\u001b[0;32m----> 9\u001b[0;31m         \u001b[0mdoc\u001b[0m \u001b[0;34m=\u001b[0m \u001b[0meval\u001b[0m\u001b[0;34m(\u001b[0m\u001b[0mline\u001b[0m\u001b[0;34m.\u001b[0m\u001b[0msplit\u001b[0m\u001b[0;34m(\u001b[0m\u001b[0;34m\"\\t\"\u001b[0m\u001b[0;34m)\u001b[0m\u001b[0;34m[\u001b[0m\u001b[0;36m1\u001b[0m\u001b[0;34m]\u001b[0m\u001b[0;34m)\u001b[0m\u001b[0;34m\u001b[0m\u001b[0;34m\u001b[0m\u001b[0m\n\u001b[0m\u001b[1;32m     10\u001b[0m         \u001b[0;32mif\u001b[0m \u001b[0mlen\u001b[0m\u001b[0;34m(\u001b[0m\u001b[0mdoc\u001b[0m\u001b[0;34m)\u001b[0m\u001b[0;34m<\u001b[0m\u001b[0;36m512\u001b[0m\u001b[0;34m:\u001b[0m\u001b[0;34m\u001b[0m\u001b[0;34m\u001b[0m\u001b[0m\n\u001b[1;32m     11\u001b[0m             \u001b[0mshorter_documents_lens\u001b[0m\u001b[0;34m.\u001b[0m\u001b[0mappend\u001b[0m\u001b[0;34m(\u001b[0m\u001b[0mlen\u001b[0m\u001b[0;34m(\u001b[0m\u001b[0mdoc\u001b[0m\u001b[0;34m)\u001b[0m\u001b[0;34m)\u001b[0m\u001b[0;34m\u001b[0m\u001b[0;34m\u001b[0m\u001b[0m\n",
      "\u001b[0;32m<string>\u001b[0m in \u001b[0;36m<module>\u001b[0;34m\u001b[0m\n",
      "\u001b[0;31mKeyboardInterrupt\u001b[0m: "
     ]
    }
   ],
   "source": [
    "#How many documents has padding on them?\n",
    "import os\n",
    "from tqdm.autonotebook import tqdm\n",
    "data_dir = \"/ssd2/arthur/TREC2019/data\"\n",
    "dev_file = os.path.join(data_dir, \"dev-triples.top100\")\n",
    "shorter_documents_lens = []\n",
    "with open(dev_file) as inf:\n",
    "    for line in tqdm(inf, total=519300):\n",
    "        doc = eval(line.split(\"\\t\")[1])\n",
    "        if len(doc)<512:\n",
    "            shorter_documents_lens.append(len(doc))"
   ]
  },
  {
   "cell_type": "code",
   "execution_count": 32,
   "metadata": {
    "ExecuteTime": {
     "end_time": "2019-09-10T15:07:01.815081Z",
     "start_time": "2019-09-10T15:07:01.808354Z"
    }
   },
   "outputs": [
    {
     "data": {
      "text/plain": [
       "0.05712690159830541"
      ]
     },
     "execution_count": 32,
     "metadata": {},
     "output_type": "execute_result"
    }
   ],
   "source": [
    "len(shorter_documents_lens)/519300"
   ]
  },
  {
   "cell_type": "markdown",
   "metadata": {},
   "source": [
    "## TFC-1\n",
    "Given two documents, If a query term occours more in one than in the other, the first score should be higher than the second."
   ]
  },
  {
   "cell_type": "code",
   "execution_count": null,
   "metadata": {},
   "outputs": [],
   "source": [
    "!ls /ssd2/arthur/"
   ]
  },
  {
   "cell_type": "code",
   "execution_count": 41,
   "metadata": {
    "ExecuteTime": {
     "end_time": "2019-09-10T16:13:33.358480Z",
     "start_time": "2019-09-10T16:13:32.392801Z"
    }
   },
   "outputs": [],
   "source": [
    "#load query-doc pairs scores\n",
    "run_file = \"/ssd2/arthur/TREC2019/data/runs/bert_eval/distilBert-0.85.res\"\n",
    "scores = {}\n",
    "\n",
    "with open(run_file) as inf:\n",
    "    for line in inf:\n",
    "        topic_id, _, doc_id, _, score, _ = line.split()\n",
    "        pair_id = \"{}-{}\".format(topic_id, doc_id)\n",
    "        scores[pair_id] = float(score)"
   ]
  },
  {
   "cell_type": "code",
   "execution_count": 110,
   "metadata": {
    "ExecuteTime": {
     "end_time": "2019-09-10T16:48:28.557899Z",
     "start_time": "2019-09-10T16:48:28.551713Z"
    }
   },
   "outputs": [
    {
     "data": {
      "text/plain": [
       "2370"
      ]
     },
     "execution_count": 110,
     "metadata": {},
     "output_type": "execute_result"
    }
   ],
   "source": [
    "satisfies"
   ]
  },
  {
   "cell_type": "code",
   "execution_count": 112,
   "metadata": {
    "ExecuteTime": {
     "end_time": "2019-09-10T16:49:08.652672Z",
     "start_time": "2019-09-10T16:49:08.647232Z"
    }
   },
   "outputs": [
    {
     "data": {
      "text/plain": [
       "'320792'"
      ]
     },
     "execution_count": 112,
     "metadata": {},
     "output_type": "execute_result"
    }
   ],
   "source": [
    "last_topic_id"
   ]
  },
  {
   "cell_type": "code",
   "execution_count": 121,
   "metadata": {
    "ExecuteTime": {
     "end_time": "2019-09-10T16:54:24.759946Z",
     "start_time": "2019-09-10T16:52:23.771060Z"
    },
    "collapsed": true
   },
   "outputs": [
    {
     "data": {
      "application/vnd.jupyter.widget-view+json": {
       "model_id": "c4b2459e3a304bb5afe49d7853253096",
       "version_major": 2,
       "version_minor": 0
      },
      "text/plain": [
       "HBox(children=(IntProgress(value=0, max=519300), HTML(value='')))"
      ]
     },
     "metadata": {},
     "output_type": "display_data"
    },
    {
     "ename": "KeyboardInterrupt",
     "evalue": "",
     "output_type": "error",
     "traceback": [
      "\u001b[0;31m---------------------------------------------------------------------------\u001b[0m",
      "\u001b[0;31mKeyboardInterrupt\u001b[0m                         Traceback (most recent call last)",
      "\u001b[0;32m<ipython-input-121-4490d29183f7>\u001b[0m in \u001b[0;36m<module>\u001b[0;34m\u001b[0m\n\u001b[1;32m     13\u001b[0m         \u001b[0mtopic_id\u001b[0m\u001b[0;34m,\u001b[0m \u001b[0mdoc_id\u001b[0m \u001b[0;34m=\u001b[0m \u001b[0mline\u001b[0m\u001b[0;34m.\u001b[0m\u001b[0msplit\u001b[0m\u001b[0;34m(\u001b[0m\u001b[0;34m\"\\t\"\u001b[0m\u001b[0;34m)\u001b[0m\u001b[0;34m[\u001b[0m\u001b[0;36m0\u001b[0m\u001b[0;34m]\u001b[0m\u001b[0;34m.\u001b[0m\u001b[0msplit\u001b[0m\u001b[0;34m(\u001b[0m\u001b[0;34m\"-\"\u001b[0m\u001b[0;34m)\u001b[0m\u001b[0;34m\u001b[0m\u001b[0;34m\u001b[0m\u001b[0m\n\u001b[1;32m     14\u001b[0m         \u001b[0;32mif\u001b[0m \u001b[0mtopic_id\u001b[0m \u001b[0;34m!=\u001b[0m \u001b[0mlast_topic_id\u001b[0m \u001b[0;32mand\u001b[0m \u001b[0mlast_topic_id\u001b[0m \u001b[0;34m!=\u001b[0m\u001b[0;34m-\u001b[0m\u001b[0;36m1\u001b[0m\u001b[0;34m:\u001b[0m\u001b[0;34m\u001b[0m\u001b[0;34m\u001b[0m\u001b[0m\n\u001b[0;32m---> 15\u001b[0;31m             \u001b[0mtopic_candidates\u001b[0m\u001b[0;34m,\u001b[0m \u001b[0mtopic_satisfies\u001b[0m \u001b[0;34m=\u001b[0m \u001b[0mcheck_TFC1_single_topic\u001b[0m\u001b[0;34m(\u001b[0m\u001b[0mdocs\u001b[0m\u001b[0;34m,\u001b[0m \u001b[0mquery\u001b[0m\u001b[0;34m,\u001b[0m \u001b[0mlast_topic_id\u001b[0m\u001b[0;34m)\u001b[0m\u001b[0;34m\u001b[0m\u001b[0;34m\u001b[0m\u001b[0m\n\u001b[0m\u001b[1;32m     16\u001b[0m             \u001b[0mall_candidates\u001b[0m \u001b[0;34m+=\u001b[0m \u001b[0mtopic_candidates\u001b[0m\u001b[0;34m\u001b[0m\u001b[0;34m\u001b[0m\u001b[0m\n\u001b[1;32m     17\u001b[0m             \u001b[0msatisfies\u001b[0m \u001b[0;34m+=\u001b[0m \u001b[0mtopic_satisfies\u001b[0m\u001b[0;34m\u001b[0m\u001b[0;34m\u001b[0m\u001b[0m\n",
      "\u001b[0;32m<ipython-input-113-a46f19da587c>\u001b[0m in \u001b[0;36mcheck_TFC1_single_topic\u001b[0;34m(docs, query, last_topic_id)\u001b[0m\n\u001b[1;32m     18\u001b[0m                 \u001b[0;32mcontinue\u001b[0m\u001b[0;34m\u001b[0m\u001b[0;34m\u001b[0m\u001b[0m\n\u001b[1;32m     19\u001b[0m             \u001b[0mdj_terms\u001b[0m \u001b[0;34m=\u001b[0m \u001b[0mset\u001b[0m\u001b[0;34m(\u001b[0m\u001b[0mdj\u001b[0m\u001b[0;34m)\u001b[0m\u001b[0;34m\u001b[0m\u001b[0;34m\u001b[0m\u001b[0m\n\u001b[0;32m---> 20\u001b[0;31m             \u001b[0mdj_terms_counter\u001b[0m \u001b[0;34m=\u001b[0m \u001b[0mCounter\u001b[0m\u001b[0;34m(\u001b[0m\u001b[0mdj\u001b[0m\u001b[0;34m)\u001b[0m\u001b[0;34m\u001b[0m\u001b[0;34m\u001b[0m\u001b[0m\n\u001b[0m\u001b[1;32m     21\u001b[0m             \u001b[0mdj_pair_id\u001b[0m \u001b[0;34m=\u001b[0m \u001b[0;34m\"{}-{}\"\u001b[0m\u001b[0;34m.\u001b[0m\u001b[0mformat\u001b[0m\u001b[0;34m(\u001b[0m\u001b[0mlast_topic_id\u001b[0m\u001b[0;34m,\u001b[0m \u001b[0mdj_id\u001b[0m\u001b[0;34m)\u001b[0m\u001b[0;34m\u001b[0m\u001b[0;34m\u001b[0m\u001b[0m\n\u001b[1;32m     22\u001b[0m             \u001b[0msum_occurences_dj\u001b[0m \u001b[0;34m=\u001b[0m \u001b[0msum\u001b[0m\u001b[0;34m(\u001b[0m\u001b[0;34m[\u001b[0m\u001b[0mdj_terms_counter\u001b[0m\u001b[0;34m[\u001b[0m\u001b[0mterm\u001b[0m\u001b[0;34m]\u001b[0m \u001b[0;32mfor\u001b[0m \u001b[0mterm\u001b[0m \u001b[0;32min\u001b[0m \u001b[0mquery_terms\u001b[0m\u001b[0;34m]\u001b[0m\u001b[0;34m)\u001b[0m\u001b[0;34m\u001b[0m\u001b[0;34m\u001b[0m\u001b[0m\n",
      "\u001b[0;32m~/miniconda3/envs/bert/lib/python3.7/collections/__init__.py\u001b[0m in \u001b[0;36m__init__\u001b[0;34m(*args, **kwds)\u001b[0m\n\u001b[1;32m    564\u001b[0m             \u001b[0;32mraise\u001b[0m \u001b[0mTypeError\u001b[0m\u001b[0;34m(\u001b[0m\u001b[0;34m'expected at most 1 arguments, got %d'\u001b[0m \u001b[0;34m%\u001b[0m \u001b[0mlen\u001b[0m\u001b[0;34m(\u001b[0m\u001b[0margs\u001b[0m\u001b[0;34m)\u001b[0m\u001b[0;34m)\u001b[0m\u001b[0;34m\u001b[0m\u001b[0;34m\u001b[0m\u001b[0m\n\u001b[1;32m    565\u001b[0m         \u001b[0msuper\u001b[0m\u001b[0;34m(\u001b[0m\u001b[0mCounter\u001b[0m\u001b[0;34m,\u001b[0m \u001b[0mself\u001b[0m\u001b[0;34m)\u001b[0m\u001b[0;34m.\u001b[0m\u001b[0m__init__\u001b[0m\u001b[0;34m(\u001b[0m\u001b[0;34m)\u001b[0m\u001b[0;34m\u001b[0m\u001b[0;34m\u001b[0m\u001b[0m\n\u001b[0;32m--> 566\u001b[0;31m         \u001b[0mself\u001b[0m\u001b[0;34m.\u001b[0m\u001b[0mupdate\u001b[0m\u001b[0;34m(\u001b[0m\u001b[0;34m*\u001b[0m\u001b[0margs\u001b[0m\u001b[0;34m,\u001b[0m \u001b[0;34m**\u001b[0m\u001b[0mkwds\u001b[0m\u001b[0;34m)\u001b[0m\u001b[0;34m\u001b[0m\u001b[0;34m\u001b[0m\u001b[0m\n\u001b[0m\u001b[1;32m    567\u001b[0m \u001b[0;34m\u001b[0m\u001b[0m\n\u001b[1;32m    568\u001b[0m     \u001b[0;32mdef\u001b[0m \u001b[0m__missing__\u001b[0m\u001b[0;34m(\u001b[0m\u001b[0mself\u001b[0m\u001b[0;34m,\u001b[0m \u001b[0mkey\u001b[0m\u001b[0;34m)\u001b[0m\u001b[0;34m:\u001b[0m\u001b[0;34m\u001b[0m\u001b[0;34m\u001b[0m\u001b[0m\n",
      "\u001b[0;32m~/miniconda3/envs/bert/lib/python3.7/collections/__init__.py\u001b[0m in \u001b[0;36mupdate\u001b[0;34m(*args, **kwds)\u001b[0m\n\u001b[1;32m    651\u001b[0m                     \u001b[0msuper\u001b[0m\u001b[0;34m(\u001b[0m\u001b[0mCounter\u001b[0m\u001b[0;34m,\u001b[0m \u001b[0mself\u001b[0m\u001b[0;34m)\u001b[0m\u001b[0;34m.\u001b[0m\u001b[0mupdate\u001b[0m\u001b[0;34m(\u001b[0m\u001b[0miterable\u001b[0m\u001b[0;34m)\u001b[0m \u001b[0;31m# fast path when counter is empty\u001b[0m\u001b[0;34m\u001b[0m\u001b[0;34m\u001b[0m\u001b[0m\n\u001b[1;32m    652\u001b[0m             \u001b[0;32melse\u001b[0m\u001b[0;34m:\u001b[0m\u001b[0;34m\u001b[0m\u001b[0;34m\u001b[0m\u001b[0m\n\u001b[0;32m--> 653\u001b[0;31m                 \u001b[0m_count_elements\u001b[0m\u001b[0;34m(\u001b[0m\u001b[0mself\u001b[0m\u001b[0;34m,\u001b[0m \u001b[0miterable\u001b[0m\u001b[0;34m)\u001b[0m\u001b[0;34m\u001b[0m\u001b[0;34m\u001b[0m\u001b[0m\n\u001b[0m\u001b[1;32m    654\u001b[0m         \u001b[0;32mif\u001b[0m \u001b[0mkwds\u001b[0m\u001b[0;34m:\u001b[0m\u001b[0;34m\u001b[0m\u001b[0;34m\u001b[0m\u001b[0m\n\u001b[1;32m    655\u001b[0m             \u001b[0mself\u001b[0m\u001b[0;34m.\u001b[0m\u001b[0mupdate\u001b[0m\u001b[0;34m(\u001b[0m\u001b[0mkwds\u001b[0m\u001b[0;34m)\u001b[0m\u001b[0;34m\u001b[0m\u001b[0;34m\u001b[0m\u001b[0m\n",
      "\u001b[0;31mKeyboardInterrupt\u001b[0m: "
     ]
    }
   ],
   "source": [
    "#for each query, generate 99*100 pairs. \n",
    "delta = 3\n",
    "last_topic_id = -1\n",
    "docs = {}\n",
    "\n",
    "all_candidates = 0\n",
    "satisfies = 0\n",
    "with open(dev_file) as inf:\n",
    "    for index, line in tqdm(enumerate(inf), total=519300):\n",
    "        if index+1 % 10000 == 0:\n",
    "            print(satisfies/all_candidates)\n",
    "        topic_id, doc_id = line.split(\"\\t\")[0].split(\"-\")\n",
    "        if topic_id != last_topic_id and last_topic_id !=-1:\n",
    "            topic_candidates, topic_satisfies = check_TFC1_single_topic(docs, query, last_topic_id)\n",
    "            all_candidates += topic_candidates\n",
    "            satisfies += topic_satisfies\n",
    "            docs = {}\n",
    "        last_topic_id = topic_id\n",
    "        doc = eval(line.split(\"\\t\")[1])\n",
    "        sep_id = doc.index(\"[SEP]\")\n",
    "        document = doc[sep_id+1:-1]\n",
    "        docs[doc_id] = document\n",
    "        query = doc[1:sep_id]"
   ]
  },
  {
   "cell_type": "code",
   "execution_count": 113,
   "metadata": {
    "ExecuteTime": {
     "end_time": "2019-09-10T16:49:25.502882Z",
     "start_time": "2019-09-10T16:49:25.473369Z"
    }
   },
   "outputs": [
    {
     "ename": "KeyError",
     "evalue": "'320792-D3126539'",
     "output_type": "error",
     "traceback": [
      "\u001b[0;31m---------------------------------------------------------------------------\u001b[0m",
      "\u001b[0;31mKeyError\u001b[0m                                  Traceback (most recent call last)",
      "\u001b[0;32m<ipython-input-113-a46f19da587c>\u001b[0m in \u001b[0;36m<module>\u001b[0;34m\u001b[0m\n\u001b[1;32m     29\u001b[0m                 \u001b[0msatisfies\u001b[0m \u001b[0;34m+=\u001b[0m \u001b[0;36m1\u001b[0m\u001b[0;34m\u001b[0m\u001b[0;34m\u001b[0m\u001b[0m\n\u001b[1;32m     30\u001b[0m     \u001b[0;32mreturn\u001b[0m \u001b[0mnumber_of_candidates\u001b[0m\u001b[0;34m,\u001b[0m \u001b[0msatisfies\u001b[0m\u001b[0;34m\u001b[0m\u001b[0;34m\u001b[0m\u001b[0m\n\u001b[0;32m---> 31\u001b[0;31m \u001b[0mcheck_TFC1_single_topic\u001b[0m\u001b[0;34m(\u001b[0m\u001b[0mdocs\u001b[0m\u001b[0;34m,\u001b[0m \u001b[0mquery\u001b[0m\u001b[0;34m,\u001b[0m \u001b[0mlast_topic_id\u001b[0m\u001b[0;34m)\u001b[0m\u001b[0;34m\u001b[0m\u001b[0;34m\u001b[0m\u001b[0m\n\u001b[0m",
      "\u001b[0;32m<ipython-input-113-a46f19da587c>\u001b[0m in \u001b[0;36mcheck_TFC1_single_topic\u001b[0;34m(docs, query, last_topic_id)\u001b[0m\n\u001b[1;32m     26\u001b[0m             \u001b[0mnumber_of_candidates\u001b[0m\u001b[0;34m+=\u001b[0m\u001b[0;36m1\u001b[0m\u001b[0;34m\u001b[0m\u001b[0;34m\u001b[0m\u001b[0m\n\u001b[1;32m     27\u001b[0m             \u001b[0;31m# Satisfies. Check if score is also bigger.\u001b[0m\u001b[0;34m\u001b[0m\u001b[0;34m\u001b[0m\u001b[0;34m\u001b[0m\u001b[0m\n\u001b[0;32m---> 28\u001b[0;31m             \u001b[0;32mif\u001b[0m \u001b[0mscores\u001b[0m\u001b[0;34m[\u001b[0m\u001b[0mdi_pair_id\u001b[0m\u001b[0;34m]\u001b[0m \u001b[0;34m>\u001b[0m \u001b[0mscores\u001b[0m\u001b[0;34m[\u001b[0m\u001b[0mdj_pair_id\u001b[0m\u001b[0;34m]\u001b[0m\u001b[0;34m:\u001b[0m\u001b[0;34m\u001b[0m\u001b[0;34m\u001b[0m\u001b[0m\n\u001b[0m\u001b[1;32m     29\u001b[0m                 \u001b[0msatisfies\u001b[0m \u001b[0;34m+=\u001b[0m \u001b[0;36m1\u001b[0m\u001b[0;34m\u001b[0m\u001b[0;34m\u001b[0m\u001b[0m\n\u001b[1;32m     30\u001b[0m     \u001b[0;32mreturn\u001b[0m \u001b[0mnumber_of_candidates\u001b[0m\u001b[0;34m,\u001b[0m \u001b[0msatisfies\u001b[0m\u001b[0;34m\u001b[0m\u001b[0;34m\u001b[0m\u001b[0m\n",
      "\u001b[0;31mKeyError\u001b[0m: '320792-D3126539'"
     ]
    }
   ],
   "source": [
    "from collections import Counter\n",
    "\n",
    "def check_TFC1_single_topic(docs, query, last_topic_id):\n",
    "    number_of_candidates = 0\n",
    "    query_terms = set(query)\n",
    "    satisfies = 0\n",
    "    for di_id in docs.keys():\n",
    "        di = docs[di_id]\n",
    "        di_terms = set(di)\n",
    "        di_terms_counter = Counter(di)\n",
    "        di_pair_id = \"{}-{}\".format(last_topic_id, di_id)\n",
    "        sum_occurences_di = sum([di_terms_counter[term] for term in query_terms])\n",
    "        for dj_id in docs.keys():\n",
    "            if di_id == dj_id:\n",
    "                continue\n",
    "            dj = docs[dj_id]\n",
    "            if abs(len(di)-len(dj)) > delta:\n",
    "                continue\n",
    "            dj_terms = set(dj)\n",
    "            dj_terms_counter = Counter(dj)\n",
    "            dj_pair_id = \"{}-{}\".format(last_topic_id, dj_id)\n",
    "            sum_occurences_dj = sum([dj_terms_counter[term] for term in query_terms])\n",
    "            # does not satisfies axiom premisse\n",
    "            if sum_occurences_di <= sum_occurences_dj:\n",
    "                continue\n",
    "            number_of_candidates+=1\n",
    "            # Satisfies. Check if score is also bigger.\n",
    "            if scores[di_pair_id] > scores[dj_pair_id]:\n",
    "                satisfies += 1\n",
    "    return number_of_candidates, satisfies\n",
    "check_TFC1_single_topic(docs, query, last_topic_id)"
   ]
  },
  {
   "cell_type": "code",
   "execution_count": 59,
   "metadata": {
    "ExecuteTime": {
     "end_time": "2019-09-10T16:25:40.350802Z",
     "start_time": "2019-09-10T16:25:40.345673Z"
    }
   },
   "outputs": [
    {
     "name": "stdout",
     "output_type": "stream",
     "text": [
      "['what', 'is', 'det', '##ox', 'treatment', '[SEP]', 'd', '##8', '##16', '##27', '##7']\n"
     ]
    }
   ],
   "source": [
    "print(doc[1:sep_id])"
   ]
  },
  {
   "cell_type": "markdown",
   "metadata": {},
   "source": [
    "## TFC2"
   ]
  },
  {
   "cell_type": "code",
   "execution_count": 8,
   "metadata": {
    "ExecuteTime": {
     "end_time": "2019-09-13T12:17:03.769668Z",
     "start_time": "2019-09-13T12:17:02.605525Z"
    }
   },
   "outputs": [
    {
     "data": {
      "application/vnd.jupyter.widget-view+json": {
       "model_id": "004139bc572c414b8462db938a65004c",
       "version_major": 2,
       "version_minor": 0
      },
      "text/plain": [
       "HBox(children=(IntProgress(value=1, bar_style='info', description='reading file /ssd2/arthur/TREC2019/data/tri…"
      ]
     },
     "metadata": {},
     "output_type": "display_data"
    },
    {
     "name": "stdout",
     "output_type": "stream",
     "text": [
      "\n"
     ]
    }
   ],
   "source": [
    "import os\n",
    "from tqdm.auto import tqdm\n",
    "data_home = \"/ssd2/arthur/TREC2019/data/\"\n",
    "datasets = [\"fulldev\", \"dev\", \"test\"]\n",
    "methods = {\n",
    "    \"QL\": os.path.join(data_home, 'runs', \"{}_distilBert-0.0.run\"),\n",
    "    \"BERT\": os.path.join(data_home, 'runs', \"{}_distilBert-1.0.run\"),\n",
    "    \"QL+BERT\": os.path.join(data_home, 'runs', \"{}_distilBert-0.85.run\")\n",
    "}\n",
    "for method in methods.keys():\n",
    "    for dataset in datasets:\n",
    "        last_topic_id  = -1\n",
    "        docs = {}\n",
    "        scores = {}\n",
    "        \n",
    "        all_candidates = 0\n",
    "        satisifies = 0\n",
    "        query = None\n",
    "        run_file = methods[method].format(dataset)\n",
    "        for line in open(run_file):\n",
    "            topic_id, _, doc_id, _, score, _ = line.split()\n",
    "            pair_id = \"{}-{}\".format(topic_id, doc_id)\n",
    "            scores[pair_id] = float(score)\n",
    "        triples_file = os.path.join(data_home, 'triples-tokenized', '{}-triples.top100'.format(dataset))\n",
    "        for line in tqdm(open(triples_file), desc=\"reading file {}\".format(triples_file)):\n",
    "            topic_id, doc_id = line.split(\"\\t\")[0].split(\"-\")\n",
    "            if topic_id != last_topic_id and last_topic_id != -1:\n",
    "                break\n",
    "            last_topic_id = topic_id\n",
    "            doc = eval(line.split(\"\\t\")[1])\n",
    "            sep_id = doc.index(\"[SEP]\")\n",
    "            document = doc[sep_id+1:-1]\n",
    "            docs[doc_id] = document\n",
    "            query = doc[1:sep_id]\n",
    "        break\n",
    "    break\n",
    "            \n",
    "            \n"
   ]
  },
  {
   "cell_type": "code",
   "execution_count": 11,
   "metadata": {
    "ExecuteTime": {
     "end_time": "2019-09-13T12:19:54.405943Z",
     "start_time": "2019-09-13T12:19:54.400752Z"
    }
   },
   "outputs": [
    {
     "data": {
      "text/plain": [
       "'174249'"
      ]
     },
     "execution_count": 11,
     "metadata": {},
     "output_type": "execute_result"
    }
   ],
   "source": [
    "last_topic_id"
   ]
  },
  {
   "cell_type": "code",
   "execution_count": null,
   "metadata": {},
   "outputs": [],
   "source": []
  },
  {
   "cell_type": "code",
   "execution_count": null,
   "metadata": {},
   "outputs": [],
   "source": [
    "TF"
   ]
  },
  {
   "cell_type": "code",
   "execution_count": 28,
   "metadata": {
    "ExecuteTime": {
     "end_time": "2019-09-13T12:42:47.382120Z",
     "start_time": "2019-09-13T12:42:47.377107Z"
    }
   },
   "outputs": [
    {
     "data": {
      "text/plain": [
       "{'does', 'in', 'money', 'to'}"
      ]
     },
     "execution_count": 28,
     "metadata": {},
     "output_type": "execute_result"
    }
   ],
   "source": [
    "query_terms.intersection(TF_d3.keys())"
   ]
  },
  {
   "cell_type": "code",
   "execution_count": 62,
   "metadata": {
    "ExecuteTime": {
     "end_time": "2019-09-13T13:30:55.318334Z",
     "start_time": "2019-09-13T13:30:53.998286Z"
    }
   },
   "outputs": [
    {
     "data": {
      "application/vnd.jupyter.widget-view+json": {
       "model_id": "7370d3d45ad74b8f865e04188a1c6a2b",
       "version_major": 2,
       "version_minor": 0
      },
      "text/plain": [
       "HBox(children=(IntProgress(value=1, bar_style='info', max=1), HTML(value='')))"
      ]
     },
     "metadata": {},
     "output_type": "display_data"
    },
    {
     "name": "stdout",
     "output_type": "stream",
     "text": [
      "\n"
     ]
    }
   ],
   "source": [
    "from itertools import product\n",
    "from collections import Counter\n",
    "# def TFC2(docs, query, last_topic_id, scores):\n",
    "    #this is a three-way document comparison.\n",
    "number_of_candidates = 0\n",
    "query_terms = set(query)\n",
    "satisfies = 0\n",
    "delta = 4\n",
    "for d1_id, d2_id, d3_id in tqdm(product(docs.keys(), docs.keys(), docs.keys())):\n",
    "    if d1_id == d2_id or d2_id == d3_id or d1_id == d3_id:\n",
    "        continue\n",
    "    d1 = docs[d1_id]\n",
    "    TF_d1 = Counter(d1)\n",
    "\n",
    "    d2 = docs[d2_id]\n",
    "    TF_d2 = Counter(d2)\n",
    "    \n",
    "    d3 = docs[d3_id]\n",
    "    TF_d3 = Counter(d3)\n",
    "    # Every document must contain at least one query term\n",
    "    if len(query_terms.intersection(TF_d1)) < 1 or len(query_terms.intersection(TF_d2)) < 1 or len(query_terms.intersection(TF_d3)) < 1:\n",
    "        continue\n",
    "    # Doc lenghts should be within an acceptable range\n",
    "    if abs(len(d3) - len(d1)) > delta or abs(len(d2) - len(d1)) > delta or abs(len(d3) - len(d2)) > delta:\n",
    "        continue\n",
    "    \n",
    "    sum_TF_d1 = sum([TF_d1[w] for w in query_terms])\n",
    "    sum_TF_d2 = sum([TF_d2[w] for w in query_terms])\n",
    "    sum_TF_d3 = sum([TF_d3[w] for w in query_terms])\n",
    "    \n",
    "    if sum_TF_d3 <= sum_TF_d2 or sum_TF_d2 <= sum_TF_d1:\n",
    "        continue\n",
    "    for w in query_terms:\n",
    "        if (TF_d2[w] - TF_d1[w]) == (TF_d3[w] - TF_d2[w]):\n",
    "            continue\n",
    "    number_of_candidates += 1\n",
    "    d1_pair_id = \"{}-{}\".format(last_topic_id, d1_id)\n",
    "    d2_pair_id = \"{}-{}\".format(last_topic_id, d2_id)\n",
    "    d3_pair_id = \"{}-{}\".format(last_topic_id, d3_id)\n",
    "    if (scores[d2_pair_id]-scores[d1_pair_id]) > (scores[d3_pair_id] - scores[d2_pair_id]):\n",
    "        satisfies+=1\n",
    "        break\n",
    "    "
   ]
  },
  {
   "cell_type": "markdown",
   "metadata": {},
   "source": [
    "## M-TDC \n",
    "First, we need to compute IDFs on the corpus."
   ]
  },
  {
   "cell_type": "code",
   "execution_count": 64,
   "metadata": {
    "ExecuteTime": {
     "end_time": "2019-09-16T12:40:19.325402Z",
     "start_time": "2019-09-16T12:40:19.298912Z"
    }
   },
   "outputs": [],
   "source": [
    "import pickle\n",
    "IDFs = pickle.load(open(\"/ssd2/arthur/TREC2019/data/docs/IDFS/IDFS-FULL\", 'rb'))"
   ]
  },
  {
   "cell_type": "code",
   "execution_count": 66,
   "metadata": {
    "ExecuteTime": {
     "end_time": "2019-09-16T12:40:34.063711Z",
     "start_time": "2019-09-16T12:40:34.058826Z"
    }
   },
   "outputs": [
    {
     "data": {
      "text/plain": [
       "collections.Counter"
      ]
     },
     "execution_count": 66,
     "metadata": {},
     "output_type": "execute_result"
    }
   ],
   "source": []
  }
 ],
 "metadata": {
  "kernelspec": {
   "display_name": "Python 3",
   "language": "python",
   "name": "python3"
  },
  "language_info": {
   "codemirror_mode": {
    "name": "ipython",
    "version": 3
   },
   "file_extension": ".py",
   "mimetype": "text/x-python",
   "name": "python",
   "nbconvert_exporter": "python",
   "pygments_lexer": "ipython3",
   "version": "3.7.3"
  }
 },
 "nbformat": 4,
 "nbformat_minor": 2
}
